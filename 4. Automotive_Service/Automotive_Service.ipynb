{
 "cells": [
  {
   "cell_type": "markdown",
   "metadata": {},
   "source": [
    "# <center style='color:green'>Automotive Service Company : Case Study</center>"
   ]
  },
  {
   "cell_type": "markdown",
   "metadata": {},
   "source": [
    "# Problem Statement:\n",
    "A automotive service chain is launching its new grand service station this weekend.They offer to service a wide variety of cars.The current capacity of the station is to check 315 cars throughly per day.As an inaugural offer,they claim to freely check all cars that arrive on their launch day, and report them whether they need serviving or not!Unexpectedly,they got 450 cars.The service men won't work longer than working hours but data analyst have to!Can you save the day for new service station?\n",
    "\n",
    "![title](auto-repair-services-by-ace-auto-1024x521.png)\n",
    "\n",
    "# Dataset\n",
    "He has been a data set which contains some attributes of car that can easily measured and won't require much time and a conclusion that if service is needed for that or not -> serviceTrainData.csv<br/>\n",
    "Now for the cars they can't check in detail,they measure those attributes  -> serviceTestData.csv<br/>\n",
    "\n",
    "The Variables are:\n",
    "1. OilQual    : Oil quality\n",
    "2. EnginePerf : Engine Performance\n",
    "3. NormMileage: Normal Mileage\n",
    "4. TyreWear   : Tyre wear\n",
    "5. HVACwear   : Heating, ventilation, and air conditioning (HVAC)\n",
    "6. Service    : Service\n",
    "\n",
    "\n"
   ]
  },
  {
   "cell_type": "markdown",
   "metadata": {},
   "source": [
    "# <p style='color:green'>Solution/Approach:</p>"
   ]
  },
  {
   "cell_type": "markdown",
   "metadata": {},
   "source": [
    "### 1. Importing libraries:"
   ]
  },
  {
   "cell_type": "code",
   "execution_count": 1,
   "metadata": {},
   "outputs": [],
   "source": [
    "import pandas as pd\n",
    "import numpy as np\n",
    "import matplotlib.pyplot as plt\n",
    "%matplotlib inline"
   ]
  },
  {
   "cell_type": "markdown",
   "metadata": {},
   "source": [
    "### 2. Exploring Dataset:"
   ]
  },
  {
   "cell_type": "code",
   "execution_count": 2,
   "metadata": {},
   "outputs": [],
   "source": [
    "# reading csv files\n",
    "\n",
    "train=pd.read_csv('serviceTrainData.csv')\n",
    "test=pd.read_csv('serviceTestData.csv')"
   ]
  },
  {
   "cell_type": "code",
   "execution_count": 3,
   "metadata": {},
   "outputs": [
    {
     "data": {
      "text/plain": [
       "((315, 6), (135, 6))"
      ]
     },
     "execution_count": 3,
     "metadata": {},
     "output_type": "execute_result"
    }
   ],
   "source": [
    "# checking dimension\n",
    "\n",
    "train.shape,test.shape"
   ]
  },
  {
   "cell_type": "code",
   "execution_count": 4,
   "metadata": {},
   "outputs": [
    {
     "data": {
      "text/html": [
       "<div>\n",
       "<style scoped>\n",
       "    .dataframe tbody tr th:only-of-type {\n",
       "        vertical-align: middle;\n",
       "    }\n",
       "\n",
       "    .dataframe tbody tr th {\n",
       "        vertical-align: top;\n",
       "    }\n",
       "\n",
       "    .dataframe thead th {\n",
       "        text-align: right;\n",
       "    }\n",
       "</style>\n",
       "<table border=\"1\" class=\"dataframe\">\n",
       "  <thead>\n",
       "    <tr style=\"text-align: right;\">\n",
       "      <th></th>\n",
       "      <th>OilQual</th>\n",
       "      <th>EnginePerf</th>\n",
       "      <th>NormMileage</th>\n",
       "      <th>TyreWear</th>\n",
       "      <th>HVACwear</th>\n",
       "      <th>Service</th>\n",
       "    </tr>\n",
       "  </thead>\n",
       "  <tbody>\n",
       "    <tr>\n",
       "      <th>0</th>\n",
       "      <td>103.388821</td>\n",
       "      <td>103.504032</td>\n",
       "      <td>103.051485</td>\n",
       "      <td>106.172658</td>\n",
       "      <td>105.686843</td>\n",
       "      <td>No</td>\n",
       "    </tr>\n",
       "    <tr>\n",
       "      <th>1</th>\n",
       "      <td>26.765516</td>\n",
       "      <td>26.188265</td>\n",
       "      <td>31.259536</td>\n",
       "      <td>29.186162</td>\n",
       "      <td>31.311275</td>\n",
       "      <td>Yes</td>\n",
       "    </tr>\n",
       "    <tr>\n",
       "      <th>2</th>\n",
       "      <td>62.413282</td>\n",
       "      <td>63.681061</td>\n",
       "      <td>59.720883</td>\n",
       "      <td>64.704031</td>\n",
       "      <td>58.620518</td>\n",
       "      <td>Yes</td>\n",
       "    </tr>\n",
       "    <tr>\n",
       "      <th>3</th>\n",
       "      <td>45.533338</td>\n",
       "      <td>49.906615</td>\n",
       "      <td>48.777581</td>\n",
       "      <td>48.113851</td>\n",
       "      <td>47.952072</td>\n",
       "      <td>No</td>\n",
       "    </tr>\n",
       "    <tr>\n",
       "      <th>4</th>\n",
       "      <td>104.388821</td>\n",
       "      <td>103.284032</td>\n",
       "      <td>103.051485</td>\n",
       "      <td>105.822658</td>\n",
       "      <td>106.536843</td>\n",
       "      <td>No</td>\n",
       "    </tr>\n",
       "  </tbody>\n",
       "</table>\n",
       "</div>"
      ],
      "text/plain": [
       "      OilQual  EnginePerf  NormMileage    TyreWear    HVACwear Service\n",
       "0  103.388821  103.504032   103.051485  106.172658  105.686843      No\n",
       "1   26.765516   26.188265    31.259536   29.186162   31.311275     Yes\n",
       "2   62.413282   63.681061    59.720883   64.704031   58.620518     Yes\n",
       "3   45.533338   49.906615    48.777581   48.113851   47.952072      No\n",
       "4  104.388821  103.284032   103.051485  105.822658  106.536843      No"
      ]
     },
     "execution_count": 4,
     "metadata": {},
     "output_type": "execute_result"
    }
   ],
   "source": [
    "# first five rows\n",
    "\n",
    "train.head()"
   ]
  },
  {
   "cell_type": "code",
   "execution_count": 5,
   "metadata": {},
   "outputs": [
    {
     "data": {
      "text/plain": [
       "(Index(['OilQual', 'EnginePerf', 'NormMileage', 'TyreWear', 'HVACwear',\n",
       "        'Service'],\n",
       "       dtype='object'),\n",
       " Index(['OilQual', 'EnginePerf', 'NormMileage', 'TyreWear', 'HVACwear',\n",
       "        'Service'],\n",
       "       dtype='object'))"
      ]
     },
     "execution_count": 5,
     "metadata": {},
     "output_type": "execute_result"
    }
   ],
   "source": [
    "# checking columns or features\n",
    "\n",
    "train.columns,test.columns"
   ]
  },
  {
   "cell_type": "markdown",
   "metadata": {},
   "source": [
    "### 3. Variable Identification:"
   ]
  },
  {
   "cell_type": "code",
   "execution_count": 6,
   "metadata": {},
   "outputs": [
    {
     "data": {
      "text/plain": [
       "OilQual        float64\n",
       "EnginePerf     float64\n",
       "NormMileage    float64\n",
       "TyreWear       float64\n",
       "HVACwear       float64\n",
       "Service         object\n",
       "dtype: object"
      ]
     },
     "execution_count": 6,
     "metadata": {},
     "output_type": "execute_result"
    }
   ],
   "source": [
    "train.dtypes"
   ]
  },
  {
   "cell_type": "markdown",
   "metadata": {},
   "source": [
    "## <p style='color:red'>Observation:</p>\n",
    "1. OilQual,EnginePerf,NormMileage,TyreWear,HVACwear are continuous variables\n",
    "2. Service is categorical variable and this is the target variable"
   ]
  },
  {
   "cell_type": "markdown",
   "metadata": {},
   "source": [
    "### 4. Univariate Analysis:"
   ]
  },
  {
   "cell_type": "markdown",
   "metadata": {},
   "source": [
    "#### A. Continuous variable:"
   ]
  },
  {
   "cell_type": "code",
   "execution_count": 7,
   "metadata": {},
   "outputs": [
    {
     "data": {
      "text/html": [
       "<div>\n",
       "<style scoped>\n",
       "    .dataframe tbody tr th:only-of-type {\n",
       "        vertical-align: middle;\n",
       "    }\n",
       "\n",
       "    .dataframe tbody tr th {\n",
       "        vertical-align: top;\n",
       "    }\n",
       "\n",
       "    .dataframe thead th {\n",
       "        text-align: right;\n",
       "    }\n",
       "</style>\n",
       "<table border=\"1\" class=\"dataframe\">\n",
       "  <thead>\n",
       "    <tr style=\"text-align: right;\">\n",
       "      <th></th>\n",
       "      <th>OilQual</th>\n",
       "      <th>EnginePerf</th>\n",
       "      <th>NormMileage</th>\n",
       "      <th>TyreWear</th>\n",
       "      <th>HVACwear</th>\n",
       "    </tr>\n",
       "  </thead>\n",
       "  <tbody>\n",
       "    <tr>\n",
       "      <th>count</th>\n",
       "      <td>315.000000</td>\n",
       "      <td>315.000000</td>\n",
       "      <td>315.000000</td>\n",
       "      <td>315.000000</td>\n",
       "      <td>315.000000</td>\n",
       "    </tr>\n",
       "    <tr>\n",
       "      <th>mean</th>\n",
       "      <td>59.649297</td>\n",
       "      <td>60.305574</td>\n",
       "      <td>60.297214</td>\n",
       "      <td>61.758983</td>\n",
       "      <td>60.394734</td>\n",
       "    </tr>\n",
       "    <tr>\n",
       "      <th>std</th>\n",
       "      <td>37.702113</td>\n",
       "      <td>37.143496</td>\n",
       "      <td>35.980773</td>\n",
       "      <td>37.063963</td>\n",
       "      <td>38.571413</td>\n",
       "    </tr>\n",
       "    <tr>\n",
       "      <th>min</th>\n",
       "      <td>0.987185</td>\n",
       "      <td>1.891003</td>\n",
       "      <td>3.358986</td>\n",
       "      <td>6.213161</td>\n",
       "      <td>-1.719738</td>\n",
       "    </tr>\n",
       "    <tr>\n",
       "      <th>25%</th>\n",
       "      <td>26.765516</td>\n",
       "      <td>27.418265</td>\n",
       "      <td>31.259536</td>\n",
       "      <td>29.036162</td>\n",
       "      <td>31.336275</td>\n",
       "    </tr>\n",
       "    <tr>\n",
       "      <th>50%</th>\n",
       "      <td>59.663282</td>\n",
       "      <td>59.741061</td>\n",
       "      <td>57.220883</td>\n",
       "      <td>60.304031</td>\n",
       "      <td>60.620518</td>\n",
       "    </tr>\n",
       "    <tr>\n",
       "      <th>75%</th>\n",
       "      <td>104.388821</td>\n",
       "      <td>103.744032</td>\n",
       "      <td>103.051485</td>\n",
       "      <td>106.172658</td>\n",
       "      <td>105.536843</td>\n",
       "    </tr>\n",
       "    <tr>\n",
       "      <th>max</th>\n",
       "      <td>106.428821</td>\n",
       "      <td>105.744032</td>\n",
       "      <td>105.051485</td>\n",
       "      <td>108.172658</td>\n",
       "      <td>107.536843</td>\n",
       "    </tr>\n",
       "  </tbody>\n",
       "</table>\n",
       "</div>"
      ],
      "text/plain": [
       "          OilQual  EnginePerf  NormMileage    TyreWear    HVACwear\n",
       "count  315.000000  315.000000   315.000000  315.000000  315.000000\n",
       "mean    59.649297   60.305574    60.297214   61.758983   60.394734\n",
       "std     37.702113   37.143496    35.980773   37.063963   38.571413\n",
       "min      0.987185    1.891003     3.358986    6.213161   -1.719738\n",
       "25%     26.765516   27.418265    31.259536   29.036162   31.336275\n",
       "50%     59.663282   59.741061    57.220883   60.304031   60.620518\n",
       "75%    104.388821  103.744032   103.051485  106.172658  105.536843\n",
       "max    106.428821  105.744032   105.051485  108.172658  107.536843"
      ]
     },
     "execution_count": 7,
     "metadata": {},
     "output_type": "execute_result"
    }
   ],
   "source": [
    "# tabular form\n",
    "\n",
    "train.describe()"
   ]
  },
  {
   "cell_type": "code",
   "execution_count": 8,
   "metadata": {},
   "outputs": [
    {
     "data": {
      "text/html": [
       "<div>\n",
       "<style scoped>\n",
       "    .dataframe tbody tr th:only-of-type {\n",
       "        vertical-align: middle;\n",
       "    }\n",
       "\n",
       "    .dataframe tbody tr th {\n",
       "        vertical-align: top;\n",
       "    }\n",
       "\n",
       "    .dataframe thead th {\n",
       "        text-align: right;\n",
       "    }\n",
       "</style>\n",
       "<table border=\"1\" class=\"dataframe\">\n",
       "  <thead>\n",
       "    <tr style=\"text-align: right;\">\n",
       "      <th></th>\n",
       "      <th>OilQual</th>\n",
       "      <th>EnginePerf</th>\n",
       "      <th>NormMileage</th>\n",
       "      <th>TyreWear</th>\n",
       "      <th>HVACwear</th>\n",
       "    </tr>\n",
       "  </thead>\n",
       "  <tbody>\n",
       "    <tr>\n",
       "      <th>count</th>\n",
       "      <td>135.000000</td>\n",
       "      <td>135.000000</td>\n",
       "      <td>135.000000</td>\n",
       "      <td>135.000000</td>\n",
       "      <td>135.000000</td>\n",
       "    </tr>\n",
       "    <tr>\n",
       "      <th>mean</th>\n",
       "      <td>58.629380</td>\n",
       "      <td>59.077366</td>\n",
       "      <td>59.118254</td>\n",
       "      <td>60.863823</td>\n",
       "      <td>58.986136</td>\n",
       "    </tr>\n",
       "    <tr>\n",
       "      <th>std</th>\n",
       "      <td>38.858638</td>\n",
       "      <td>38.603943</td>\n",
       "      <td>37.461473</td>\n",
       "      <td>38.445306</td>\n",
       "      <td>40.000363</td>\n",
       "    </tr>\n",
       "    <tr>\n",
       "      <th>min</th>\n",
       "      <td>2.597185</td>\n",
       "      <td>1.891003</td>\n",
       "      <td>3.588986</td>\n",
       "      <td>6.143161</td>\n",
       "      <td>-1.719738</td>\n",
       "    </tr>\n",
       "    <tr>\n",
       "      <th>25%</th>\n",
       "      <td>26.695516</td>\n",
       "      <td>27.418265</td>\n",
       "      <td>31.259536</td>\n",
       "      <td>28.901162</td>\n",
       "      <td>31.311275</td>\n",
       "    </tr>\n",
       "    <tr>\n",
       "      <th>50%</th>\n",
       "      <td>61.023282</td>\n",
       "      <td>61.501061</td>\n",
       "      <td>59.350883</td>\n",
       "      <td>61.304031</td>\n",
       "      <td>62.620518</td>\n",
       "    </tr>\n",
       "    <tr>\n",
       "      <th>75%</th>\n",
       "      <td>104.228821</td>\n",
       "      <td>103.744032</td>\n",
       "      <td>103.051485</td>\n",
       "      <td>106.172658</td>\n",
       "      <td>105.331843</td>\n",
       "    </tr>\n",
       "    <tr>\n",
       "      <th>max</th>\n",
       "      <td>106.388821</td>\n",
       "      <td>105.744032</td>\n",
       "      <td>105.051485</td>\n",
       "      <td>108.172658</td>\n",
       "      <td>105.826843</td>\n",
       "    </tr>\n",
       "  </tbody>\n",
       "</table>\n",
       "</div>"
      ],
      "text/plain": [
       "          OilQual  EnginePerf  NormMileage    TyreWear    HVACwear\n",
       "count  135.000000  135.000000   135.000000  135.000000  135.000000\n",
       "mean    58.629380   59.077366    59.118254   60.863823   58.986136\n",
       "std     38.858638   38.603943    37.461473   38.445306   40.000363\n",
       "min      2.597185    1.891003     3.588986    6.143161   -1.719738\n",
       "25%     26.695516   27.418265    31.259536   28.901162   31.311275\n",
       "50%     61.023282   61.501061    59.350883   61.304031   62.620518\n",
       "75%    104.228821  103.744032   103.051485  106.172658  105.331843\n",
       "max    106.388821  105.744032   105.051485  108.172658  105.826843"
      ]
     },
     "execution_count": 8,
     "metadata": {},
     "output_type": "execute_result"
    }
   ],
   "source": [
    "test.describe()"
   ]
  },
  {
   "cell_type": "markdown",
   "metadata": {},
   "source": [
    "## <p style='color:red'>Observation:</p>\n",
    "1. In both test and train data sets there is no <b>missing</b> values\n",
    "2. There is large difference between <b>min</b> and <b>max</b> values"
   ]
  },
  {
   "cell_type": "code",
   "execution_count": 9,
   "metadata": {},
   "outputs": [
    {
     "data": {
      "text/plain": [
       "<matplotlib.axes._subplots.AxesSubplot at 0x27355aa1be0>"
      ]
     },
     "execution_count": 9,
     "metadata": {},
     "output_type": "execute_result"
    },
    {
     "data": {
      "image/png": "[encoded data removed]",
      "text/plain": [
       "<matplotlib.figure.Figure at 0x273538deb70>"
      ]
     },
     "metadata": {},
     "output_type": "display_data"
    }
   ],
   "source": [
    "# plotting histogram for all of the continuous variable to know their distribution\n",
    "\n",
    "plt.figure(1)\n",
    "\n",
    "plt.subplot(321)\n",
    "plt.title('OilQual')\n",
    "train['OilQual'].plot.hist(figsize=(14,10))\n",
    "\n",
    "plt.subplot(322)\n",
    "plt.title('EnginePerf')\n",
    "train['EnginePerf'].plot.hist()\n",
    "\n",
    "plt.subplot(323)\n",
    "plt.title('NormMileage')\n",
    "train['NormMileage'].plot.hist()\n",
    "\n",
    "plt.subplot(324)\n",
    "plt.title('TyreWear')\n",
    "train['TyreWear'].plot.hist()\n",
    "\n",
    "plt.subplot(325)\n",
    "plt.title('HVACwear')\n",
    "train['HVACwear'].plot.hist()"
   ]
  },
  {
   "cell_type": "markdown",
   "metadata": {},
   "source": [
    "## <p style='color:red'>Observation:</p>\n",
    "1. In each of the histogram we can observe there is almost no values b/w 10-20 and 60-100 \n",
    "2. In each of the histogram we can observe there is maximum frequency for those values which lies b/w 95-105 "
   ]
  },
  {
   "cell_type": "code",
   "execution_count": 10,
   "metadata": {},
   "outputs": [
    {
     "data": {
      "text/plain": [
       "<matplotlib.axes._subplots.AxesSubplot at 0x27355c196a0>"
      ]
     },
     "execution_count": 10,
     "metadata": {},
     "output_type": "execute_result"
    },
    {
     "data": {
      "image/png": "[encoded data removed]",
      "text/plain": [
       "<matplotlib.figure.Figure at 0x27355aa9470>"
      ]
     },
     "metadata": {},
     "output_type": "display_data"
    }
   ],
   "source": [
    "plt.figure(1)\n",
    "\n",
    "plt.subplot(321)\n",
    "train['OilQual'].plot.box(figsize=(18,15))\n",
    "\n",
    "plt.subplot(322)\n",
    "train['EnginePerf'].plot.box()\n",
    "\n",
    "plt.subplot(323)\n",
    "train['NormMileage'].plot.box()\n",
    "\n",
    "plt.subplot(324)\n",
    "train['TyreWear'].plot.box()\n",
    "\n",
    "plt.subplot(325)\n",
    "train['HVACwear'].plot.box()"
   ]
  },
  {
   "cell_type": "markdown",
   "metadata": {},
   "source": [
    "## <p style='color:red'>Observation:</p>\n",
    "1. There is no <b>outliers</b> we can observe in all of the box plot"
   ]
  },
  {
   "cell_type": "markdown",
   "metadata": {},
   "source": [
    "### B.Cateorical variable:"
   ]
  },
  {
   "cell_type": "code",
   "execution_count": 11,
   "metadata": {},
   "outputs": [
    {
     "data": {
      "text/plain": [
       "No     232\n",
       "Yes     83\n",
       "Name: Service, dtype: int64"
      ]
     },
     "execution_count": 11,
     "metadata": {},
     "output_type": "execute_result"
    }
   ],
   "source": [
    "train['Service'].value_counts()"
   ]
  },
  {
   "cell_type": "code",
   "execution_count": 12,
   "metadata": {},
   "outputs": [
    {
     "data": {
      "text/plain": [
       "<matplotlib.axes._subplots.AxesSubplot at 0x27355d71fd0>"
      ]
     },
     "execution_count": 12,
     "metadata": {},
     "output_type": "execute_result"
    },
    {
     "data": {
      "image/png": "[encoded data removed]",
      "text/plain": [
       "<matplotlib.figure.Figure at 0x273538d6908>"
      ]
     },
     "metadata": {},
     "output_type": "display_data"
    }
   ],
   "source": [
    "train['Service'].value_counts(normalize=True).plot.bar()"
   ]
  },
  {
   "cell_type": "markdown",
   "metadata": {},
   "source": [
    "## <p style='color:red'>Observation:</p>\n",
    "1. Almost 75% car don't require servicing"
   ]
  },
  {
   "cell_type": "markdown",
   "metadata": {},
   "source": [
    "## 5. Bivariate Analysis:"
   ]
  },
  {
   "cell_type": "code",
   "execution_count": 13,
   "metadata": {},
   "outputs": [],
   "source": [
    "# categorical vs continuous variable"
   ]
  },
  {
   "cell_type": "code",
   "execution_count": 14,
   "metadata": {},
   "outputs": [
    {
     "data": {
      "text/plain": [
       "<matplotlib.axes._subplots.AxesSubplot at 0x2735616a3c8>"
      ]
     },
     "execution_count": 14,
     "metadata": {},
     "output_type": "execute_result"
    },
    {
     "data": {
      "image/png": "[encoded data removed]",
      "text/plain": [
       "<matplotlib.figure.Figure at 0x27355db7c50>"
      ]
     },
     "metadata": {},
     "output_type": "display_data"
    }
   ],
   "source": [
    "plt.subplot(321)\n",
    "plt.title('OilQual')\n",
    "train.groupby('Service')['OilQual'].mean().plot.bar(figsize=(14,10))\n",
    "\n",
    "plt.subplot(322)\n",
    "plt.title('EnginePerf')\n",
    "train.groupby('Service')['EnginePerf'].mean().plot.bar()\n",
    "\n",
    "plt.subplot(323)\n",
    "plt.title('NormMileage')\n",
    "train.groupby('Service')['NormMileage'].mean().plot.bar(figsize=(14,10))\n",
    "\n",
    "plt.subplot(324)\n",
    "plt.title('TyreWear')\n",
    "train.groupby('Service')['TyreWear'].mean().plot.bar(figsize=(14,10))\n",
    "\n",
    "plt.subplot(325)\n",
    "plt.title('HVACwear')\n",
    "train.groupby('Service')['HVACwear'].mean().plot.bar(figsize=(14,10))"
   ]
  },
  {
   "cell_type": "markdown",
   "metadata": {},
   "source": [
    "## <p style='color:red'>Observation:</p>\n",
    "1. In each of the above bar plot we can easily observe that almost 65% data belongs to no service category"
   ]
  },
  {
   "cell_type": "code",
   "execution_count": 15,
   "metadata": {},
   "outputs": [
    {
     "data": {
      "text/plain": [
       "OilQual        0\n",
       "EnginePerf     0\n",
       "NormMileage    0\n",
       "TyreWear       0\n",
       "HVACwear       0\n",
       "Service        0\n",
       "dtype: int64"
      ]
     },
     "execution_count": 15,
     "metadata": {},
     "output_type": "execute_result"
    }
   ],
   "source": [
    "# checking missing value\n",
    "\n",
    "train.isnull().sum()"
   ]
  },
  {
   "cell_type": "code",
   "execution_count": 16,
   "metadata": {},
   "outputs": [
    {
     "data": {
      "text/plain": [
       "OilQual        0\n",
       "EnginePerf     0\n",
       "NormMileage    0\n",
       "TyreWear       0\n",
       "HVACwear       0\n",
       "Service        0\n",
       "dtype: int64"
      ]
     },
     "execution_count": 16,
     "metadata": {},
     "output_type": "execute_result"
    }
   ],
   "source": [
    "test.isnull().sum()"
   ]
  },
  {
   "cell_type": "markdown",
   "metadata": {},
   "source": [
    "## <p style='color:red'>Observation:</p>\n",
    "1. As we already observed that there is no <b>missing values</b> and <b>outliers</b> in our data sets so we don't require Missing value and Outliers Treatment steps "
   ]
  },
  {
   "cell_type": "markdown",
   "metadata": {},
   "source": [
    "## Modeling:"
   ]
  },
  {
   "cell_type": "code",
   "execution_count": 17,
   "metadata": {},
   "outputs": [
    {
     "data": {
      "text/plain": [
       "((315, 5), (315,))"
      ]
     },
     "execution_count": 17,
     "metadata": {},
     "output_type": "execute_result"
    }
   ],
   "source": [
    "# separating independent and dependent variables\n",
    "\n",
    "X=train.iloc[:, 0:5].values\n",
    "y=train.iloc[:, 5].values\n",
    "X.shape,y.shape"
   ]
  },
  {
   "cell_type": "code",
   "execution_count": 18,
   "metadata": {},
   "outputs": [
    {
     "data": {
      "text/plain": [
       "(135, 5)"
      ]
     },
     "execution_count": 18,
     "metadata": {},
     "output_type": "execute_result"
    }
   ],
   "source": [
    "# dropping target variable from test data b'coz at predicting time i don't require these variable\n",
    "\n",
    "test_data=test.drop('Service',axis=1)\n",
    "test_data.shape"
   ]
  },
  {
   "cell_type": "code",
   "execution_count": 19,
   "metadata": {},
   "outputs": [
    {
     "name": "stdout",
     "output_type": "stream",
     "text": [
      "(220, 5)\n",
      "(95, 5)\n",
      "(220,)\n",
      "(95,)\n"
     ]
    }
   ],
   "source": [
    "# splitting into train and test set\n",
    "\n",
    "from sklearn.model_selection import train_test_split\n",
    "\n",
    "X_train,X_test,y_train,y_test=train_test_split(X,y,test_size=0.3,random_state=0)\n",
    "print(X_train.shape)\n",
    "print(X_test.shape)\n",
    "print(y_train.shape)\n",
    "print(y_test.shape)"
   ]
  },
  {
   "cell_type": "code",
   "execution_count": 20,
   "metadata": {},
   "outputs": [
    {
     "data": {
      "text/plain": [
       "KNeighborsClassifier(algorithm='auto', leaf_size=30, metric='minkowski',\n",
       "           metric_params=None, n_jobs=1, n_neighbors=5, p=2,\n",
       "           weights='uniform')"
      ]
     },
     "execution_count": 20,
     "metadata": {},
     "output_type": "execute_result"
    }
   ],
   "source": [
    "# now importing actual ML algorithm library\n",
    "\n",
    "from sklearn.neighbors import KNeighborsClassifier\n",
    "\n",
    "knn=KNeighborsClassifier(n_neighbors=5,p=2,metric='minkowski')\n",
    "knn.fit(X_train,y_train)"
   ]
  },
  {
   "cell_type": "code",
   "execution_count": 21,
   "metadata": {},
   "outputs": [
    {
     "data": {
      "text/plain": [
       "array(['No', 'Yes', 'Yes', 'No', 'Yes', 'No', 'No', 'No', 'No', 'No',\n",
       "       'No', 'No', 'No', 'Yes', 'Yes', 'Yes', 'No', 'Yes', 'No', 'No',\n",
       "       'No', 'No', 'No', 'No', 'No', 'No', 'No', 'No', 'No', 'Yes', 'Yes',\n",
       "       'No', 'No', 'Yes', 'No', 'Yes', 'No', 'No', 'No', 'No', 'Yes',\n",
       "       'No', 'No', 'Yes', 'No', 'No', 'No', 'No', 'No', 'No', 'Yes', 'No',\n",
       "       'No', 'Yes', 'No', 'No', 'No', 'No', 'No', 'Yes', 'No', 'No', 'No',\n",
       "       'Yes', 'Yes', 'No', 'Yes', 'No', 'No', 'No', 'Yes', 'No', 'No',\n",
       "       'No', 'No', 'No', 'No', 'Yes', 'No', 'Yes', 'Yes', 'No', 'No',\n",
       "       'Yes', 'No', 'No', 'No', 'No', 'Yes', 'Yes', 'No', 'Yes', 'No',\n",
       "       'Yes', 'No'], dtype=object)"
      ]
     },
     "execution_count": 21,
     "metadata": {},
     "output_type": "execute_result"
    }
   ],
   "source": [
    "# predicting the value\n",
    "\n",
    "y_pred=knn.predict(X_test)\n",
    "y_pred"
   ]
  },
  {
   "cell_type": "code",
   "execution_count": 22,
   "metadata": {},
   "outputs": [
    {
     "data": {
      "text/plain": [
       "1.0"
      ]
     },
     "execution_count": 22,
     "metadata": {},
     "output_type": "execute_result"
    }
   ],
   "source": [
    "# checking accuracy\n",
    "\n",
    "from sklearn.metrics import accuracy_score\n",
    "accuracy=accuracy_score(y_test,y_pred)\n",
    "accuracy"
   ]
  },
  {
   "cell_type": "code",
   "execution_count": 23,
   "metadata": {},
   "outputs": [],
   "source": [
    "y_pred_new=knn.predict(test_data)"
   ]
  },
  {
   "cell_type": "code",
   "execution_count": 24,
   "metadata": {},
   "outputs": [],
   "source": [
    "test['Service_Predicted']=y_pred_new"
   ]
  },
  {
   "cell_type": "code",
   "execution_count": 25,
   "metadata": {},
   "outputs": [
    {
     "data": {
      "text/html": [
       "<div>\n",
       "<style scoped>\n",
       "    .dataframe tbody tr th:only-of-type {\n",
       "        vertical-align: middle;\n",
       "    }\n",
       "\n",
       "    .dataframe tbody tr th {\n",
       "        vertical-align: top;\n",
       "    }\n",
       "\n",
       "    .dataframe thead th {\n",
       "        text-align: right;\n",
       "    }\n",
       "</style>\n",
       "<table border=\"1\" class=\"dataframe\">\n",
       "  <thead>\n",
       "    <tr style=\"text-align: right;\">\n",
       "      <th></th>\n",
       "      <th>OilQual</th>\n",
       "      <th>EnginePerf</th>\n",
       "      <th>NormMileage</th>\n",
       "      <th>TyreWear</th>\n",
       "      <th>HVACwear</th>\n",
       "      <th>Service</th>\n",
       "      <th>Service_Predicted</th>\n",
       "    </tr>\n",
       "  </thead>\n",
       "  <tbody>\n",
       "    <tr>\n",
       "      <th>0</th>\n",
       "      <td>45.773338</td>\n",
       "      <td>49.936615</td>\n",
       "      <td>49.777581</td>\n",
       "      <td>48.263851</td>\n",
       "      <td>50.952072</td>\n",
       "      <td>No</td>\n",
       "      <td>No</td>\n",
       "    </tr>\n",
       "    <tr>\n",
       "      <th>1</th>\n",
       "      <td>4.987185</td>\n",
       "      <td>7.891003</td>\n",
       "      <td>6.588986</td>\n",
       "      <td>9.493161</td>\n",
       "      <td>3.240262</td>\n",
       "      <td>No</td>\n",
       "      <td>No</td>\n",
       "    </tr>\n",
       "    <tr>\n",
       "      <th>2</th>\n",
       "      <td>4.987185</td>\n",
       "      <td>4.891003</td>\n",
       "      <td>7.308986</td>\n",
       "      <td>8.373161</td>\n",
       "      <td>2.780262</td>\n",
       "      <td>No</td>\n",
       "      <td>No</td>\n",
       "    </tr>\n",
       "    <tr>\n",
       "      <th>3</th>\n",
       "      <td>106.388821</td>\n",
       "      <td>104.454032</td>\n",
       "      <td>103.051485</td>\n",
       "      <td>106.282658</td>\n",
       "      <td>105.536843</td>\n",
       "      <td>No</td>\n",
       "      <td>No</td>\n",
       "    </tr>\n",
       "    <tr>\n",
       "      <th>4</th>\n",
       "      <td>104.388821</td>\n",
       "      <td>103.744032</td>\n",
       "      <td>103.051485</td>\n",
       "      <td>106.132658</td>\n",
       "      <td>105.776843</td>\n",
       "      <td>No</td>\n",
       "      <td>No</td>\n",
       "    </tr>\n",
       "    <tr>\n",
       "      <th>5</th>\n",
       "      <td>4.987185</td>\n",
       "      <td>4.891003</td>\n",
       "      <td>5.618986</td>\n",
       "      <td>8.373161</td>\n",
       "      <td>1.760262</td>\n",
       "      <td>No</td>\n",
       "      <td>No</td>\n",
       "    </tr>\n",
       "    <tr>\n",
       "      <th>6</th>\n",
       "      <td>45.533338</td>\n",
       "      <td>50.666615</td>\n",
       "      <td>48.167581</td>\n",
       "      <td>50.633851</td>\n",
       "      <td>47.952072</td>\n",
       "      <td>No</td>\n",
       "      <td>No</td>\n",
       "    </tr>\n",
       "    <tr>\n",
       "      <th>7</th>\n",
       "      <td>27.765516</td>\n",
       "      <td>29.138265</td>\n",
       "      <td>31.259536</td>\n",
       "      <td>31.226162</td>\n",
       "      <td>31.311275</td>\n",
       "      <td>Yes</td>\n",
       "      <td>Yes</td>\n",
       "    </tr>\n",
       "    <tr>\n",
       "      <th>8</th>\n",
       "      <td>26.765516</td>\n",
       "      <td>28.418265</td>\n",
       "      <td>30.809536</td>\n",
       "      <td>29.266162</td>\n",
       "      <td>31.311275</td>\n",
       "      <td>Yes</td>\n",
       "      <td>Yes</td>\n",
       "    </tr>\n",
       "    <tr>\n",
       "      <th>9</th>\n",
       "      <td>104.388821</td>\n",
       "      <td>103.744032</td>\n",
       "      <td>105.051485</td>\n",
       "      <td>106.212658</td>\n",
       "      <td>104.246843</td>\n",
       "      <td>No</td>\n",
       "      <td>No</td>\n",
       "    </tr>\n",
       "    <tr>\n",
       "      <th>10</th>\n",
       "      <td>4.987185</td>\n",
       "      <td>5.891003</td>\n",
       "      <td>7.228986</td>\n",
       "      <td>8.373161</td>\n",
       "      <td>1.080262</td>\n",
       "      <td>No</td>\n",
       "      <td>No</td>\n",
       "    </tr>\n",
       "    <tr>\n",
       "      <th>11</th>\n",
       "      <td>104.388821</td>\n",
       "      <td>103.434032</td>\n",
       "      <td>104.051485</td>\n",
       "      <td>106.062658</td>\n",
       "      <td>105.536843</td>\n",
       "      <td>No</td>\n",
       "      <td>No</td>\n",
       "    </tr>\n",
       "    <tr>\n",
       "      <th>12</th>\n",
       "      <td>4.987185</td>\n",
       "      <td>4.391003</td>\n",
       "      <td>6.588986</td>\n",
       "      <td>9.253161</td>\n",
       "      <td>-1.719738</td>\n",
       "      <td>No</td>\n",
       "      <td>No</td>\n",
       "    </tr>\n",
       "    <tr>\n",
       "      <th>13</th>\n",
       "      <td>104.338821</td>\n",
       "      <td>103.744032</td>\n",
       "      <td>103.591485</td>\n",
       "      <td>106.172658</td>\n",
       "      <td>105.536843</td>\n",
       "      <td>No</td>\n",
       "      <td>No</td>\n",
       "    </tr>\n",
       "    <tr>\n",
       "      <th>14</th>\n",
       "      <td>7.987185</td>\n",
       "      <td>4.661003</td>\n",
       "      <td>6.588986</td>\n",
       "      <td>8.373161</td>\n",
       "      <td>2.250262</td>\n",
       "      <td>No</td>\n",
       "      <td>No</td>\n",
       "    </tr>\n",
       "    <tr>\n",
       "      <th>15</th>\n",
       "      <td>4.987185</td>\n",
       "      <td>5.171003</td>\n",
       "      <td>6.588986</td>\n",
       "      <td>10.373161</td>\n",
       "      <td>0.080262</td>\n",
       "      <td>No</td>\n",
       "      <td>No</td>\n",
       "    </tr>\n",
       "    <tr>\n",
       "      <th>16</th>\n",
       "      <td>63.413282</td>\n",
       "      <td>62.451061</td>\n",
       "      <td>60.520883</td>\n",
       "      <td>63.304031</td>\n",
       "      <td>62.620518</td>\n",
       "      <td>Yes</td>\n",
       "      <td>Yes</td>\n",
       "    </tr>\n",
       "    <tr>\n",
       "      <th>17</th>\n",
       "      <td>6.897185</td>\n",
       "      <td>4.891003</td>\n",
       "      <td>6.588986</td>\n",
       "      <td>7.373161</td>\n",
       "      <td>3.550262</td>\n",
       "      <td>No</td>\n",
       "      <td>No</td>\n",
       "    </tr>\n",
       "    <tr>\n",
       "      <th>18</th>\n",
       "      <td>103.648821</td>\n",
       "      <td>103.744032</td>\n",
       "      <td>102.051485</td>\n",
       "      <td>106.662658</td>\n",
       "      <td>105.536843</td>\n",
       "      <td>No</td>\n",
       "      <td>No</td>\n",
       "    </tr>\n",
       "    <tr>\n",
       "      <th>19</th>\n",
       "      <td>58.963282</td>\n",
       "      <td>62.741061</td>\n",
       "      <td>61.570883</td>\n",
       "      <td>63.304031</td>\n",
       "      <td>62.620518</td>\n",
       "      <td>Yes</td>\n",
       "      <td>Yes</td>\n",
       "    </tr>\n",
       "    <tr>\n",
       "      <th>20</th>\n",
       "      <td>26.745516</td>\n",
       "      <td>27.418265</td>\n",
       "      <td>31.259536</td>\n",
       "      <td>31.036162</td>\n",
       "      <td>31.261275</td>\n",
       "      <td>Yes</td>\n",
       "      <td>Yes</td>\n",
       "    </tr>\n",
       "    <tr>\n",
       "      <th>21</th>\n",
       "      <td>104.388821</td>\n",
       "      <td>103.584032</td>\n",
       "      <td>103.371485</td>\n",
       "      <td>106.172658</td>\n",
       "      <td>104.536843</td>\n",
       "      <td>No</td>\n",
       "      <td>No</td>\n",
       "    </tr>\n",
       "    <tr>\n",
       "      <th>22</th>\n",
       "      <td>63.083282</td>\n",
       "      <td>64.741061</td>\n",
       "      <td>59.720883</td>\n",
       "      <td>64.914031</td>\n",
       "      <td>62.620518</td>\n",
       "      <td>Yes</td>\n",
       "      <td>Yes</td>\n",
       "    </tr>\n",
       "    <tr>\n",
       "      <th>23</th>\n",
       "      <td>4.877185</td>\n",
       "      <td>4.461003</td>\n",
       "      <td>6.588986</td>\n",
       "      <td>8.373161</td>\n",
       "      <td>2.280262</td>\n",
       "      <td>No</td>\n",
       "      <td>No</td>\n",
       "    </tr>\n",
       "    <tr>\n",
       "      <th>24</th>\n",
       "      <td>4.987185</td>\n",
       "      <td>2.891003</td>\n",
       "      <td>4.808986</td>\n",
       "      <td>6.143161</td>\n",
       "      <td>1.280262</td>\n",
       "      <td>No</td>\n",
       "      <td>No</td>\n",
       "    </tr>\n",
       "    <tr>\n",
       "      <th>25</th>\n",
       "      <td>104.328821</td>\n",
       "      <td>103.744032</td>\n",
       "      <td>103.051485</td>\n",
       "      <td>106.172658</td>\n",
       "      <td>105.536843</td>\n",
       "      <td>No</td>\n",
       "      <td>No</td>\n",
       "    </tr>\n",
       "    <tr>\n",
       "      <th>26</th>\n",
       "      <td>4.987185</td>\n",
       "      <td>2.891003</td>\n",
       "      <td>6.588986</td>\n",
       "      <td>10.833161</td>\n",
       "      <td>0.100262</td>\n",
       "      <td>No</td>\n",
       "      <td>No</td>\n",
       "    </tr>\n",
       "    <tr>\n",
       "      <th>27</th>\n",
       "      <td>2.597185</td>\n",
       "      <td>3.541003</td>\n",
       "      <td>6.588986</td>\n",
       "      <td>8.373161</td>\n",
       "      <td>1.280262</td>\n",
       "      <td>No</td>\n",
       "      <td>No</td>\n",
       "    </tr>\n",
       "    <tr>\n",
       "      <th>28</th>\n",
       "      <td>4.817185</td>\n",
       "      <td>4.891003</td>\n",
       "      <td>9.588986</td>\n",
       "      <td>8.703161</td>\n",
       "      <td>1.280262</td>\n",
       "      <td>No</td>\n",
       "      <td>No</td>\n",
       "    </tr>\n",
       "    <tr>\n",
       "      <th>29</th>\n",
       "      <td>104.388821</td>\n",
       "      <td>103.744032</td>\n",
       "      <td>103.381485</td>\n",
       "      <td>107.492658</td>\n",
       "      <td>103.536843</td>\n",
       "      <td>No</td>\n",
       "      <td>No</td>\n",
       "    </tr>\n",
       "    <tr>\n",
       "      <th>...</th>\n",
       "      <td>...</td>\n",
       "      <td>...</td>\n",
       "      <td>...</td>\n",
       "      <td>...</td>\n",
       "      <td>...</td>\n",
       "      <td>...</td>\n",
       "      <td>...</td>\n",
       "    </tr>\n",
       "    <tr>\n",
       "      <th>105</th>\n",
       "      <td>27.595516</td>\n",
       "      <td>27.418265</td>\n",
       "      <td>32.259536</td>\n",
       "      <td>26.706162</td>\n",
       "      <td>31.311275</td>\n",
       "      <td>Yes</td>\n",
       "      <td>Yes</td>\n",
       "    </tr>\n",
       "    <tr>\n",
       "      <th>106</th>\n",
       "      <td>104.038821</td>\n",
       "      <td>103.744032</td>\n",
       "      <td>103.051485</td>\n",
       "      <td>107.172658</td>\n",
       "      <td>104.966843</td>\n",
       "      <td>No</td>\n",
       "      <td>No</td>\n",
       "    </tr>\n",
       "    <tr>\n",
       "      <th>107</th>\n",
       "      <td>104.388821</td>\n",
       "      <td>104.124032</td>\n",
       "      <td>102.051485</td>\n",
       "      <td>106.172658</td>\n",
       "      <td>105.536843</td>\n",
       "      <td>No</td>\n",
       "      <td>No</td>\n",
       "    </tr>\n",
       "    <tr>\n",
       "      <th>108</th>\n",
       "      <td>104.388821</td>\n",
       "      <td>103.744032</td>\n",
       "      <td>103.051485</td>\n",
       "      <td>107.602658</td>\n",
       "      <td>104.506843</td>\n",
       "      <td>No</td>\n",
       "      <td>No</td>\n",
       "    </tr>\n",
       "    <tr>\n",
       "      <th>109</th>\n",
       "      <td>106.388821</td>\n",
       "      <td>103.894032</td>\n",
       "      <td>103.211485</td>\n",
       "      <td>106.172658</td>\n",
       "      <td>105.536843</td>\n",
       "      <td>No</td>\n",
       "      <td>No</td>\n",
       "    </tr>\n",
       "    <tr>\n",
       "      <th>110</th>\n",
       "      <td>104.378821</td>\n",
       "      <td>103.764032</td>\n",
       "      <td>103.051485</td>\n",
       "      <td>106.172658</td>\n",
       "      <td>103.536843</td>\n",
       "      <td>No</td>\n",
       "      <td>No</td>\n",
       "    </tr>\n",
       "    <tr>\n",
       "      <th>111</th>\n",
       "      <td>62.413282</td>\n",
       "      <td>61.741061</td>\n",
       "      <td>59.280883</td>\n",
       "      <td>60.304031</td>\n",
       "      <td>62.620518</td>\n",
       "      <td>Yes</td>\n",
       "      <td>Yes</td>\n",
       "    </tr>\n",
       "    <tr>\n",
       "      <th>112</th>\n",
       "      <td>104.238821</td>\n",
       "      <td>102.744032</td>\n",
       "      <td>103.031485</td>\n",
       "      <td>106.172658</td>\n",
       "      <td>105.536843</td>\n",
       "      <td>No</td>\n",
       "      <td>No</td>\n",
       "    </tr>\n",
       "    <tr>\n",
       "      <th>113</th>\n",
       "      <td>28.765516</td>\n",
       "      <td>27.418265</td>\n",
       "      <td>31.099536</td>\n",
       "      <td>29.036162</td>\n",
       "      <td>31.481275</td>\n",
       "      <td>Yes</td>\n",
       "      <td>Yes</td>\n",
       "    </tr>\n",
       "    <tr>\n",
       "      <th>114</th>\n",
       "      <td>104.388821</td>\n",
       "      <td>104.204032</td>\n",
       "      <td>102.051485</td>\n",
       "      <td>106.422658</td>\n",
       "      <td>105.536843</td>\n",
       "      <td>No</td>\n",
       "      <td>No</td>\n",
       "    </tr>\n",
       "    <tr>\n",
       "      <th>115</th>\n",
       "      <td>26.615516</td>\n",
       "      <td>27.418265</td>\n",
       "      <td>30.259536</td>\n",
       "      <td>29.036162</td>\n",
       "      <td>32.131275</td>\n",
       "      <td>Yes</td>\n",
       "      <td>Yes</td>\n",
       "    </tr>\n",
       "    <tr>\n",
       "      <th>116</th>\n",
       "      <td>26.765516</td>\n",
       "      <td>27.418265</td>\n",
       "      <td>31.259536</td>\n",
       "      <td>28.506162</td>\n",
       "      <td>32.221275</td>\n",
       "      <td>Yes</td>\n",
       "      <td>Yes</td>\n",
       "    </tr>\n",
       "    <tr>\n",
       "      <th>117</th>\n",
       "      <td>104.388821</td>\n",
       "      <td>103.654032</td>\n",
       "      <td>102.051485</td>\n",
       "      <td>106.172658</td>\n",
       "      <td>105.526843</td>\n",
       "      <td>No</td>\n",
       "      <td>No</td>\n",
       "    </tr>\n",
       "    <tr>\n",
       "      <th>118</th>\n",
       "      <td>62.853282</td>\n",
       "      <td>62.741061</td>\n",
       "      <td>60.820883</td>\n",
       "      <td>59.304031</td>\n",
       "      <td>62.620518</td>\n",
       "      <td>Yes</td>\n",
       "      <td>Yes</td>\n",
       "    </tr>\n",
       "    <tr>\n",
       "      <th>119</th>\n",
       "      <td>46.533338</td>\n",
       "      <td>50.776615</td>\n",
       "      <td>49.827581</td>\n",
       "      <td>48.263851</td>\n",
       "      <td>47.952072</td>\n",
       "      <td>No</td>\n",
       "      <td>No</td>\n",
       "    </tr>\n",
       "    <tr>\n",
       "      <th>120</th>\n",
       "      <td>102.388821</td>\n",
       "      <td>103.944032</td>\n",
       "      <td>103.051485</td>\n",
       "      <td>106.172658</td>\n",
       "      <td>105.746843</td>\n",
       "      <td>No</td>\n",
       "      <td>No</td>\n",
       "    </tr>\n",
       "    <tr>\n",
       "      <th>121</th>\n",
       "      <td>44.693338</td>\n",
       "      <td>49.666615</td>\n",
       "      <td>49.777581</td>\n",
       "      <td>46.913851</td>\n",
       "      <td>48.952072</td>\n",
       "      <td>No</td>\n",
       "      <td>No</td>\n",
       "    </tr>\n",
       "    <tr>\n",
       "      <th>122</th>\n",
       "      <td>103.388821</td>\n",
       "      <td>103.744032</td>\n",
       "      <td>102.791485</td>\n",
       "      <td>106.172658</td>\n",
       "      <td>105.046843</td>\n",
       "      <td>No</td>\n",
       "      <td>No</td>\n",
       "    </tr>\n",
       "    <tr>\n",
       "      <th>123</th>\n",
       "      <td>4.987185</td>\n",
       "      <td>4.891003</td>\n",
       "      <td>6.818986</td>\n",
       "      <td>8.373161</td>\n",
       "      <td>-0.269738</td>\n",
       "      <td>No</td>\n",
       "      <td>No</td>\n",
       "    </tr>\n",
       "    <tr>\n",
       "      <th>124</th>\n",
       "      <td>62.413282</td>\n",
       "      <td>62.741061</td>\n",
       "      <td>59.490883</td>\n",
       "      <td>61.304031</td>\n",
       "      <td>63.080518</td>\n",
       "      <td>Yes</td>\n",
       "      <td>Yes</td>\n",
       "    </tr>\n",
       "    <tr>\n",
       "      <th>125</th>\n",
       "      <td>104.388821</td>\n",
       "      <td>104.264032</td>\n",
       "      <td>103.051485</td>\n",
       "      <td>106.172658</td>\n",
       "      <td>105.246843</td>\n",
       "      <td>No</td>\n",
       "      <td>No</td>\n",
       "    </tr>\n",
       "    <tr>\n",
       "      <th>126</th>\n",
       "      <td>46.533338</td>\n",
       "      <td>49.666615</td>\n",
       "      <td>52.557581</td>\n",
       "      <td>46.843851</td>\n",
       "      <td>47.952072</td>\n",
       "      <td>No</td>\n",
       "      <td>No</td>\n",
       "    </tr>\n",
       "    <tr>\n",
       "      <th>127</th>\n",
       "      <td>4.987185</td>\n",
       "      <td>3.781003</td>\n",
       "      <td>5.058986</td>\n",
       "      <td>8.373161</td>\n",
       "      <td>0.280262</td>\n",
       "      <td>No</td>\n",
       "      <td>No</td>\n",
       "    </tr>\n",
       "    <tr>\n",
       "      <th>128</th>\n",
       "      <td>104.148821</td>\n",
       "      <td>103.474032</td>\n",
       "      <td>103.051485</td>\n",
       "      <td>105.172658</td>\n",
       "      <td>105.536843</td>\n",
       "      <td>No</td>\n",
       "      <td>No</td>\n",
       "    </tr>\n",
       "    <tr>\n",
       "      <th>129</th>\n",
       "      <td>104.278821</td>\n",
       "      <td>104.744032</td>\n",
       "      <td>103.051485</td>\n",
       "      <td>106.172658</td>\n",
       "      <td>105.826843</td>\n",
       "      <td>No</td>\n",
       "      <td>No</td>\n",
       "    </tr>\n",
       "    <tr>\n",
       "      <th>130</th>\n",
       "      <td>103.388821</td>\n",
       "      <td>103.934032</td>\n",
       "      <td>102.941485</td>\n",
       "      <td>106.172658</td>\n",
       "      <td>105.536843</td>\n",
       "      <td>No</td>\n",
       "      <td>No</td>\n",
       "    </tr>\n",
       "    <tr>\n",
       "      <th>131</th>\n",
       "      <td>5.987185</td>\n",
       "      <td>6.081003</td>\n",
       "      <td>6.588986</td>\n",
       "      <td>8.373161</td>\n",
       "      <td>0.370262</td>\n",
       "      <td>No</td>\n",
       "      <td>No</td>\n",
       "    </tr>\n",
       "    <tr>\n",
       "      <th>132</th>\n",
       "      <td>25.385516</td>\n",
       "      <td>27.418265</td>\n",
       "      <td>32.309536</td>\n",
       "      <td>30.036162</td>\n",
       "      <td>31.311275</td>\n",
       "      <td>Yes</td>\n",
       "      <td>Yes</td>\n",
       "    </tr>\n",
       "    <tr>\n",
       "      <th>133</th>\n",
       "      <td>45.533338</td>\n",
       "      <td>49.666615</td>\n",
       "      <td>49.347581</td>\n",
       "      <td>51.263851</td>\n",
       "      <td>47.922072</td>\n",
       "      <td>No</td>\n",
       "      <td>No</td>\n",
       "    </tr>\n",
       "    <tr>\n",
       "      <th>134</th>\n",
       "      <td>104.388821</td>\n",
       "      <td>104.504032</td>\n",
       "      <td>102.461485</td>\n",
       "      <td>106.172658</td>\n",
       "      <td>105.536843</td>\n",
       "      <td>No</td>\n",
       "      <td>No</td>\n",
       "    </tr>\n",
       "  </tbody>\n",
       "</table>\n",
       "<p>135 rows × 7 columns</p>\n",
       "</div>"
      ],
      "text/plain": [
       "        OilQual  EnginePerf  NormMileage    TyreWear    HVACwear Service  \\\n",
       "0     45.773338   49.936615    49.777581   48.263851   50.952072      No   \n",
       "1      4.987185    7.891003     6.588986    9.493161    3.240262      No   \n",
       "2      4.987185    4.891003     7.308986    8.373161    2.780262      No   \n",
       "3    106.388821  104.454032   103.051485  106.282658  105.536843      No   \n",
       "4    104.388821  103.744032   103.051485  106.132658  105.776843      No   \n",
       "5      4.987185    4.891003     5.618986    8.373161    1.760262      No   \n",
       "6     45.533338   50.666615    48.167581   50.633851   47.952072      No   \n",
       "7     27.765516   29.138265    31.259536   31.226162   31.311275     Yes   \n",
       "8     26.765516   28.418265    30.809536   29.266162   31.311275     Yes   \n",
       "9    104.388821  103.744032   105.051485  106.212658  104.246843      No   \n",
       "10     4.987185    5.891003     7.228986    8.373161    1.080262      No   \n",
       "11   104.388821  103.434032   104.051485  106.062658  105.536843      No   \n",
       "12     4.987185    4.391003     6.588986    9.253161   -1.719738      No   \n",
       "13   104.338821  103.744032   103.591485  106.172658  105.536843      No   \n",
       "14     7.987185    4.661003     6.588986    8.373161    2.250262      No   \n",
       "15     4.987185    5.171003     6.588986   10.373161    0.080262      No   \n",
       "16    63.413282   62.451061    60.520883   63.304031   62.620518     Yes   \n",
       "17     6.897185    4.891003     6.588986    7.373161    3.550262      No   \n",
       "18   103.648821  103.744032   102.051485  106.662658  105.536843      No   \n",
       "19    58.963282   62.741061    61.570883   63.304031   62.620518     Yes   \n",
       "20    26.745516   27.418265    31.259536   31.036162   31.261275     Yes   \n",
       "21   104.388821  103.584032   103.371485  106.172658  104.536843      No   \n",
       "22    63.083282   64.741061    59.720883   64.914031   62.620518     Yes   \n",
       "23     4.877185    4.461003     6.588986    8.373161    2.280262      No   \n",
       "24     4.987185    2.891003     4.808986    6.143161    1.280262      No   \n",
       "25   104.328821  103.744032   103.051485  106.172658  105.536843      No   \n",
       "26     4.987185    2.891003     6.588986   10.833161    0.100262      No   \n",
       "27     2.597185    3.541003     6.588986    8.373161    1.280262      No   \n",
       "28     4.817185    4.891003     9.588986    8.703161    1.280262      No   \n",
       "29   104.388821  103.744032   103.381485  107.492658  103.536843      No   \n",
       "..          ...         ...          ...         ...         ...     ...   \n",
       "105   27.595516   27.418265    32.259536   26.706162   31.311275     Yes   \n",
       "106  104.038821  103.744032   103.051485  107.172658  104.966843      No   \n",
       "107  104.388821  104.124032   102.051485  106.172658  105.536843      No   \n",
       "108  104.388821  103.744032   103.051485  107.602658  104.506843      No   \n",
       "109  106.388821  103.894032   103.211485  106.172658  105.536843      No   \n",
       "110  104.378821  103.764032   103.051485  106.172658  103.536843      No   \n",
       "111   62.413282   61.741061    59.280883   60.304031   62.620518     Yes   \n",
       "112  104.238821  102.744032   103.031485  106.172658  105.536843      No   \n",
       "113   28.765516   27.418265    31.099536   29.036162   31.481275     Yes   \n",
       "114  104.388821  104.204032   102.051485  106.422658  105.536843      No   \n",
       "115   26.615516   27.418265    30.259536   29.036162   32.131275     Yes   \n",
       "116   26.765516   27.418265    31.259536   28.506162   32.221275     Yes   \n",
       "117  104.388821  103.654032   102.051485  106.172658  105.526843      No   \n",
       "118   62.853282   62.741061    60.820883   59.304031   62.620518     Yes   \n",
       "119   46.533338   50.776615    49.827581   48.263851   47.952072      No   \n",
       "120  102.388821  103.944032   103.051485  106.172658  105.746843      No   \n",
       "121   44.693338   49.666615    49.777581   46.913851   48.952072      No   \n",
       "122  103.388821  103.744032   102.791485  106.172658  105.046843      No   \n",
       "123    4.987185    4.891003     6.818986    8.373161   -0.269738      No   \n",
       "124   62.413282   62.741061    59.490883   61.304031   63.080518     Yes   \n",
       "125  104.388821  104.264032   103.051485  106.172658  105.246843      No   \n",
       "126   46.533338   49.666615    52.557581   46.843851   47.952072      No   \n",
       "127    4.987185    3.781003     5.058986    8.373161    0.280262      No   \n",
       "128  104.148821  103.474032   103.051485  105.172658  105.536843      No   \n",
       "129  104.278821  104.744032   103.051485  106.172658  105.826843      No   \n",
       "130  103.388821  103.934032   102.941485  106.172658  105.536843      No   \n",
       "131    5.987185    6.081003     6.588986    8.373161    0.370262      No   \n",
       "132   25.385516   27.418265    32.309536   30.036162   31.311275     Yes   \n",
       "133   45.533338   49.666615    49.347581   51.263851   47.922072      No   \n",
       "134  104.388821  104.504032   102.461485  106.172658  105.536843      No   \n",
       "\n",
       "    Service_Predicted  \n",
       "0                  No  \n",
       "1                  No  \n",
       "2                  No  \n",
       "3                  No  \n",
       "4                  No  \n",
       "5                  No  \n",
       "6                  No  \n",
       "7                 Yes  \n",
       "8                 Yes  \n",
       "9                  No  \n",
       "10                 No  \n",
       "11                 No  \n",
       "12                 No  \n",
       "13                 No  \n",
       "14                 No  \n",
       "15                 No  \n",
       "16                Yes  \n",
       "17                 No  \n",
       "18                 No  \n",
       "19                Yes  \n",
       "20                Yes  \n",
       "21                 No  \n",
       "22                Yes  \n",
       "23                 No  \n",
       "24                 No  \n",
       "25                 No  \n",
       "26                 No  \n",
       "27                 No  \n",
       "28                 No  \n",
       "29                 No  \n",
       "..                ...  \n",
       "105               Yes  \n",
       "106                No  \n",
       "107                No  \n",
       "108                No  \n",
       "109                No  \n",
       "110                No  \n",
       "111               Yes  \n",
       "112                No  \n",
       "113               Yes  \n",
       "114                No  \n",
       "115               Yes  \n",
       "116               Yes  \n",
       "117                No  \n",
       "118               Yes  \n",
       "119                No  \n",
       "120                No  \n",
       "121                No  \n",
       "122                No  \n",
       "123                No  \n",
       "124               Yes  \n",
       "125                No  \n",
       "126                No  \n",
       "127                No  \n",
       "128                No  \n",
       "129                No  \n",
       "130                No  \n",
       "131                No  \n",
       "132               Yes  \n",
       "133                No  \n",
       "134                No  \n",
       "\n",
       "[135 rows x 7 columns]"
      ]
     },
     "execution_count": 25,
     "metadata": {},
     "output_type": "execute_result"
    }
   ],
   "source": [
    "test"
   ]
  },
  {
   "cell_type": "code",
   "execution_count": 26,
   "metadata": {},
   "outputs": [
    {
     "data": {
      "text/plain": [
       "array([[99,  0],\n",
       "       [ 0, 36]], dtype=int64)"
      ]
     },
     "execution_count": 26,
     "metadata": {},
     "output_type": "execute_result"
    }
   ],
   "source": [
    "from sklearn.metrics import confusion_matrix\n",
    "cm=confusion_matrix(test['Service'],test['Service_Predicted'])\n",
    "cm"
   ]
  },
  {
   "cell_type": "markdown",
   "metadata": {},
   "source": [
    "## <p style='color:red'>Observation:</p>\n",
    "We can observe these two columns 'Service' and 'Service_Predicted' and find out that <b>accuracy is almost 100% on our test data</b> "
   ]
  }
 ],
 "metadata": {
  "kernelspec": {
   "display_name": "Python 3",
   "language": "python",
   "name": "python3"
  },
  "language_info": {
   "codemirror_mode": {
    "name": "ipython",
    "version": 3
   },
   "file_extension": ".py",
   "mimetype": "text/x-python",
   "name": "python",
   "nbconvert_exporter": "python",
   "pygments_lexer": "ipython3",
   "version": "3.6.4"
  }
 },
 "nbformat": 4,
 "nbformat_minor": 2
}
