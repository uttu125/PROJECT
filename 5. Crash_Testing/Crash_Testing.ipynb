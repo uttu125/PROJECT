{
 "cells": [
  {
   "cell_type": "markdown",
   "metadata": {},
   "source": [
    "# AUTOMOTIVE CRASH TESTING"
   ]
  },
  {
   "cell_type": "markdown",
   "metadata": {},
   "source": [
    "## Problem Statement:\n",
    "A crash test is a form of destructive testing that is performed in order to ensure high safety standards for various cars.\n",
    "Several cars have rolled into independent audit unit for crash test.\n",
    "They are being evaluated on a defined scale { Poor (-10) to Excellent (10) } on:\n",
    "1. Manikin head(front) impact\n",
    "2. Manikin body impact\n",
    "3. Interior impact\n",
    "4. Safety Alarm System\n",
    "5. HVACi : Heating, ventilation, and air conditioning (HVAC)\n",
    "\n",
    "![title](giphy.gif)\n",
    "\n",
    "Each crash test is very expensive so crash test was performed only for 100 cars and after each test type of car (that is Hatchback or SUV ) was noted.However with this data in future they should able to predict the type of car.So to come with good model part of data is reserved for building model and remaining kept for analysis.<br/>\n",
    "Data for 80 cars is given in crashTest_1.csv and data for remaining 20 cars is given in crashTest_1_Test.csv</br>\n",
    "Use Logistic Regression classification techniq to classify the car types as Hatchback or SUV.\n",
    "\n"
   ]
  },
  {
   "cell_type": "markdown",
   "metadata": {},
   "source": [
    "# Solution/Approach:"
   ]
  },
  {
   "cell_type": "markdown",
   "metadata": {},
   "source": [
    "## 1. Importing libraries"
   ]
  },
  {
   "cell_type": "code",
   "execution_count": 1,
   "metadata": {},
   "outputs": [],
   "source": [
    "import pandas as pd\n",
    "import numpy as np\n",
    "import matplotlib.pyplot as plt\n",
    "%matplotlib inline"
   ]
  },
  {
   "cell_type": "markdown",
   "metadata": {},
   "source": [
    "## 2. Exploring Dataset"
   ]
  },
  {
   "cell_type": "code",
   "execution_count": 2,
   "metadata": {},
   "outputs": [],
   "source": [
    "# importing csv files\n",
    "\n",
    "train=pd.read_csv('crashTest_1.csv')\n",
    "test=pd.read_csv('crashTest_1_Test.csv')"
   ]
  },
  {
   "cell_type": "code",
   "execution_count": 3,
   "metadata": {},
   "outputs": [
    {
     "data": {
      "text/plain": [
       "((80, 7), (20, 7))"
      ]
     },
     "execution_count": 3,
     "metadata": {},
     "output_type": "execute_result"
    }
   ],
   "source": [
    "# give dimension of our dataframe\n",
    "\n",
    "train.shape,test.shape"
   ]
  },
  {
   "cell_type": "code",
   "execution_count": 4,
   "metadata": {},
   "outputs": [
    {
     "data": {
      "text/html": [
       "<div>\n",
       "<style scoped>\n",
       "    .dataframe tbody tr th:only-of-type {\n",
       "        vertical-align: middle;\n",
       "    }\n",
       "\n",
       "    .dataframe tbody tr th {\n",
       "        vertical-align: top;\n",
       "    }\n",
       "\n",
       "    .dataframe thead th {\n",
       "        text-align: right;\n",
       "    }\n",
       "</style>\n",
       "<table border=\"1\" class=\"dataframe\">\n",
       "  <thead>\n",
       "    <tr style=\"text-align: right;\">\n",
       "      <th></th>\n",
       "      <th>CarID</th>\n",
       "      <th>ManHI</th>\n",
       "      <th>ManBI</th>\n",
       "      <th>IntI</th>\n",
       "      <th>HVACi</th>\n",
       "      <th>Safety</th>\n",
       "      <th>CarType</th>\n",
       "    </tr>\n",
       "  </thead>\n",
       "  <tbody>\n",
       "    <tr>\n",
       "      <th>0</th>\n",
       "      <td>1</td>\n",
       "      <td>-5.27</td>\n",
       "      <td>-1.30</td>\n",
       "      <td>2.86</td>\n",
       "      <td>-4.85</td>\n",
       "      <td>4.04</td>\n",
       "      <td>SUV</td>\n",
       "    </tr>\n",
       "    <tr>\n",
       "      <th>1</th>\n",
       "      <td>2</td>\n",
       "      <td>-4.82</td>\n",
       "      <td>-5.38</td>\n",
       "      <td>9.72</td>\n",
       "      <td>-0.97</td>\n",
       "      <td>-4.57</td>\n",
       "      <td>Hatchback</td>\n",
       "    </tr>\n",
       "    <tr>\n",
       "      <th>2</th>\n",
       "      <td>3</td>\n",
       "      <td>9.57</td>\n",
       "      <td>-7.50</td>\n",
       "      <td>-7.61</td>\n",
       "      <td>1.33</td>\n",
       "      <td>-5.10</td>\n",
       "      <td>Hatchback</td>\n",
       "    </tr>\n",
       "    <tr>\n",
       "      <th>3</th>\n",
       "      <td>4</td>\n",
       "      <td>2.84</td>\n",
       "      <td>-2.85</td>\n",
       "      <td>0.92</td>\n",
       "      <td>5.51</td>\n",
       "      <td>-6.64</td>\n",
       "      <td>Hatchback</td>\n",
       "    </tr>\n",
       "    <tr>\n",
       "      <th>4</th>\n",
       "      <td>5</td>\n",
       "      <td>0.00</td>\n",
       "      <td>2.68</td>\n",
       "      <td>-4.15</td>\n",
       "      <td>0.85</td>\n",
       "      <td>5.58</td>\n",
       "      <td>SUV</td>\n",
       "    </tr>\n",
       "  </tbody>\n",
       "</table>\n",
       "</div>"
      ],
      "text/plain": [
       "   CarID  ManHI  ManBI  IntI  HVACi  Safety    CarType\n",
       "0      1  -5.27  -1.30  2.86  -4.85    4.04        SUV\n",
       "1      2  -4.82  -5.38  9.72  -0.97   -4.57  Hatchback\n",
       "2      3   9.57  -7.50 -7.61   1.33   -5.10  Hatchback\n",
       "3      4   2.84  -2.85  0.92   5.51   -6.64  Hatchback\n",
       "4      5   0.00   2.68 -4.15   0.85    5.58        SUV"
      ]
     },
     "execution_count": 4,
     "metadata": {},
     "output_type": "execute_result"
    }
   ],
   "source": [
    "# reading first five rows\n",
    "\n",
    "train.head()"
   ]
  },
  {
   "cell_type": "code",
   "execution_count": 5,
   "metadata": {},
   "outputs": [
    {
     "data": {
      "text/html": [
       "<div>\n",
       "<style scoped>\n",
       "    .dataframe tbody tr th:only-of-type {\n",
       "        vertical-align: middle;\n",
       "    }\n",
       "\n",
       "    .dataframe tbody tr th {\n",
       "        vertical-align: top;\n",
       "    }\n",
       "\n",
       "    .dataframe thead th {\n",
       "        text-align: right;\n",
       "    }\n",
       "</style>\n",
       "<table border=\"1\" class=\"dataframe\">\n",
       "  <thead>\n",
       "    <tr style=\"text-align: right;\">\n",
       "      <th></th>\n",
       "      <th>CarID</th>\n",
       "      <th>ManHI</th>\n",
       "      <th>ManBI</th>\n",
       "      <th>IntI</th>\n",
       "      <th>HVACi</th>\n",
       "      <th>Safety</th>\n",
       "      <th>CarType</th>\n",
       "    </tr>\n",
       "  </thead>\n",
       "  <tbody>\n",
       "    <tr>\n",
       "      <th>0</th>\n",
       "      <td>81</td>\n",
       "      <td>1.94</td>\n",
       "      <td>2.21</td>\n",
       "      <td>3.38</td>\n",
       "      <td>1.78</td>\n",
       "      <td>-7.19</td>\n",
       "      <td>Hatchback</td>\n",
       "    </tr>\n",
       "    <tr>\n",
       "      <th>1</th>\n",
       "      <td>82</td>\n",
       "      <td>-0.02</td>\n",
       "      <td>-3.33</td>\n",
       "      <td>0.79</td>\n",
       "      <td>-6.63</td>\n",
       "      <td>7.99</td>\n",
       "      <td>SUV</td>\n",
       "    </tr>\n",
       "    <tr>\n",
       "      <th>2</th>\n",
       "      <td>83</td>\n",
       "      <td>-0.49</td>\n",
       "      <td>-4.48</td>\n",
       "      <td>5.00</td>\n",
       "      <td>8.33</td>\n",
       "      <td>-2.77</td>\n",
       "      <td>Hatchback</td>\n",
       "    </tr>\n",
       "    <tr>\n",
       "      <th>3</th>\n",
       "      <td>84</td>\n",
       "      <td>5.76</td>\n",
       "      <td>1.35</td>\n",
       "      <td>7.92</td>\n",
       "      <td>-0.43</td>\n",
       "      <td>4.29</td>\n",
       "      <td>Hatchback</td>\n",
       "    </tr>\n",
       "    <tr>\n",
       "      <th>4</th>\n",
       "      <td>85</td>\n",
       "      <td>2.51</td>\n",
       "      <td>-8.74</td>\n",
       "      <td>4.53</td>\n",
       "      <td>-1.91</td>\n",
       "      <td>3.95</td>\n",
       "      <td>Hatchback</td>\n",
       "    </tr>\n",
       "  </tbody>\n",
       "</table>\n",
       "</div>"
      ],
      "text/plain": [
       "   CarID  ManHI  ManBI  IntI  HVACi  Safety    CarType\n",
       "0     81   1.94   2.21  3.38   1.78   -7.19  Hatchback\n",
       "1     82  -0.02  -3.33  0.79  -6.63    7.99        SUV\n",
       "2     83  -0.49  -4.48  5.00   8.33   -2.77  Hatchback\n",
       "3     84   5.76   1.35  7.92  -0.43    4.29  Hatchback\n",
       "4     85   2.51  -8.74  4.53  -1.91    3.95  Hatchback"
      ]
     },
     "execution_count": 5,
     "metadata": {},
     "output_type": "execute_result"
    }
   ],
   "source": [
    "test.head()"
   ]
  },
  {
   "cell_type": "code",
   "execution_count": 6,
   "metadata": {},
   "outputs": [
    {
     "data": {
      "text/plain": [
       "CarID        int64\n",
       "ManHI      float64\n",
       "ManBI      float64\n",
       "IntI       float64\n",
       "HVACi      float64\n",
       "Safety     float64\n",
       "CarType     object\n",
       "dtype: object"
      ]
     },
     "execution_count": 6,
     "metadata": {},
     "output_type": "execute_result"
    }
   ],
   "source": [
    "# checking datatypes of each of the column\n",
    "\n",
    "train.dtypes"
   ]
  },
  {
   "cell_type": "markdown",
   "metadata": {},
   "source": [
    "## Observation: \n",
    "\n",
    "1. Out of these 7 features, 6 are continuous in nature and 1 is categorical in nature.\n",
    "2. 'Car Type' is categorical is nature and this is the target variable\n",
    "3. 'Car Id' is not consider for prediction purpose because it is unique for all the cars and doesn't contribute in prediction."
   ]
  },
  {
   "cell_type": "markdown",
   "metadata": {},
   "source": [
    "## Univariate Analysis:"
   ]
  },
  {
   "cell_type": "code",
   "execution_count": 7,
   "metadata": {},
   "outputs": [
    {
     "data": {
      "text/html": [
       "<div>\n",
       "<style scoped>\n",
       "    .dataframe tbody tr th:only-of-type {\n",
       "        vertical-align: middle;\n",
       "    }\n",
       "\n",
       "    .dataframe tbody tr th {\n",
       "        vertical-align: top;\n",
       "    }\n",
       "\n",
       "    .dataframe thead th {\n",
       "        text-align: right;\n",
       "    }\n",
       "</style>\n",
       "<table border=\"1\" class=\"dataframe\">\n",
       "  <thead>\n",
       "    <tr style=\"text-align: right;\">\n",
       "      <th></th>\n",
       "      <th>CarID</th>\n",
       "      <th>ManHI</th>\n",
       "      <th>ManBI</th>\n",
       "      <th>IntI</th>\n",
       "      <th>HVACi</th>\n",
       "      <th>Safety</th>\n",
       "    </tr>\n",
       "  </thead>\n",
       "  <tbody>\n",
       "    <tr>\n",
       "      <th>count</th>\n",
       "      <td>80.0000</td>\n",
       "      <td>80.000000</td>\n",
       "      <td>80.000000</td>\n",
       "      <td>80.000000</td>\n",
       "      <td>80.000000</td>\n",
       "      <td>80.00000</td>\n",
       "    </tr>\n",
       "    <tr>\n",
       "      <th>mean</th>\n",
       "      <td>40.5000</td>\n",
       "      <td>-0.093500</td>\n",
       "      <td>-0.927750</td>\n",
       "      <td>-0.134875</td>\n",
       "      <td>0.119750</td>\n",
       "      <td>0.54375</td>\n",
       "    </tr>\n",
       "    <tr>\n",
       "      <th>std</th>\n",
       "      <td>23.2379</td>\n",
       "      <td>5.802878</td>\n",
       "      <td>5.600224</td>\n",
       "      <td>5.797549</td>\n",
       "      <td>5.813306</td>\n",
       "      <td>5.79723</td>\n",
       "    </tr>\n",
       "    <tr>\n",
       "      <th>min</th>\n",
       "      <td>1.0000</td>\n",
       "      <td>-9.930000</td>\n",
       "      <td>-9.940000</td>\n",
       "      <td>-9.990000</td>\n",
       "      <td>-9.820000</td>\n",
       "      <td>-9.80000</td>\n",
       "    </tr>\n",
       "    <tr>\n",
       "      <th>25%</th>\n",
       "      <td>20.7500</td>\n",
       "      <td>-5.195000</td>\n",
       "      <td>-5.705000</td>\n",
       "      <td>-5.572500</td>\n",
       "      <td>-5.675000</td>\n",
       "      <td>-4.67750</td>\n",
       "    </tr>\n",
       "    <tr>\n",
       "      <th>50%</th>\n",
       "      <td>40.5000</td>\n",
       "      <td>0.635000</td>\n",
       "      <td>-1.815000</td>\n",
       "      <td>-0.415000</td>\n",
       "      <td>0.870000</td>\n",
       "      <td>0.83000</td>\n",
       "    </tr>\n",
       "    <tr>\n",
       "      <th>75%</th>\n",
       "      <td>60.2500</td>\n",
       "      <td>5.050000</td>\n",
       "      <td>3.417500</td>\n",
       "      <td>4.977500</td>\n",
       "      <td>5.062500</td>\n",
       "      <td>4.62250</td>\n",
       "    </tr>\n",
       "    <tr>\n",
       "      <th>max</th>\n",
       "      <td>80.0000</td>\n",
       "      <td>9.570000</td>\n",
       "      <td>9.610000</td>\n",
       "      <td>9.720000</td>\n",
       "      <td>9.890000</td>\n",
       "      <td>9.99000</td>\n",
       "    </tr>\n",
       "  </tbody>\n",
       "</table>\n",
       "</div>"
      ],
      "text/plain": [
       "         CarID      ManHI      ManBI       IntI      HVACi    Safety\n",
       "count  80.0000  80.000000  80.000000  80.000000  80.000000  80.00000\n",
       "mean   40.5000  -0.093500  -0.927750  -0.134875   0.119750   0.54375\n",
       "std    23.2379   5.802878   5.600224   5.797549   5.813306   5.79723\n",
       "min     1.0000  -9.930000  -9.940000  -9.990000  -9.820000  -9.80000\n",
       "25%    20.7500  -5.195000  -5.705000  -5.572500  -5.675000  -4.67750\n",
       "50%    40.5000   0.635000  -1.815000  -0.415000   0.870000   0.83000\n",
       "75%    60.2500   5.050000   3.417500   4.977500   5.062500   4.62250\n",
       "max    80.0000   9.570000   9.610000   9.720000   9.890000   9.99000"
      ]
     },
     "execution_count": 7,
     "metadata": {},
     "output_type": "execute_result"
    }
   ],
   "source": [
    "# first for continuous variable\n",
    "\n",
    "train.describe()"
   ]
  },
  {
   "cell_type": "code",
   "execution_count": 8,
   "metadata": {},
   "outputs": [
    {
     "data": {
      "text/html": [
       "<div>\n",
       "<style scoped>\n",
       "    .dataframe tbody tr th:only-of-type {\n",
       "        vertical-align: middle;\n",
       "    }\n",
       "\n",
       "    .dataframe tbody tr th {\n",
       "        vertical-align: top;\n",
       "    }\n",
       "\n",
       "    .dataframe thead th {\n",
       "        text-align: right;\n",
       "    }\n",
       "</style>\n",
       "<table border=\"1\" class=\"dataframe\">\n",
       "  <thead>\n",
       "    <tr style=\"text-align: right;\">\n",
       "      <th></th>\n",
       "      <th>CarID</th>\n",
       "      <th>ManHI</th>\n",
       "      <th>ManBI</th>\n",
       "      <th>IntI</th>\n",
       "      <th>HVACi</th>\n",
       "      <th>Safety</th>\n",
       "    </tr>\n",
       "  </thead>\n",
       "  <tbody>\n",
       "    <tr>\n",
       "      <th>count</th>\n",
       "      <td>20.00000</td>\n",
       "      <td>20.000000</td>\n",
       "      <td>20.00000</td>\n",
       "      <td>20.000000</td>\n",
       "      <td>20.000000</td>\n",
       "      <td>20.000000</td>\n",
       "    </tr>\n",
       "    <tr>\n",
       "      <th>mean</th>\n",
       "      <td>90.50000</td>\n",
       "      <td>0.047000</td>\n",
       "      <td>0.32800</td>\n",
       "      <td>0.524000</td>\n",
       "      <td>0.723500</td>\n",
       "      <td>0.191000</td>\n",
       "    </tr>\n",
       "    <tr>\n",
       "      <th>std</th>\n",
       "      <td>5.91608</td>\n",
       "      <td>6.253216</td>\n",
       "      <td>4.05164</td>\n",
       "      <td>4.953771</td>\n",
       "      <td>5.479129</td>\n",
       "      <td>6.154548</td>\n",
       "    </tr>\n",
       "    <tr>\n",
       "      <th>min</th>\n",
       "      <td>81.00000</td>\n",
       "      <td>-9.940000</td>\n",
       "      <td>-8.74000</td>\n",
       "      <td>-8.950000</td>\n",
       "      <td>-9.230000</td>\n",
       "      <td>-8.660000</td>\n",
       "    </tr>\n",
       "    <tr>\n",
       "      <th>25%</th>\n",
       "      <td>85.75000</td>\n",
       "      <td>-5.535000</td>\n",
       "      <td>-2.50250</td>\n",
       "      <td>-3.272500</td>\n",
       "      <td>-2.455000</td>\n",
       "      <td>-6.095000</td>\n",
       "    </tr>\n",
       "    <tr>\n",
       "      <th>50%</th>\n",
       "      <td>90.50000</td>\n",
       "      <td>0.740000</td>\n",
       "      <td>0.67000</td>\n",
       "      <td>1.200000</td>\n",
       "      <td>0.675000</td>\n",
       "      <td>-0.770000</td>\n",
       "    </tr>\n",
       "    <tr>\n",
       "      <th>75%</th>\n",
       "      <td>95.25000</td>\n",
       "      <td>5.110000</td>\n",
       "      <td>2.50000</td>\n",
       "      <td>3.907500</td>\n",
       "      <td>5.337500</td>\n",
       "      <td>4.992500</td>\n",
       "    </tr>\n",
       "    <tr>\n",
       "      <th>max</th>\n",
       "      <td>100.00000</td>\n",
       "      <td>9.090000</td>\n",
       "      <td>8.42000</td>\n",
       "      <td>8.870000</td>\n",
       "      <td>8.330000</td>\n",
       "      <td>9.620000</td>\n",
       "    </tr>\n",
       "  </tbody>\n",
       "</table>\n",
       "</div>"
      ],
      "text/plain": [
       "           CarID      ManHI     ManBI       IntI      HVACi     Safety\n",
       "count   20.00000  20.000000  20.00000  20.000000  20.000000  20.000000\n",
       "mean    90.50000   0.047000   0.32800   0.524000   0.723500   0.191000\n",
       "std      5.91608   6.253216   4.05164   4.953771   5.479129   6.154548\n",
       "min     81.00000  -9.940000  -8.74000  -8.950000  -9.230000  -8.660000\n",
       "25%     85.75000  -5.535000  -2.50250  -3.272500  -2.455000  -6.095000\n",
       "50%     90.50000   0.740000   0.67000   1.200000   0.675000  -0.770000\n",
       "75%     95.25000   5.110000   2.50000   3.907500   5.337500   4.992500\n",
       "max    100.00000   9.090000   8.42000   8.870000   8.330000   9.620000"
      ]
     },
     "execution_count": 8,
     "metadata": {},
     "output_type": "execute_result"
    }
   ],
   "source": [
    "test.describe()"
   ]
  },
  {
   "cell_type": "markdown",
   "metadata": {},
   "source": [
    "## Observation: \n",
    "\n",
    "1. Each of the variable have minimum value around -9 and maximum value around +9\n",
    "2. Almost each of the variable, <b>Q3</b> has value around 5"
   ]
  },
  {
   "cell_type": "code",
   "execution_count": 9,
   "metadata": {},
   "outputs": [
    {
     "data": {
      "text/plain": [
       "<matplotlib.axes._subplots.AxesSubplot at 0x1dae37ce358>"
      ]
     },
     "execution_count": 9,
     "metadata": {},
     "output_type": "execute_result"
    },
    {
     "data": {
      "image/png": "[encoded data removed]",
      "text/plain": [
       "<matplotlib.figure.Figure at 0x1dae161bd30>"
      ]
     },
     "metadata": {},
     "output_type": "display_data"
    }
   ],
   "source": [
    "# plotting hist plot to know frequency and distribution of values\n",
    "\n",
    "plt.figure(1)\n",
    "\n",
    "plt.subplot(321)\n",
    "plt.title('ManHI')\n",
    "train['ManHI'].plot.hist(figsize=(14,10))\n",
    "\n",
    "plt.subplot(322)\n",
    "plt.title('ManBI')\n",
    "train['ManBI'].plot.hist()\n",
    "\n",
    "plt.subplot(323)\n",
    "plt.title('IntI')\n",
    "train['IntI'].plot.hist()\n",
    "\n",
    "plt.subplot(324)\n",
    "plt.title('HVACi')\n",
    "train['HVACi'].plot.hist()\n",
    "\n",
    "plt.subplot(325)\n",
    "plt.title('Safety')\n",
    "train['Safety'].plot.hist()"
   ]
  },
  {
   "cell_type": "code",
   "execution_count": 10,
   "metadata": {},
   "outputs": [
    {
     "data": {
      "text/plain": [
       "<matplotlib.axes._subplots.AxesSubplot at 0x1dae397d7f0>"
      ]
     },
     "execution_count": 10,
     "metadata": {},
     "output_type": "execute_result"
    },
    {
     "data": {
      "image/png": "[encoded data removed]",
      "text/plain": [
       "<matplotlib.figure.Figure at 0x1dae37f97b8>"
      ]
     },
     "metadata": {},
     "output_type": "display_data"
    }
   ],
   "source": [
    "# now plotting box plot to detect any outliers and also checking right or left skew\n",
    "\n",
    "plt.figure(1)\n",
    "\n",
    "plt.subplot(321)\n",
    "train['ManHI'].plot.box(figsize=(14,10))\n",
    "\n",
    "plt.subplot(322)\n",
    "train['ManBI'].plot.box()\n",
    "\n",
    "plt.subplot(323)\n",
    "train['IntI'].plot.box()\n",
    "\n",
    "plt.subplot(324)\n",
    "train['HVACi'].plot.box()\n",
    "\n",
    "plt.subplot(325)\n",
    "train['Safety'].plot.box()"
   ]
  },
  {
   "cell_type": "markdown",
   "metadata": {},
   "source": [
    "## Observation: \n",
    "1. There is no outliers,we can see directly in all box plot as there is no point below Q1 and above Q3\n",
    "2. 'ManHI','HVACi','Safety' are <b>right skew</b> because Q2 is closer to Q3\n",
    "3. 'ManBI' is <b>left skew</b> because <b>Q2 is closer to Q1</b>\n",
    "4. 'IntI' is <b>symetrically distributed</b>"
   ]
  },
  {
   "cell_type": "code",
   "execution_count": 11,
   "metadata": {},
   "outputs": [
    {
     "data": {
      "text/plain": [
       "CarID      0\n",
       "ManHI      0\n",
       "ManBI      0\n",
       "IntI       0\n",
       "HVACi      0\n",
       "Safety     0\n",
       "CarType    0\n",
       "dtype: int64"
      ]
     },
     "execution_count": 11,
     "metadata": {},
     "output_type": "execute_result"
    }
   ],
   "source": [
    "# categorical variable\n",
    "\n",
    "train.isnull().sum()"
   ]
  },
  {
   "cell_type": "code",
   "execution_count": 12,
   "metadata": {},
   "outputs": [
    {
     "data": {
      "text/plain": [
       "CarID      0\n",
       "ManHI      0\n",
       "ManBI      0\n",
       "IntI       0\n",
       "HVACi      0\n",
       "Safety     0\n",
       "CarType    0\n",
       "dtype: int64"
      ]
     },
     "execution_count": 12,
     "metadata": {},
     "output_type": "execute_result"
    }
   ],
   "source": [
    "test.isnull().sum()"
   ]
  },
  {
   "cell_type": "markdown",
   "metadata": {},
   "source": [
    "## Observation:\n",
    "1. There is no <b>missing value</b> in any of the columns of both train and test data set"
   ]
  },
  {
   "cell_type": "code",
   "execution_count": 13,
   "metadata": {},
   "outputs": [
    {
     "data": {
      "text/plain": [
       "Hatchback    50\n",
       "SUV          30\n",
       "Name: CarType, dtype: int64"
      ]
     },
     "execution_count": 13,
     "metadata": {},
     "output_type": "execute_result"
    }
   ],
   "source": [
    "train['CarType'].value_counts()"
   ]
  },
  {
   "cell_type": "code",
   "execution_count": 14,
   "metadata": {},
   "outputs": [
    {
     "data": {
      "text/plain": [
       "<matplotlib.axes._subplots.AxesSubplot at 0x1dae3a9cdd8>"
      ]
     },
     "execution_count": 14,
     "metadata": {},
     "output_type": "execute_result"
    },
    {
     "data": {
      "image/png": "[encoded data removed]",
      "text/plain": [
       "<matplotlib.figure.Figure at 0x1dae3803320>"
      ]
     },
     "metadata": {},
     "output_type": "display_data"
    }
   ],
   "source": [
    "train['CarType'].value_counts(normalize=True).plot.bar()"
   ]
  },
  {
   "cell_type": "markdown",
   "metadata": {},
   "source": [
    "## Observation: \n",
    "1. Out of 80 observation( target variable ),62.5 % of car belong to Hatchback."
   ]
  },
  {
   "cell_type": "markdown",
   "metadata": {},
   "source": [
    "## Bivariate Analysis:"
   ]
  },
  {
   "cell_type": "code",
   "execution_count": 15,
   "metadata": {},
   "outputs": [
    {
     "data": {
      "text/plain": [
       "<matplotlib.axes._subplots.AxesSubplot at 0x1dae3ecb668>"
      ]
     },
     "execution_count": 15,
     "metadata": {},
     "output_type": "execute_result"
    },
    {
     "data": {
      "image/png": "[encoded data removed]",
      "text/plain": [
       "<matplotlib.figure.Figure at 0x1dae3ae5828>"
      ]
     },
     "metadata": {},
     "output_type": "display_data"
    }
   ],
   "source": [
    "plt.figure(3)\n",
    "\n",
    "plt.subplot(321)\n",
    "plt.title('ManHI')\n",
    "train.groupby('CarType')['ManHI'].mean().plot.bar(figsize=(14,10))\n",
    "\n",
    "plt.subplot(322)\n",
    "plt.title('ManBI')\n",
    "train.groupby('CarType')['ManBI'].mean().plot.bar()\n",
    "\n",
    "plt.subplot(323)\n",
    "plt.title('IntI')\n",
    "train.groupby('CarType')['IntI'].mean().plot.bar()\n",
    "\n",
    "plt.subplot(324)\n",
    "plt.title('HVACi')\n",
    "train.groupby('CarType')['HVACi'].mean().plot.bar()\n",
    "\n",
    "plt.subplot(325)\n",
    "plt.title('Safety')\n",
    "train.groupby('CarType')['Safety'].mean().plot.bar()"
   ]
  },
  {
   "cell_type": "markdown",
   "metadata": {},
   "source": [
    "## Observation:\n",
    "1. We have already observed that out of 80 observation ,60 of them belongs to Hatchback"
   ]
  },
  {
   "cell_type": "markdown",
   "metadata": {},
   "source": [
    "# Note: \n",
    "1. As we have already observed there is no <b>missing values</b> and there is no <b>outliers</b> so there is no requirement of these two steps (i.e Missing value Treatment and Outliers Treatment )"
   ]
  },
  {
   "cell_type": "markdown",
   "metadata": {},
   "source": [
    "## Modeling:"
   ]
  },
  {
   "cell_type": "code",
   "execution_count": 16,
   "metadata": {},
   "outputs": [],
   "source": [
    "train.replace('Hatchback',0,inplace=True)\n",
    "train.replace('SUV',1,inplace=True)"
   ]
  },
  {
   "cell_type": "code",
   "execution_count": 17,
   "metadata": {},
   "outputs": [
    {
     "data": {
      "text/plain": [
       "array([1, 0, 0, 0, 1, 1, 0, 0, 0, 1, 0, 1, 1, 0, 0, 0, 0, 0, 1, 1, 1, 0,\n",
       "       0, 0, 1, 0, 0, 0, 0, 0, 0, 0, 0, 1, 0, 0, 1, 1, 1, 1, 1, 1, 0, 0,\n",
       "       1, 1, 0, 0, 0, 1, 1, 1, 0, 0, 0, 0, 1, 1, 0, 0, 0, 0, 0, 0, 1, 0,\n",
       "       1, 0, 1, 0, 0, 0, 0, 1, 0, 0, 1, 1, 0, 0], dtype=int64)"
      ]
     },
     "execution_count": 17,
     "metadata": {},
     "output_type": "execute_result"
    }
   ],
   "source": [
    "# separating independent and independent variable\n",
    "\n",
    "X=train.iloc[:, 1:6].values\n",
    "y=train.iloc[:,6].values\n",
    "y"
   ]
  },
  {
   "cell_type": "code",
   "execution_count": 18,
   "metadata": {},
   "outputs": [
    {
     "data": {
      "text/plain": [
       "((80, 5), (80,))"
      ]
     },
     "execution_count": 18,
     "metadata": {},
     "output_type": "execute_result"
    }
   ],
   "source": [
    "X.shape,y.shape"
   ]
  },
  {
   "cell_type": "code",
   "execution_count": 19,
   "metadata": {},
   "outputs": [
    {
     "name": "stdout",
     "output_type": "stream",
     "text": [
      "(64, 5)\n",
      "(16, 5)\n",
      "(64,)\n",
      "(16,)\n"
     ]
    }
   ],
   "source": [
    "# now spilliting the train data set\n",
    "\n",
    "from sklearn.model_selection import train_test_split\n",
    "\n",
    "X_train,X_test,y_train,y_test=train_test_split(X,y,test_size=0.2,random_state=0)\n",
    "print(X_train.shape)\n",
    "print(X_test.shape)\n",
    "print(y_train.shape)\n",
    "print(y_test.shape)"
   ]
  },
  {
   "cell_type": "code",
   "execution_count": 20,
   "metadata": {},
   "outputs": [
    {
     "data": {
      "text/plain": [
       "LogisticRegression(C=1.0, class_weight=None, dual=False, fit_intercept=True,\n",
       "          intercept_scaling=1, max_iter=100, multi_class='ovr', n_jobs=1,\n",
       "          penalty='l2', random_state=None, solver='liblinear', tol=0.0001,\n",
       "          verbose=0, warm_start=False)"
      ]
     },
     "execution_count": 20,
     "metadata": {},
     "output_type": "execute_result"
    }
   ],
   "source": [
    "# fitting the model\n",
    "\n",
    "from sklearn.linear_model import LogisticRegression\n",
    "lr=LogisticRegression()\n",
    "lr.fit(X_train,y_train)"
   ]
  },
  {
   "cell_type": "code",
   "execution_count": 21,
   "metadata": {},
   "outputs": [],
   "source": [
    "# predicting the values\n",
    "\n",
    "y_pred=lr.predict(X_test)"
   ]
  },
  {
   "cell_type": "code",
   "execution_count": 22,
   "metadata": {},
   "outputs": [
    {
     "data": {
      "text/plain": [
       "0.875"
      ]
     },
     "execution_count": 22,
     "metadata": {},
     "output_type": "execute_result"
    }
   ],
   "source": [
    "# checking accuracy\n",
    "\n",
    "from sklearn.metrics import accuracy_score\n",
    "accuracy=accuracy_score(y_test,y_pred)\n",
    "accuracy"
   ]
  },
  {
   "cell_type": "code",
   "execution_count": 23,
   "metadata": {},
   "outputs": [
    {
     "data": {
      "text/html": [
       "<div>\n",
       "<style scoped>\n",
       "    .dataframe tbody tr th:only-of-type {\n",
       "        vertical-align: middle;\n",
       "    }\n",
       "\n",
       "    .dataframe tbody tr th {\n",
       "        vertical-align: top;\n",
       "    }\n",
       "\n",
       "    .dataframe thead th {\n",
       "        text-align: right;\n",
       "    }\n",
       "</style>\n",
       "<table border=\"1\" class=\"dataframe\">\n",
       "  <thead>\n",
       "    <tr style=\"text-align: right;\">\n",
       "      <th></th>\n",
       "      <th>ManHI</th>\n",
       "      <th>ManBI</th>\n",
       "      <th>IntI</th>\n",
       "      <th>HVACi</th>\n",
       "      <th>Safety</th>\n",
       "    </tr>\n",
       "  </thead>\n",
       "  <tbody>\n",
       "    <tr>\n",
       "      <th>0</th>\n",
       "      <td>1.94</td>\n",
       "      <td>2.21</td>\n",
       "      <td>3.38</td>\n",
       "      <td>1.78</td>\n",
       "      <td>-7.19</td>\n",
       "    </tr>\n",
       "    <tr>\n",
       "      <th>1</th>\n",
       "      <td>-0.02</td>\n",
       "      <td>-3.33</td>\n",
       "      <td>0.79</td>\n",
       "      <td>-6.63</td>\n",
       "      <td>7.99</td>\n",
       "    </tr>\n",
       "    <tr>\n",
       "      <th>2</th>\n",
       "      <td>-0.49</td>\n",
       "      <td>-4.48</td>\n",
       "      <td>5.00</td>\n",
       "      <td>8.33</td>\n",
       "      <td>-2.77</td>\n",
       "    </tr>\n",
       "    <tr>\n",
       "      <th>3</th>\n",
       "      <td>5.76</td>\n",
       "      <td>1.35</td>\n",
       "      <td>7.92</td>\n",
       "      <td>-0.43</td>\n",
       "      <td>4.29</td>\n",
       "    </tr>\n",
       "    <tr>\n",
       "      <th>4</th>\n",
       "      <td>2.51</td>\n",
       "      <td>-8.74</td>\n",
       "      <td>4.53</td>\n",
       "      <td>-1.91</td>\n",
       "      <td>3.95</td>\n",
       "    </tr>\n",
       "    <tr>\n",
       "      <th>5</th>\n",
       "      <td>-4.47</td>\n",
       "      <td>8.42</td>\n",
       "      <td>-0.05</td>\n",
       "      <td>5.57</td>\n",
       "      <td>9.62</td>\n",
       "    </tr>\n",
       "    <tr>\n",
       "      <th>6</th>\n",
       "      <td>-9.89</td>\n",
       "      <td>-2.25</td>\n",
       "      <td>-5.00</td>\n",
       "      <td>-9.23</td>\n",
       "      <td>9.38</td>\n",
       "    </tr>\n",
       "    <tr>\n",
       "      <th>7</th>\n",
       "      <td>-9.94</td>\n",
       "      <td>-3.23</td>\n",
       "      <td>2.81</td>\n",
       "      <td>-2.98</td>\n",
       "      <td>-1.12</td>\n",
       "    </tr>\n",
       "    <tr>\n",
       "      <th>8</th>\n",
       "      <td>-8.37</td>\n",
       "      <td>4.21</td>\n",
       "      <td>-8.95</td>\n",
       "      <td>6.66</td>\n",
       "      <td>7.34</td>\n",
       "    </tr>\n",
       "    <tr>\n",
       "      <th>9</th>\n",
       "      <td>8.48</td>\n",
       "      <td>0.38</td>\n",
       "      <td>-3.02</td>\n",
       "      <td>-1.92</td>\n",
       "      <td>-7.43</td>\n",
       "    </tr>\n",
       "    <tr>\n",
       "      <th>10</th>\n",
       "      <td>0.79</td>\n",
       "      <td>0.96</td>\n",
       "      <td>-4.03</td>\n",
       "      <td>-2.28</td>\n",
       "      <td>6.20</td>\n",
       "    </tr>\n",
       "    <tr>\n",
       "      <th>11</th>\n",
       "      <td>5.32</td>\n",
       "      <td>2.08</td>\n",
       "      <td>5.55</td>\n",
       "      <td>7.89</td>\n",
       "      <td>-6.80</td>\n",
       "    </tr>\n",
       "    <tr>\n",
       "      <th>12</th>\n",
       "      <td>-7.26</td>\n",
       "      <td>-0.11</td>\n",
       "      <td>-5.27</td>\n",
       "      <td>-7.14</td>\n",
       "      <td>1.20</td>\n",
       "    </tr>\n",
       "    <tr>\n",
       "      <th>13</th>\n",
       "      <td>0.69</td>\n",
       "      <td>3.37</td>\n",
       "      <td>3.70</td>\n",
       "      <td>-5.73</td>\n",
       "      <td>-5.86</td>\n",
       "    </tr>\n",
       "    <tr>\n",
       "      <th>14</th>\n",
       "      <td>-5.53</td>\n",
       "      <td>-0.12</td>\n",
       "      <td>1.61</td>\n",
       "      <td>2.31</td>\n",
       "      <td>-8.66</td>\n",
       "    </tr>\n",
       "    <tr>\n",
       "      <th>15</th>\n",
       "      <td>8.29</td>\n",
       "      <td>1.44</td>\n",
       "      <td>-7.26</td>\n",
       "      <td>5.06</td>\n",
       "      <td>-7.00</td>\n",
       "    </tr>\n",
       "    <tr>\n",
       "      <th>16</th>\n",
       "      <td>9.09</td>\n",
       "      <td>-2.26</td>\n",
       "      <td>1.64</td>\n",
       "      <td>2.80</td>\n",
       "      <td>-1.22</td>\n",
       "    </tr>\n",
       "    <tr>\n",
       "      <th>17</th>\n",
       "      <td>5.04</td>\n",
       "      <td>4.52</td>\n",
       "      <td>0.28</td>\n",
       "      <td>8.26</td>\n",
       "      <td>4.59</td>\n",
       "    </tr>\n",
       "    <tr>\n",
       "      <th>18</th>\n",
       "      <td>4.55</td>\n",
       "      <td>-3.88</td>\n",
       "      <td>-2.02</td>\n",
       "      <td>-1.20</td>\n",
       "      <td>-0.42</td>\n",
       "    </tr>\n",
       "    <tr>\n",
       "      <th>19</th>\n",
       "      <td>-5.55</td>\n",
       "      <td>6.02</td>\n",
       "      <td>8.87</td>\n",
       "      <td>5.26</td>\n",
       "      <td>-2.27</td>\n",
       "    </tr>\n",
       "  </tbody>\n",
       "</table>\n",
       "</div>"
      ],
      "text/plain": [
       "    ManHI  ManBI  IntI  HVACi  Safety\n",
       "0    1.94   2.21  3.38   1.78   -7.19\n",
       "1   -0.02  -3.33  0.79  -6.63    7.99\n",
       "2   -0.49  -4.48  5.00   8.33   -2.77\n",
       "3    5.76   1.35  7.92  -0.43    4.29\n",
       "4    2.51  -8.74  4.53  -1.91    3.95\n",
       "5   -4.47   8.42 -0.05   5.57    9.62\n",
       "6   -9.89  -2.25 -5.00  -9.23    9.38\n",
       "7   -9.94  -3.23  2.81  -2.98   -1.12\n",
       "8   -8.37   4.21 -8.95   6.66    7.34\n",
       "9    8.48   0.38 -3.02  -1.92   -7.43\n",
       "10   0.79   0.96 -4.03  -2.28    6.20\n",
       "11   5.32   2.08  5.55   7.89   -6.80\n",
       "12  -7.26  -0.11 -5.27  -7.14    1.20\n",
       "13   0.69   3.37  3.70  -5.73   -5.86\n",
       "14  -5.53  -0.12  1.61   2.31   -8.66\n",
       "15   8.29   1.44 -7.26   5.06   -7.00\n",
       "16   9.09  -2.26  1.64   2.80   -1.22\n",
       "17   5.04   4.52  0.28   8.26    4.59\n",
       "18   4.55  -3.88 -2.02  -1.20   -0.42\n",
       "19  -5.55   6.02  8.87   5.26   -2.27"
      ]
     },
     "execution_count": 23,
     "metadata": {},
     "output_type": "execute_result"
    }
   ],
   "source": [
    "# now predicting for test data set\n",
    "\n",
    "new_test=test.drop(['CarID','CarType'],axis=1)\n",
    "new_test"
   ]
  },
  {
   "cell_type": "code",
   "execution_count": 24,
   "metadata": {},
   "outputs": [],
   "source": [
    "# now predicting on this set\n",
    "\n",
    "new_y_pred=lr.predict(new_test)"
   ]
  },
  {
   "cell_type": "code",
   "execution_count": 25,
   "metadata": {},
   "outputs": [],
   "source": [
    "test['New_CarType']=new_y_pred"
   ]
  },
  {
   "cell_type": "code",
   "execution_count": 26,
   "metadata": {},
   "outputs": [],
   "source": [
    "test['New_CarType'].replace(0,'Hatchback',inplace=True)\n",
    "test['New_CarType'].replace(1,'SUV',inplace=True)"
   ]
  },
  {
   "cell_type": "code",
   "execution_count": 27,
   "metadata": {},
   "outputs": [
    {
     "data": {
      "text/html": [
       "<div>\n",
       "<style scoped>\n",
       "    .dataframe tbody tr th:only-of-type {\n",
       "        vertical-align: middle;\n",
       "    }\n",
       "\n",
       "    .dataframe tbody tr th {\n",
       "        vertical-align: top;\n",
       "    }\n",
       "\n",
       "    .dataframe thead th {\n",
       "        text-align: right;\n",
       "    }\n",
       "</style>\n",
       "<table border=\"1\" class=\"dataframe\">\n",
       "  <thead>\n",
       "    <tr style=\"text-align: right;\">\n",
       "      <th></th>\n",
       "      <th>CarID</th>\n",
       "      <th>ManHI</th>\n",
       "      <th>ManBI</th>\n",
       "      <th>IntI</th>\n",
       "      <th>HVACi</th>\n",
       "      <th>Safety</th>\n",
       "      <th>CarType</th>\n",
       "      <th>New_CarType</th>\n",
       "    </tr>\n",
       "  </thead>\n",
       "  <tbody>\n",
       "    <tr>\n",
       "      <th>0</th>\n",
       "      <td>81</td>\n",
       "      <td>1.94</td>\n",
       "      <td>2.21</td>\n",
       "      <td>3.38</td>\n",
       "      <td>1.78</td>\n",
       "      <td>-7.19</td>\n",
       "      <td>Hatchback</td>\n",
       "      <td>Hatchback</td>\n",
       "    </tr>\n",
       "    <tr>\n",
       "      <th>1</th>\n",
       "      <td>82</td>\n",
       "      <td>-0.02</td>\n",
       "      <td>-3.33</td>\n",
       "      <td>0.79</td>\n",
       "      <td>-6.63</td>\n",
       "      <td>7.99</td>\n",
       "      <td>SUV</td>\n",
       "      <td>Hatchback</td>\n",
       "    </tr>\n",
       "    <tr>\n",
       "      <th>2</th>\n",
       "      <td>83</td>\n",
       "      <td>-0.49</td>\n",
       "      <td>-4.48</td>\n",
       "      <td>5.00</td>\n",
       "      <td>8.33</td>\n",
       "      <td>-2.77</td>\n",
       "      <td>Hatchback</td>\n",
       "      <td>Hatchback</td>\n",
       "    </tr>\n",
       "    <tr>\n",
       "      <th>3</th>\n",
       "      <td>84</td>\n",
       "      <td>5.76</td>\n",
       "      <td>1.35</td>\n",
       "      <td>7.92</td>\n",
       "      <td>-0.43</td>\n",
       "      <td>4.29</td>\n",
       "      <td>Hatchback</td>\n",
       "      <td>Hatchback</td>\n",
       "    </tr>\n",
       "    <tr>\n",
       "      <th>4</th>\n",
       "      <td>85</td>\n",
       "      <td>2.51</td>\n",
       "      <td>-8.74</td>\n",
       "      <td>4.53</td>\n",
       "      <td>-1.91</td>\n",
       "      <td>3.95</td>\n",
       "      <td>Hatchback</td>\n",
       "      <td>Hatchback</td>\n",
       "    </tr>\n",
       "    <tr>\n",
       "      <th>5</th>\n",
       "      <td>86</td>\n",
       "      <td>-4.47</td>\n",
       "      <td>8.42</td>\n",
       "      <td>-0.05</td>\n",
       "      <td>5.57</td>\n",
       "      <td>9.62</td>\n",
       "      <td>Hatchback</td>\n",
       "      <td>Hatchback</td>\n",
       "    </tr>\n",
       "    <tr>\n",
       "      <th>6</th>\n",
       "      <td>87</td>\n",
       "      <td>-9.89</td>\n",
       "      <td>-2.25</td>\n",
       "      <td>-5.00</td>\n",
       "      <td>-9.23</td>\n",
       "      <td>9.38</td>\n",
       "      <td>SUV</td>\n",
       "      <td>SUV</td>\n",
       "    </tr>\n",
       "    <tr>\n",
       "      <th>7</th>\n",
       "      <td>88</td>\n",
       "      <td>-9.94</td>\n",
       "      <td>-3.23</td>\n",
       "      <td>2.81</td>\n",
       "      <td>-2.98</td>\n",
       "      <td>-1.12</td>\n",
       "      <td>SUV</td>\n",
       "      <td>SUV</td>\n",
       "    </tr>\n",
       "    <tr>\n",
       "      <th>8</th>\n",
       "      <td>89</td>\n",
       "      <td>-8.37</td>\n",
       "      <td>4.21</td>\n",
       "      <td>-8.95</td>\n",
       "      <td>6.66</td>\n",
       "      <td>7.34</td>\n",
       "      <td>SUV</td>\n",
       "      <td>SUV</td>\n",
       "    </tr>\n",
       "    <tr>\n",
       "      <th>9</th>\n",
       "      <td>90</td>\n",
       "      <td>8.48</td>\n",
       "      <td>0.38</td>\n",
       "      <td>-3.02</td>\n",
       "      <td>-1.92</td>\n",
       "      <td>-7.43</td>\n",
       "      <td>SUV</td>\n",
       "      <td>SUV</td>\n",
       "    </tr>\n",
       "    <tr>\n",
       "      <th>10</th>\n",
       "      <td>91</td>\n",
       "      <td>0.79</td>\n",
       "      <td>0.96</td>\n",
       "      <td>-4.03</td>\n",
       "      <td>-2.28</td>\n",
       "      <td>6.20</td>\n",
       "      <td>SUV</td>\n",
       "      <td>SUV</td>\n",
       "    </tr>\n",
       "    <tr>\n",
       "      <th>11</th>\n",
       "      <td>92</td>\n",
       "      <td>5.32</td>\n",
       "      <td>2.08</td>\n",
       "      <td>5.55</td>\n",
       "      <td>7.89</td>\n",
       "      <td>-6.80</td>\n",
       "      <td>Hatchback</td>\n",
       "      <td>Hatchback</td>\n",
       "    </tr>\n",
       "    <tr>\n",
       "      <th>12</th>\n",
       "      <td>93</td>\n",
       "      <td>-7.26</td>\n",
       "      <td>-0.11</td>\n",
       "      <td>-5.27</td>\n",
       "      <td>-7.14</td>\n",
       "      <td>1.20</td>\n",
       "      <td>SUV</td>\n",
       "      <td>SUV</td>\n",
       "    </tr>\n",
       "    <tr>\n",
       "      <th>13</th>\n",
       "      <td>94</td>\n",
       "      <td>0.69</td>\n",
       "      <td>3.37</td>\n",
       "      <td>3.70</td>\n",
       "      <td>-5.73</td>\n",
       "      <td>-5.86</td>\n",
       "      <td>SUV</td>\n",
       "      <td>SUV</td>\n",
       "    </tr>\n",
       "    <tr>\n",
       "      <th>14</th>\n",
       "      <td>95</td>\n",
       "      <td>-5.53</td>\n",
       "      <td>-0.12</td>\n",
       "      <td>1.61</td>\n",
       "      <td>2.31</td>\n",
       "      <td>-8.66</td>\n",
       "      <td>SUV</td>\n",
       "      <td>SUV</td>\n",
       "    </tr>\n",
       "    <tr>\n",
       "      <th>15</th>\n",
       "      <td>96</td>\n",
       "      <td>8.29</td>\n",
       "      <td>1.44</td>\n",
       "      <td>-7.26</td>\n",
       "      <td>5.06</td>\n",
       "      <td>-7.00</td>\n",
       "      <td>SUV</td>\n",
       "      <td>SUV</td>\n",
       "    </tr>\n",
       "    <tr>\n",
       "      <th>16</th>\n",
       "      <td>97</td>\n",
       "      <td>9.09</td>\n",
       "      <td>-2.26</td>\n",
       "      <td>1.64</td>\n",
       "      <td>2.80</td>\n",
       "      <td>-1.22</td>\n",
       "      <td>Hatchback</td>\n",
       "      <td>Hatchback</td>\n",
       "    </tr>\n",
       "    <tr>\n",
       "      <th>17</th>\n",
       "      <td>98</td>\n",
       "      <td>5.04</td>\n",
       "      <td>4.52</td>\n",
       "      <td>0.28</td>\n",
       "      <td>8.26</td>\n",
       "      <td>4.59</td>\n",
       "      <td>Hatchback</td>\n",
       "      <td>Hatchback</td>\n",
       "    </tr>\n",
       "    <tr>\n",
       "      <th>18</th>\n",
       "      <td>99</td>\n",
       "      <td>4.55</td>\n",
       "      <td>-3.88</td>\n",
       "      <td>-2.02</td>\n",
       "      <td>-1.20</td>\n",
       "      <td>-0.42</td>\n",
       "      <td>Hatchback</td>\n",
       "      <td>Hatchback</td>\n",
       "    </tr>\n",
       "    <tr>\n",
       "      <th>19</th>\n",
       "      <td>100</td>\n",
       "      <td>-5.55</td>\n",
       "      <td>6.02</td>\n",
       "      <td>8.87</td>\n",
       "      <td>5.26</td>\n",
       "      <td>-2.27</td>\n",
       "      <td>Hatchback</td>\n",
       "      <td>Hatchback</td>\n",
       "    </tr>\n",
       "  </tbody>\n",
       "</table>\n",
       "</div>"
      ],
      "text/plain": [
       "    CarID  ManHI  ManBI  IntI  HVACi  Safety    CarType New_CarType\n",
       "0      81   1.94   2.21  3.38   1.78   -7.19  Hatchback   Hatchback\n",
       "1      82  -0.02  -3.33  0.79  -6.63    7.99        SUV   Hatchback\n",
       "2      83  -0.49  -4.48  5.00   8.33   -2.77  Hatchback   Hatchback\n",
       "3      84   5.76   1.35  7.92  -0.43    4.29  Hatchback   Hatchback\n",
       "4      85   2.51  -8.74  4.53  -1.91    3.95  Hatchback   Hatchback\n",
       "5      86  -4.47   8.42 -0.05   5.57    9.62  Hatchback   Hatchback\n",
       "6      87  -9.89  -2.25 -5.00  -9.23    9.38        SUV         SUV\n",
       "7      88  -9.94  -3.23  2.81  -2.98   -1.12        SUV         SUV\n",
       "8      89  -8.37   4.21 -8.95   6.66    7.34        SUV         SUV\n",
       "9      90   8.48   0.38 -3.02  -1.92   -7.43        SUV         SUV\n",
       "10     91   0.79   0.96 -4.03  -2.28    6.20        SUV         SUV\n",
       "11     92   5.32   2.08  5.55   7.89   -6.80  Hatchback   Hatchback\n",
       "12     93  -7.26  -0.11 -5.27  -7.14    1.20        SUV         SUV\n",
       "13     94   0.69   3.37  3.70  -5.73   -5.86        SUV         SUV\n",
       "14     95  -5.53  -0.12  1.61   2.31   -8.66        SUV         SUV\n",
       "15     96   8.29   1.44 -7.26   5.06   -7.00        SUV         SUV\n",
       "16     97   9.09  -2.26  1.64   2.80   -1.22  Hatchback   Hatchback\n",
       "17     98   5.04   4.52  0.28   8.26    4.59  Hatchback   Hatchback\n",
       "18     99   4.55  -3.88 -2.02  -1.20   -0.42  Hatchback   Hatchback\n",
       "19    100  -5.55   6.02  8.87   5.26   -2.27  Hatchback   Hatchback"
      ]
     },
     "execution_count": 27,
     "metadata": {},
     "output_type": "execute_result"
    }
   ],
   "source": [
    "test"
   ]
  },
  {
   "cell_type": "markdown",
   "metadata": {},
   "source": [
    "## Observation:\n",
    "1. From above table we can observe from last two columns(i.e CarType and new_CarType), only one value has incorrect prediction so <b>accuracy on final test data is 95%</b>"
   ]
  },
  {
   "cell_type": "code",
   "execution_count": null,
   "metadata": {},
   "outputs": [],
   "source": []
  }
 ],
 "metadata": {
  "kernelspec": {
   "display_name": "Python 3",
   "language": "python",
   "name": "python3"
  },
  "language_info": {
   "codemirror_mode": {
    "name": "ipython",
    "version": 3
   },
   "file_extension": ".py",
   "mimetype": "text/x-python",
   "name": "python",
   "nbconvert_exporter": "python",
   "pygments_lexer": "ipython3",
   "version": "3.6.4"
  }
 },
 "nbformat": 4,
 "nbformat_minor": 2
}
