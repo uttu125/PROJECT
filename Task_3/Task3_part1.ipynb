{
 "cells": [
  {
   "cell_type": "markdown",
   "metadata": {
    "colab_type": "text",
    "id": "AgfM19HCrJsG"
   },
   "source": [
    "## Problem Statement :\n",
    "\n",
    "Given is a list of business descriptions for around 24,000 companies (provided in the file company descriptions). There are 2 types of descriptions – long and short. Use your discretion while using either. Perform the following task using the file:  \n",
    "Classify these companies based on their business descriptions to only one of the industries from\n",
    "the industry labels given (provided in the file: Industry Segments – Top 10 Keywords).   \n",
    "\n",
    "## Sequential steps followed during problem solving :\n",
    "1. Exploring the dataset.\n",
    "2. Variables Identification.\n",
    "3. Missing value Treatement.\n",
    "4. Text Preprocessing.\n",
    "5. Applying algorithm (first on short description column).\n",
    "6. Follow step 3, 4, 5 for company description (long) column.\n",
    "7. Finally compare result on basis of both columns.\n"
   ]
  },
  {
   "cell_type": "markdown",
   "metadata": {
    "colab_type": "text",
    "id": "EFNYYrX7FaZ2"
   },
   "source": [
    "## 1. Exploring the datasets :\n"
   ]
  },
  {
   "cell_type": "code",
   "execution_count": 1,
   "metadata": {
    "colab": {},
    "colab_type": "code",
    "id": "-8lo1agbFVNt"
   },
   "outputs": [],
   "source": [
    "# importing common used library\n",
    "\n",
    "import pandas as pd\n",
    "import numpy as np\n",
    "import seaborn as sns\n",
    "import matplotlib.pyplot as plt\n",
    "%matplotlib inline"
   ]
  },
  {
   "cell_type": "code",
   "execution_count": 2,
   "metadata": {
    "colab": {
     "base_uri": "https://localhost:8080/",
     "height": 113,
     "resources": {
      "http://localhost:8080/nbextensions/google.colab/files.js": {
       "data": "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",
       "headers": [
        [
         "content-type",
         "application/javascript"
        ]
       ],
       "ok": true,
       "status": 200,
       "status_text": ""
      }
     }
    },
    "colab_type": "code",
    "id": "3uL22abPDPV5",
    "outputId": "67c85eef-3705-4227-e2d1-61e47248e6e5"
   },
   "outputs": [],
   "source": [
    "# importing datasets on google colab\n",
    "\n",
    "#from google.colab import files\n",
    "#files.upload()"
   ]
  },
  {
   "cell_type": "code",
   "execution_count": 3,
   "metadata": {
    "colab": {
     "base_uri": "https://localhost:8080/",
     "height": 113,
     "resources": {
      "http://localhost:8080/nbextensions/google.colab/files.js": {
       "data": "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",
       "headers": [
        [
         "content-type",
         "application/javascript"
        ]
       ],
       "ok": true,
       "status": 200,
       "status_text": ""
      }
     }
    },
    "colab_type": "code",
    "id": "lGKIX8czDPdl",
    "outputId": "8cbf738a-d3fa-4bd3-d594-101af8e53522"
   },
   "outputs": [],
   "source": [
    "#files.upload()"
   ]
  },
  {
   "cell_type": "code",
   "execution_count": 4,
   "metadata": {
    "colab": {
     "base_uri": "https://localhost:8080/",
     "height": 54
    },
    "colab_type": "code",
    "id": "j1DihhVpDPh3",
    "outputId": "a9814e0b-a46a-416b-f65d-36f238bc28ea"
   },
   "outputs": [
    {
     "name": "stdout",
     "output_type": "stream",
     "text": [
      "keyword dataset dimension :  (30, 2)\n",
      "company dataset dimension :  (19965, 3)\n"
     ]
    }
   ],
   "source": [
    "# reading the datasets\n",
    "\n",
    "keyword = pd.read_excel(\"Industry Segments - Top 10 Keywords.xlsx\")\n",
    "company = pd.read_excel(\"company descriptions.xlsx\")\n",
    "\n",
    "# copying the datasets so that after any manupulation we still have original dataset\n",
    "\n",
    "keyword_copy=keyword.copy()\n",
    "company_copy=company.copy()\n",
    "\n",
    "# checking dimension of datasets\n",
    "\n",
    "print(\"keyword dataset dimension : \",keyword.shape)\n",
    "print(\"company dataset dimension : \",company.shape)"
   ]
  },
  {
   "cell_type": "code",
   "execution_count": 5,
   "metadata": {
    "colab": {
     "base_uri": "https://localhost:8080/",
     "height": 253
    },
    "colab_type": "code",
    "id": "oXE9B_9pDPsM",
    "outputId": "517e0d50-6042-491c-9153-679ff8956fbf"
   },
   "outputs": [
    {
     "name": "stdout",
     "output_type": "stream",
     "text": [
      "***********************************************************************\n",
      "first five rows of keyword data :-\n",
      "***********************************************************************\n"
     ]
    },
    {
     "data": {
      "text/html": [
       "<div>\n",
       "<style scoped>\n",
       "    .dataframe tbody tr th:only-of-type {\n",
       "        vertical-align: middle;\n",
       "    }\n",
       "\n",
       "    .dataframe tbody tr th {\n",
       "        vertical-align: top;\n",
       "    }\n",
       "\n",
       "    .dataframe thead th {\n",
       "        text-align: right;\n",
       "    }\n",
       "</style>\n",
       "<table border=\"1\" class=\"dataframe\">\n",
       "  <thead>\n",
       "    <tr style=\"text-align: right;\">\n",
       "      <th></th>\n",
       "      <th>Industry segment</th>\n",
       "      <th>Top 10 keywords</th>\n",
       "    </tr>\n",
       "  </thead>\n",
       "  <tbody>\n",
       "    <tr>\n",
       "      <td>0</td>\n",
       "      <td>Aerospace and defense</td>\n",
       "      <td>Security, systems, video, surveillance, servic...</td>\n",
       "    </tr>\n",
       "    <tr>\n",
       "      <td>1</td>\n",
       "      <td>Agriculture and forestry</td>\n",
       "      <td>Service, cleantech, water, agriculture, traits...</td>\n",
       "    </tr>\n",
       "    <tr>\n",
       "      <td>2</td>\n",
       "      <td>Biopharmaceuticals</td>\n",
       "      <td>Developer, treatment, drug, diseases, technolo...</td>\n",
       "    </tr>\n",
       "    <tr>\n",
       "      <td>3</td>\n",
       "      <td>Business support services</td>\n",
       "      <td>Service, platform, online, management, data, m...</td>\n",
       "    </tr>\n",
       "    <tr>\n",
       "      <td>4</td>\n",
       "      <td>Communications and networking</td>\n",
       "      <td>Service, wireless, network, data, internet, ap...</td>\n",
       "    </tr>\n",
       "  </tbody>\n",
       "</table>\n",
       "</div>"
      ],
      "text/plain": [
       "                Industry segment  \\\n",
       "0          Aerospace and defense   \n",
       "1       Agriculture and forestry   \n",
       "2             Biopharmaceuticals   \n",
       "3      Business support services   \n",
       "4  Communications and networking   \n",
       "\n",
       "                                     Top 10 keywords  \n",
       "0  Security, systems, video, surveillance, servic...  \n",
       "1  Service, cleantech, water, agriculture, traits...  \n",
       "2  Developer, treatment, drug, diseases, technolo...  \n",
       "3  Service, platform, online, management, data, m...  \n",
       "4  Service, wireless, network, data, internet, ap...  "
      ]
     },
     "execution_count": 5,
     "metadata": {},
     "output_type": "execute_result"
    }
   ],
   "source": [
    "# accessing first five rows of keyword dataset to see how it looks like\n",
    "\n",
    "print(\"*\"*71)\n",
    "print(\"first five rows of keyword data :-\")\n",
    "print(\"*\"*71)\n",
    "keyword.head()"
   ]
  },
  {
   "cell_type": "code",
   "execution_count": 6,
   "metadata": {
    "colab": {
     "base_uri": "https://localhost:8080/",
     "height": 253
    },
    "colab_type": "code",
    "id": "dCGwJYV9DPwM",
    "outputId": "5ccb2303-0bd3-46b1-caaa-81e9c5629aa1"
   },
   "outputs": [
    {
     "name": "stdout",
     "output_type": "stream",
     "text": [
      "***********************************************************************\n",
      "first five rows of company data:-\n",
      "***********************************************************************\n"
     ]
    },
    {
     "data": {
      "text/html": [
       "<div>\n",
       "<style scoped>\n",
       "    .dataframe tbody tr th:only-of-type {\n",
       "        vertical-align: middle;\n",
       "    }\n",
       "\n",
       "    .dataframe tbody tr th {\n",
       "        vertical-align: top;\n",
       "    }\n",
       "\n",
       "    .dataframe thead th {\n",
       "        text-align: right;\n",
       "    }\n",
       "</style>\n",
       "<table border=\"1\" class=\"dataframe\">\n",
       "  <thead>\n",
       "    <tr style=\"text-align: right;\">\n",
       "      <th></th>\n",
       "      <th>company_name</th>\n",
       "      <th>company_short_description</th>\n",
       "      <th>company_description</th>\n",
       "    </tr>\n",
       "  </thead>\n",
       "  <tbody>\n",
       "    <tr>\n",
       "      <td>0</td>\n",
       "      <td>Codementor</td>\n",
       "      <td>Codementor is an online marketplace connecting...</td>\n",
       "      <td>Codementor provides live 1:1 help for software...</td>\n",
       "    </tr>\n",
       "    <tr>\n",
       "      <td>1</td>\n",
       "      <td>AgShift</td>\n",
       "      <td>AgShift is designing world's most advanced aut...</td>\n",
       "      <td>AgShift solution blends Deep Learning with Com...</td>\n",
       "    </tr>\n",
       "    <tr>\n",
       "      <td>2</td>\n",
       "      <td>Shipsi</td>\n",
       "      <td>Shipsi empowers any retailer with the ability ...</td>\n",
       "      <td>Shipsi empowers any retailer with the ability ...</td>\n",
       "    </tr>\n",
       "    <tr>\n",
       "      <td>3</td>\n",
       "      <td>OpenNews</td>\n",
       "      <td>OpenNews helps a global network of developers,...</td>\n",
       "      <td>We're helping a global network of developers, ...</td>\n",
       "    </tr>\n",
       "    <tr>\n",
       "      <td>4</td>\n",
       "      <td>Biobot Analytics</td>\n",
       "      <td>Biobot Analytics analyzes city sewage to estim...</td>\n",
       "      <td>Biobot Analytics analyzes sewage to estimate o...</td>\n",
       "    </tr>\n",
       "  </tbody>\n",
       "</table>\n",
       "</div>"
      ],
      "text/plain": [
       "       company_name                          company_short_description  \\\n",
       "0        Codementor  Codementor is an online marketplace connecting...   \n",
       "1           AgShift  AgShift is designing world's most advanced aut...   \n",
       "2            Shipsi  Shipsi empowers any retailer with the ability ...   \n",
       "3          OpenNews  OpenNews helps a global network of developers,...   \n",
       "4  Biobot Analytics  Biobot Analytics analyzes city sewage to estim...   \n",
       "\n",
       "                                 company_description  \n",
       "0  Codementor provides live 1:1 help for software...  \n",
       "1  AgShift solution blends Deep Learning with Com...  \n",
       "2  Shipsi empowers any retailer with the ability ...  \n",
       "3  We're helping a global network of developers, ...  \n",
       "4  Biobot Analytics analyzes sewage to estimate o...  "
      ]
     },
     "execution_count": 6,
     "metadata": {},
     "output_type": "execute_result"
    }
   ],
   "source": [
    "# accessing first five rows of company dataset to see how it looks like\n",
    "\n",
    "print(\"*\"*71)\n",
    "print(\"first five rows of company data:-\")\n",
    "print(\"*\"*71)\n",
    "company.head()"
   ]
  },
  {
   "cell_type": "markdown",
   "metadata": {
    "colab_type": "text",
    "id": "5uCxyI4iHhwL"
   },
   "source": [
    "## 2. Variables Identification:\n",
    "\n"
   ]
  },
  {
   "cell_type": "code",
   "execution_count": 7,
   "metadata": {
    "colab": {
     "base_uri": "https://localhost:8080/",
     "height": 363
    },
    "colab_type": "code",
    "id": "sIt6zftEDPoz",
    "outputId": "ce27524c-607c-467d-db0b-2a94e47251a5"
   },
   "outputs": [
    {
     "name": "stdout",
     "output_type": "stream",
     "text": [
      "<class 'pandas.core.frame.DataFrame'>\n",
      "RangeIndex: 30 entries, 0 to 29\n",
      "Data columns (total 2 columns):\n",
      "Industry segment    28 non-null object\n",
      "Top 10 keywords     27 non-null object\n",
      "dtypes: object(2)\n",
      "memory usage: 608.0+ bytes\n",
      "None\n",
      "***********************************************************************\n",
      "***********************************************************************\n",
      "<class 'pandas.core.frame.DataFrame'>\n",
      "RangeIndex: 19965 entries, 0 to 19964\n",
      "Data columns (total 3 columns):\n",
      "company_name                 19965 non-null object\n",
      "company_short_description    19965 non-null object\n",
      "company_description          19237 non-null object\n",
      "dtypes: object(3)\n",
      "memory usage: 468.1+ KB\n",
      "None\n"
     ]
    }
   ],
   "source": [
    "# checking datatype of each columns and any missing values\n",
    "\n",
    "print(keyword.info())\n",
    "print(\"*\"*71)\n",
    "print(\"*\"*71)\n",
    "print(company.info())"
   ]
  },
  {
   "cell_type": "markdown",
   "metadata": {
    "colab_type": "text",
    "id": "DLo-kWTTJY5d"
   },
   "source": [
    "## Observations :\n",
    "1. Keyword datset consist of two columns, Idustry segment column has 28 non-missing values/rows out of 30 while Top 10 keywords column has 27 non-missing values/rows out of 30.\n",
    "2. Keyword datset consist of three columns, company_name column has 19965 non-missing values/rows out of 19965 while company_short_description column has 19965 non-missing values/rows out of 19965 and company_description column has 19237 non-missing values/rows out of 19965.\n",
    "3. The datatype of all columns in both datasets are Object.\n"
   ]
  },
  {
   "cell_type": "markdown",
   "metadata": {
    "colab_type": "text",
    "id": "HVDJDD-hKnRD"
   },
   "source": [
    "## 3. Missing Value Treatment:"
   ]
  },
  {
   "cell_type": "code",
   "execution_count": 8,
   "metadata": {
    "colab": {
     "base_uri": "https://localhost:8080/",
     "height": 217
    },
    "colab_type": "code",
    "id": "59rIK7GHKz3g",
    "outputId": "53b814cc-46a2-4664-89ca-6c8f32d1e096"
   },
   "outputs": [
    {
     "name": "stdout",
     "output_type": "stream",
     "text": [
      "% of null values for each column:\n",
      " Industry segment     6.666667\n",
      "Top 10 keywords     10.000000\n",
      "dtype: float64\n",
      "***********************************************************************\n",
      "***********************************************************************\n",
      "% of null values for each column:\n",
      " company_name                 0.000000\n",
      "company_short_description    0.000000\n",
      "company_description          3.646381\n",
      "dtype: float64\n"
     ]
    }
   ],
   "source": [
    "# Check the percentage of null values per variable\n",
    "\n",
    "print(\"% of null values for each column:\\n\",keyword.isnull().sum()/keyword.shape[0]*100)\n",
    "print(\"*\"*71)\n",
    "print(\"*\"*71)\n",
    "print(\"% of null values for each column:\\n\",company.isnull().sum()/company.shape[0]*100)"
   ]
  },
  {
   "cell_type": "markdown",
   "metadata": {
    "colab_type": "text",
    "id": "XayzBR85Vzh0"
   },
   "source": [
    "## Observations :\n",
    "\n",
    "1. Dropping all rows containing NAN from keyword dataset because we can't fill directly any value (like mode etc) because keywords is related to that particular company profile.\n",
    "2. Not dropping any values from company dataset because I am considering only two columns (company_name, company_short_description) and there is no missing values for these two columns and further we can extend to third column.\n"
   ]
  },
  {
   "cell_type": "code",
   "execution_count": 9,
   "metadata": {
    "colab": {
     "base_uri": "https://localhost:8080/",
     "height": 54
    },
    "colab_type": "code",
    "id": "OJhjBYTnT5sV",
    "outputId": "75b5f3ca-29bd-4d63-895b-bb94fc8b9766"
   },
   "outputs": [
    {
     "name": "stdout",
     "output_type": "stream",
     "text": [
      "keyword dataset new dimension :  (27, 2)\n",
      "company_short dataset dimension :  (19965, 2)\n"
     ]
    }
   ],
   "source": [
    "# dropping missing values from keyword dataset as we can't fill directly value (like mode etc) because keyword is related to that particular company profile\n",
    "\n",
    "keyword = keyword.dropna()\n",
    "print(\"keyword dataset new dimension : \",keyword.shape)\n",
    "\n",
    "# considering only two columns\n",
    "\n",
    "company_short = company[['company_name', 'company_short_description']]\n",
    "print(\"company_short dataset dimension : \",company_short.shape)"
   ]
  },
  {
   "cell_type": "markdown",
   "metadata": {
    "colab_type": "text",
    "id": "X5-_vCq0Vj-K"
   },
   "source": [
    "## 4. Text Preprocessing : "
   ]
  },
  {
   "cell_type": "code",
   "execution_count": 10,
   "metadata": {
    "colab": {
     "base_uri": "https://localhost:8080/",
     "height": 247
    },
    "colab_type": "code",
    "id": "uNaX-qzK2PLy",
    "outputId": "700ca545-fd19-48a0-f1fc-7b3907d2a145"
   },
   "outputs": [
    {
     "name": "stderr",
     "output_type": "stream",
     "text": [
      "C:\\Users\\Purushottam\\Anaconda3\\lib\\site-packages\\ipykernel_launcher.py:12: SettingWithCopyWarning: \n",
      "A value is trying to be set on a copy of a slice from a DataFrame.\n",
      "Try using .loc[row_indexer,col_indexer] = value instead\n",
      "\n",
      "See the caveats in the documentation: http://pandas.pydata.org/pandas-docs/stable/user_guide/indexing.html#returning-a-view-versus-a-copy\n",
      "  if sys.path[0] == '':\n"
     ]
    },
    {
     "data": {
      "text/html": [
       "<div>\n",
       "<style scoped>\n",
       "    .dataframe tbody tr th:only-of-type {\n",
       "        vertical-align: middle;\n",
       "    }\n",
       "\n",
       "    .dataframe tbody tr th {\n",
       "        vertical-align: top;\n",
       "    }\n",
       "\n",
       "    .dataframe thead th {\n",
       "        text-align: right;\n",
       "    }\n",
       "</style>\n",
       "<table border=\"1\" class=\"dataframe\">\n",
       "  <thead>\n",
       "    <tr style=\"text-align: right;\">\n",
       "      <th></th>\n",
       "      <th>company_name</th>\n",
       "      <th>company_short_description</th>\n",
       "    </tr>\n",
       "  </thead>\n",
       "  <tbody>\n",
       "    <tr>\n",
       "      <td>0</td>\n",
       "      <td>Codementor</td>\n",
       "      <td>codementor is an online marketplace connecting...</td>\n",
       "    </tr>\n",
       "    <tr>\n",
       "      <td>1</td>\n",
       "      <td>AgShift</td>\n",
       "      <td>agshift is designing world s most advanced aut...</td>\n",
       "    </tr>\n",
       "    <tr>\n",
       "      <td>2</td>\n",
       "      <td>Shipsi</td>\n",
       "      <td>shipsi empowers any retailer with the ability ...</td>\n",
       "    </tr>\n",
       "  </tbody>\n",
       "</table>\n",
       "</div>"
      ],
      "text/plain": [
       "  company_name                          company_short_description\n",
       "0   Codementor  codementor is an online marketplace connecting...\n",
       "1      AgShift  agshift is designing world s most advanced aut...\n",
       "2       Shipsi  shipsi empowers any retailer with the ability ..."
      ]
     },
     "execution_count": 10,
     "metadata": {},
     "output_type": "execute_result"
    }
   ],
   "source": [
    "import re\n",
    "import string\n",
    "\n",
    "# removing number, punctuation etc\n",
    "# converting into lower case\n",
    "\n",
    "alphanumeric = lambda x: re.sub(r\"\"\"\\w*\\d\\w*\"\"\", ' ', x)\n",
    "punc_lower = lambda x: re.sub('[%s]' % re.escape(string.punctuation), ' ', x.lower())\n",
    "\n",
    "keyword['Top 10 keywords'] = keyword['Top 10 keywords'].map(punc_lower)\n",
    "\n",
    "company_short['company_short_description'] = company_short.company_short_description.map(alphanumeric).map(punc_lower)\n",
    "company_short.head(3)"
   ]
  },
  {
   "cell_type": "code",
   "execution_count": 11,
   "metadata": {
    "colab": {
     "base_uri": "https://localhost:8080/",
     "height": 138
    },
    "colab_type": "code",
    "id": "U20sStPGOTq0",
    "outputId": "f4ab13fb-e06e-4321-913f-8b73b87a532d"
   },
   "outputs": [
    {
     "data": {
      "text/html": [
       "<div>\n",
       "<style scoped>\n",
       "    .dataframe tbody tr th:only-of-type {\n",
       "        vertical-align: middle;\n",
       "    }\n",
       "\n",
       "    .dataframe tbody tr th {\n",
       "        vertical-align: top;\n",
       "    }\n",
       "\n",
       "    .dataframe thead th {\n",
       "        text-align: right;\n",
       "    }\n",
       "</style>\n",
       "<table border=\"1\" class=\"dataframe\">\n",
       "  <thead>\n",
       "    <tr style=\"text-align: right;\">\n",
       "      <th></th>\n",
       "      <th>Industry segment</th>\n",
       "      <th>Top 10 keywords</th>\n",
       "    </tr>\n",
       "  </thead>\n",
       "  <tbody>\n",
       "    <tr>\n",
       "      <td>0</td>\n",
       "      <td>Aerospace and defense</td>\n",
       "      <td>security  systems  video  surveillance  servic...</td>\n",
       "    </tr>\n",
       "    <tr>\n",
       "      <td>1</td>\n",
       "      <td>Agriculture and forestry</td>\n",
       "      <td>service  cleantech  water  agriculture  traits...</td>\n",
       "    </tr>\n",
       "    <tr>\n",
       "      <td>2</td>\n",
       "      <td>Biopharmaceuticals</td>\n",
       "      <td>developer  treatment  drug  diseases  technolo...</td>\n",
       "    </tr>\n",
       "  </tbody>\n",
       "</table>\n",
       "</div>"
      ],
      "text/plain": [
       "           Industry segment                                    Top 10 keywords\n",
       "0     Aerospace and defense  security  systems  video  surveillance  servic...\n",
       "1  Agriculture and forestry  service  cleantech  water  agriculture  traits...\n",
       "2        Biopharmaceuticals  developer  treatment  drug  diseases  technolo..."
      ]
     },
     "execution_count": 11,
     "metadata": {},
     "output_type": "execute_result"
    }
   ],
   "source": [
    "keyword.head(3)"
   ]
  },
  {
   "cell_type": "code",
   "execution_count": 12,
   "metadata": {
    "colab": {
     "base_uri": "https://localhost:8080/",
     "height": 72
    },
    "colab_type": "code",
    "id": "ySa9WaZ82rvj",
    "outputId": "3d683025-8f58-4b70-ec9f-1cef8d0c406b"
   },
   "outputs": [
    {
     "name": "stderr",
     "output_type": "stream",
     "text": [
      "[nltk_data] Downloading package stopwords to\n",
      "[nltk_data]     C:\\Users\\Purushottam\\AppData\\Roaming\\nltk_data...\n",
      "[nltk_data]   Package stopwords is already up-to-date!\n"
     ]
    },
    {
     "data": {
      "text/plain": [
       "True"
      ]
     },
     "execution_count": 12,
     "metadata": {},
     "output_type": "execute_result"
    }
   ],
   "source": [
    "# importing library for text preprocessing part\n",
    "\n",
    "import nltk\n",
    "\n",
    "# this 2nd line doesn't require in jupyter notebook after downloading once\n",
    "# but in google golab it requires again if we end/close this notebook\n",
    "\n",
    "nltk.download('stopwords')"
   ]
  },
  {
   "cell_type": "code",
   "execution_count": 13,
   "metadata": {
    "colab": {},
    "colab_type": "code",
    "id": "JKf2kHfY2U4V"
   },
   "outputs": [],
   "source": [
    "# importing stopwords \n",
    "# the reason for removing stopwords is that if some company description have large number of stopwords then probability will decrease due to this\n",
    "\n",
    "# even this step can be performed using CountVectorizer (using stop word parameter, I had done in clustering part) \n",
    "# and there is no need of CountVectorizer here\n",
    "\n",
    "from nltk.corpus import stopwords\n",
    "\n",
    "stop = stopwords.words('english')"
   ]
  },
  {
   "cell_type": "code",
   "execution_count": 14,
   "metadata": {
    "colab": {
     "base_uri": "https://localhost:8080/",
     "height": 247
    },
    "colab_type": "code",
    "id": "tSSrxADO2bIs",
    "outputId": "62704d60-bed0-46ae-929e-0fdd4f4e024e"
   },
   "outputs": [
    {
     "name": "stderr",
     "output_type": "stream",
     "text": [
      "C:\\Users\\Purushottam\\Anaconda3\\lib\\site-packages\\ipykernel_launcher.py:3: SettingWithCopyWarning: \n",
      "A value is trying to be set on a copy of a slice from a DataFrame.\n",
      "Try using .loc[row_indexer,col_indexer] = value instead\n",
      "\n",
      "See the caveats in the documentation: http://pandas.pydata.org/pandas-docs/stable/user_guide/indexing.html#returning-a-view-versus-a-copy\n",
      "  This is separate from the ipykernel package so we can avoid doing imports until\n"
     ]
    },
    {
     "data": {
      "text/html": [
       "<div>\n",
       "<style scoped>\n",
       "    .dataframe tbody tr th:only-of-type {\n",
       "        vertical-align: middle;\n",
       "    }\n",
       "\n",
       "    .dataframe tbody tr th {\n",
       "        vertical-align: top;\n",
       "    }\n",
       "\n",
       "    .dataframe thead th {\n",
       "        text-align: right;\n",
       "    }\n",
       "</style>\n",
       "<table border=\"1\" class=\"dataframe\">\n",
       "  <thead>\n",
       "    <tr style=\"text-align: right;\">\n",
       "      <th></th>\n",
       "      <th>company_name</th>\n",
       "      <th>company_short_description</th>\n",
       "    </tr>\n",
       "  </thead>\n",
       "  <tbody>\n",
       "    <tr>\n",
       "      <td>0</td>\n",
       "      <td>Codementor</td>\n",
       "      <td>codementor online marketplace connecting devel...</td>\n",
       "    </tr>\n",
       "    <tr>\n",
       "      <td>1</td>\n",
       "      <td>AgShift</td>\n",
       "      <td>agshift designing world advanced autonomous fo...</td>\n",
       "    </tr>\n",
       "    <tr>\n",
       "      <td>2</td>\n",
       "      <td>Shipsi</td>\n",
       "      <td>shipsi empowers retailer ability offer easy “i...</td>\n",
       "    </tr>\n",
       "  </tbody>\n",
       "</table>\n",
       "</div>"
      ],
      "text/plain": [
       "  company_name                          company_short_description\n",
       "0   Codementor  codementor online marketplace connecting devel...\n",
       "1      AgShift  agshift designing world advanced autonomous fo...\n",
       "2       Shipsi  shipsi empowers retailer ability offer easy “i..."
      ]
     },
     "execution_count": 14,
     "metadata": {},
     "output_type": "execute_result"
    }
   ],
   "source": [
    "# removing stopwords\n",
    "\n",
    "company_short['company_short_description'] = company_short['company_short_description'].apply(lambda x: ' '.join([word for word in x.split() if word not in (stop)]))\n",
    "company_short.head(3)"
   ]
  },
  {
   "cell_type": "code",
   "execution_count": 15,
   "metadata": {
    "colab": {
     "base_uri": "https://localhost:8080/",
     "height": 72
    },
    "colab_type": "code",
    "id": "6C9EyLllv3LA",
    "outputId": "9c812cc5-733b-4ecb-8902-42fe0295c8fa"
   },
   "outputs": [
    {
     "name": "stderr",
     "output_type": "stream",
     "text": [
      "[nltk_data] Downloading package punkt to\n",
      "[nltk_data]     C:\\Users\\Purushottam\\AppData\\Roaming\\nltk_data...\n",
      "[nltk_data]   Package punkt is already up-to-date!\n"
     ]
    },
    {
     "data": {
      "text/plain": [
       "True"
      ]
     },
     "execution_count": 15,
     "metadata": {},
     "output_type": "execute_result"
    }
   ],
   "source": [
    "# for tokenization, We have to download punkt\n",
    "\n",
    "nltk.download('punkt')"
   ]
  },
  {
   "cell_type": "code",
   "execution_count": 16,
   "metadata": {
    "colab": {
     "base_uri": "https://localhost:8080/",
     "height": 138
    },
    "colab_type": "code",
    "id": "hlIBZlTGe4EA",
    "outputId": "c634e3eb-cfb7-4481-ad9d-d94c8f371a5b"
   },
   "outputs": [
    {
     "data": {
      "text/html": [
       "<div>\n",
       "<style scoped>\n",
       "    .dataframe tbody tr th:only-of-type {\n",
       "        vertical-align: middle;\n",
       "    }\n",
       "\n",
       "    .dataframe tbody tr th {\n",
       "        vertical-align: top;\n",
       "    }\n",
       "\n",
       "    .dataframe thead th {\n",
       "        text-align: right;\n",
       "    }\n",
       "</style>\n",
       "<table border=\"1\" class=\"dataframe\">\n",
       "  <thead>\n",
       "    <tr style=\"text-align: right;\">\n",
       "      <th></th>\n",
       "      <th>company_name</th>\n",
       "      <th>company_short_description</th>\n",
       "      <th>tokenized_word</th>\n",
       "    </tr>\n",
       "  </thead>\n",
       "  <tbody>\n",
       "    <tr>\n",
       "      <td>0</td>\n",
       "      <td>Codementor</td>\n",
       "      <td>codementor online marketplace connecting devel...</td>\n",
       "      <td>[codementor, online, marketplace, connecting, ...</td>\n",
       "    </tr>\n",
       "    <tr>\n",
       "      <td>1</td>\n",
       "      <td>AgShift</td>\n",
       "      <td>agshift designing world advanced autonomous fo...</td>\n",
       "      <td>[agshift, designing, world, advanced, autonomo...</td>\n",
       "    </tr>\n",
       "    <tr>\n",
       "      <td>2</td>\n",
       "      <td>Shipsi</td>\n",
       "      <td>shipsi empowers retailer ability offer easy “i...</td>\n",
       "      <td>[shipsi, empowers, retailer, ability, offer, e...</td>\n",
       "    </tr>\n",
       "  </tbody>\n",
       "</table>\n",
       "</div>"
      ],
      "text/plain": [
       "  company_name                          company_short_description  \\\n",
       "0   Codementor  codementor online marketplace connecting devel...   \n",
       "1      AgShift  agshift designing world advanced autonomous fo...   \n",
       "2       Shipsi  shipsi empowers retailer ability offer easy “i...   \n",
       "\n",
       "                                      tokenized_word  \n",
       "0  [codementor, online, marketplace, connecting, ...  \n",
       "1  [agshift, designing, world, advanced, autonomo...  \n",
       "2  [shipsi, empowers, retailer, ability, offer, e...  "
      ]
     },
     "execution_count": 16,
     "metadata": {},
     "output_type": "execute_result"
    }
   ],
   "source": [
    "# tokenizing short description of each word\n",
    "\n",
    "from nltk.tokenize import word_tokenize\n",
    "\n",
    "company_short['tokenized_word'] = company_short['company_short_description'].apply(word_tokenize)\n",
    "company_short.head(3)"
   ]
  },
  {
   "cell_type": "code",
   "execution_count": 17,
   "metadata": {
    "colab": {
     "base_uri": "https://localhost:8080/",
     "height": 138
    },
    "colab_type": "code",
    "id": "mGmhnB-ghkVq",
    "outputId": "b1352aa3-7889-4bc5-dd08-37e6e39c5bc3"
   },
   "outputs": [
    {
     "data": {
      "text/html": [
       "<div>\n",
       "<style scoped>\n",
       "    .dataframe tbody tr th:only-of-type {\n",
       "        vertical-align: middle;\n",
       "    }\n",
       "\n",
       "    .dataframe tbody tr th {\n",
       "        vertical-align: top;\n",
       "    }\n",
       "\n",
       "    .dataframe thead th {\n",
       "        text-align: right;\n",
       "    }\n",
       "</style>\n",
       "<table border=\"1\" class=\"dataframe\">\n",
       "  <thead>\n",
       "    <tr style=\"text-align: right;\">\n",
       "      <th></th>\n",
       "      <th>Industry segment</th>\n",
       "      <th>Top 10 keywords</th>\n",
       "      <th>tokenized</th>\n",
       "    </tr>\n",
       "  </thead>\n",
       "  <tbody>\n",
       "    <tr>\n",
       "      <td>0</td>\n",
       "      <td>Aerospace and defense</td>\n",
       "      <td>security  systems  video  surveillance  servic...</td>\n",
       "      <td>[security, systems, video, surveillance, servi...</td>\n",
       "    </tr>\n",
       "    <tr>\n",
       "      <td>1</td>\n",
       "      <td>Agriculture and forestry</td>\n",
       "      <td>service  cleantech  water  agriculture  traits...</td>\n",
       "      <td>[service, cleantech, water, agriculture, trait...</td>\n",
       "    </tr>\n",
       "    <tr>\n",
       "      <td>2</td>\n",
       "      <td>Biopharmaceuticals</td>\n",
       "      <td>developer  treatment  drug  diseases  technolo...</td>\n",
       "      <td>[developer, treatment, drug, diseases, technol...</td>\n",
       "    </tr>\n",
       "  </tbody>\n",
       "</table>\n",
       "</div>"
      ],
      "text/plain": [
       "           Industry segment  \\\n",
       "0     Aerospace and defense   \n",
       "1  Agriculture and forestry   \n",
       "2        Biopharmaceuticals   \n",
       "\n",
       "                                     Top 10 keywords  \\\n",
       "0  security  systems  video  surveillance  servic...   \n",
       "1  service  cleantech  water  agriculture  traits...   \n",
       "2  developer  treatment  drug  diseases  technolo...   \n",
       "\n",
       "                                           tokenized  \n",
       "0  [security, systems, video, surveillance, servi...  \n",
       "1  [service, cleantech, water, agriculture, trait...  \n",
       "2  [developer, treatment, drug, diseases, technol...  "
      ]
     },
     "execution_count": 17,
     "metadata": {},
     "output_type": "execute_result"
    }
   ],
   "source": [
    "keyword['tokenized'] = keyword['Top 10 keywords'].apply(word_tokenize)\n",
    "keyword.head(3)"
   ]
  },
  {
   "cell_type": "markdown",
   "metadata": {
    "colab_type": "text",
    "id": "x5Sr8VcqWAEx"
   },
   "source": [
    "## 5. Applying Algorithm :\n",
    "\n",
    "1. Taking first row from company dataset.\n",
    "2. Taking first row from keyword dataset.\n",
    "3. Now finding number of matching keyword (tokenized column) with respect to tokenized_word column (in company_short table).\n",
    "4. Dividing number obtained in 5.3 by number of words in that particular row of tokenized_word column (in company_short table).\n",
    "5. Running 5.2, for all rows of kwyword dataset.\n",
    "6. Finding max probability after running 5.5.\n",
    "7. Running 5.1, for all rows of company dataset.\n",
    "\n",
    "Note :\n",
    "1. There may be exception as for some iteration, probability value zero and this will happen when there is no matching words.\n",
    "\n",
    "Another Algorithm :\n",
    "1. Tf-idf can also be used to find probability etc (This concept, I have used in clustering)."
   ]
  },
  {
   "cell_type": "code",
   "execution_count": 18,
   "metadata": {
    "colab": {
     "base_uri": "https://localhost:8080/",
     "height": 126
    },
    "colab_type": "code",
    "id": "YIl0wsTZp4Su",
    "outputId": "4aa14a26-bfc7-42b9-a681-cfd9c82a6d6e"
   },
   "outputs": [
    {
     "name": "stdout",
     "output_type": "stream",
     "text": [
      "      company_name                          company_short_description  \\\n",
      "8670     Culture22  award winning creative interactive technology ...   \n",
      "8671          C3RS                                                      \n",
      "8672  ITA Software  ita software airline services provider helping...   \n",
      "\n",
      "                                         tokenized_word  \n",
      "8670  [award, winning, creative, interactive, techno...  \n",
      "8671                                                 []  \n",
      "8672  [ita, software, airline, services, provider, h...  \n"
     ]
    }
   ],
   "source": [
    "# actually this step I have added after running just next line of code and next line is giving zero division error\n",
    "# it means that some(in this dataset there is only one such row whose index is 8671) of the values in company_short_description are empty string ('') \n",
    "\n",
    "print(company_short.loc[8670:8672,:])\n",
    "company_short=company_short[company_short.company_short_description != '']"
   ]
  },
  {
   "cell_type": "code",
   "execution_count": 19,
   "metadata": {
    "colab": {},
    "colab_type": "code",
    "id": "Btbz-bJdygtB"
   },
   "outputs": [],
   "source": [
    "# for storing maximum probability value\n",
    "result = []\n",
    "\n",
    "# for storing possible Industry segment for each of the company\n",
    "result1 = []\n",
    "\n",
    "# for each observation of company dataset, I am going to run all observations of keyword dataset\n",
    "for j in company_short.loc[:,'tokenized_word']:\n",
    "  # for storing probability value for each rows of keyword dataset \n",
    "  li = []\n",
    "  # initializing sum equals to zero, it will keep track of counting of matcing words\n",
    "  sum = 0\n",
    "  \n",
    "  for i in keyword.iloc[:,2]:\n",
    "    # running loop for each keyword of each row of keyword dataset\n",
    "    for k in i:\n",
    "      # counting occurence of each particular word in tokenized_word column of company_short dataset\n",
    "      count = j.count(k)\n",
    "      sum += count\n",
    "\n",
    "    # finding probability\n",
    "    sum = sum/len(j)\n",
    "    li.append(sum)\n",
    "    \n",
    "  #print(li)\n",
    "  #print(len(li))\n",
    "  #print(li.index(max(li)))\n",
    "  #print(max(li))\n",
    "\n",
    "  # now taking out maximum probability value from li list and appending to result list\n",
    "  result.append(max(li))\n",
    "  # now taking out index corresponding to maximum probability value and then Industry segment corresponding to this and appending to result1 list\n",
    "  result1.append(keyword.loc[li.index(max(li)),'Industry segment'])\n"
   ]
  },
  {
   "cell_type": "code",
   "execution_count": 20,
   "metadata": {
    "colab": {},
    "colab_type": "code",
    "id": "5bKTvNKobf34"
   },
   "outputs": [],
   "source": [
    "# adding two new columns in company_short dataset\n",
    "\n",
    "company_short['probab'] = result\n",
    "company_short['tag/Industry_segment'] = result1"
   ]
  },
  {
   "cell_type": "code",
   "execution_count": 21,
   "metadata": {
    "colab": {
     "base_uri": "https://localhost:8080/",
     "height": 198
    },
    "colab_type": "code",
    "id": "CRA83TkCUXKf",
    "outputId": "19da4b4c-a611-42a1-b27e-5f34033bb32d"
   },
   "outputs": [
    {
     "data": {
      "text/html": [
       "<div>\n",
       "<style scoped>\n",
       "    .dataframe tbody tr th:only-of-type {\n",
       "        vertical-align: middle;\n",
       "    }\n",
       "\n",
       "    .dataframe tbody tr th {\n",
       "        vertical-align: top;\n",
       "    }\n",
       "\n",
       "    .dataframe thead th {\n",
       "        text-align: right;\n",
       "    }\n",
       "</style>\n",
       "<table border=\"1\" class=\"dataframe\">\n",
       "  <thead>\n",
       "    <tr style=\"text-align: right;\">\n",
       "      <th></th>\n",
       "      <th>company_name</th>\n",
       "      <th>company_short_description</th>\n",
       "      <th>tokenized_word</th>\n",
       "      <th>probab</th>\n",
       "      <th>tag/Industry_segment</th>\n",
       "    </tr>\n",
       "  </thead>\n",
       "  <tbody>\n",
       "    <tr>\n",
       "      <td>0</td>\n",
       "      <td>Codementor</td>\n",
       "      <td>codementor online marketplace connecting devel...</td>\n",
       "      <td>[codementor, online, marketplace, connecting, ...</td>\n",
       "      <td>0.142857</td>\n",
       "      <td>Media and content</td>\n",
       "    </tr>\n",
       "    <tr>\n",
       "      <td>1</td>\n",
       "      <td>AgShift</td>\n",
       "      <td>agshift designing world advanced autonomous fo...</td>\n",
       "      <td>[agshift, designing, world, advanced, autonomo...</td>\n",
       "      <td>0.099242</td>\n",
       "      <td>Medical devices and equipment</td>\n",
       "    </tr>\n",
       "    <tr>\n",
       "      <td>2</td>\n",
       "      <td>Shipsi</td>\n",
       "      <td>shipsi empowers retailer ability offer easy “i...</td>\n",
       "      <td>[shipsi, empowers, retailer, ability, offer, e...</td>\n",
       "      <td>0.000000</td>\n",
       "      <td>Aerospace and defense</td>\n",
       "    </tr>\n",
       "    <tr>\n",
       "      <td>3</td>\n",
       "      <td>OpenNews</td>\n",
       "      <td>opennews helps global network developers journ...</td>\n",
       "      <td>[opennews, helps, global, network, developers,...</td>\n",
       "      <td>0.076923</td>\n",
       "      <td>Communications and networking</td>\n",
       "    </tr>\n",
       "    <tr>\n",
       "      <td>4</td>\n",
       "      <td>Biobot Analytics</td>\n",
       "      <td>biobot analytics analyzes city sewage estimate...</td>\n",
       "      <td>[biobot, analytics, analyzes, city, sewage, es...</td>\n",
       "      <td>0.000000</td>\n",
       "      <td>Aerospace and defense</td>\n",
       "    </tr>\n",
       "  </tbody>\n",
       "</table>\n",
       "</div>"
      ],
      "text/plain": [
       "       company_name                          company_short_description  \\\n",
       "0        Codementor  codementor online marketplace connecting devel...   \n",
       "1           AgShift  agshift designing world advanced autonomous fo...   \n",
       "2            Shipsi  shipsi empowers retailer ability offer easy “i...   \n",
       "3          OpenNews  opennews helps global network developers journ...   \n",
       "4  Biobot Analytics  biobot analytics analyzes city sewage estimate...   \n",
       "\n",
       "                                      tokenized_word    probab  \\\n",
       "0  [codementor, online, marketplace, connecting, ...  0.142857   \n",
       "1  [agshift, designing, world, advanced, autonomo...  0.099242   \n",
       "2  [shipsi, empowers, retailer, ability, offer, e...  0.000000   \n",
       "3  [opennews, helps, global, network, developers,...  0.076923   \n",
       "4  [biobot, analytics, analyzes, city, sewage, es...  0.000000   \n",
       "\n",
       "            tag/Industry_segment  \n",
       "0              Media and content  \n",
       "1  Medical devices and equipment  \n",
       "2          Aerospace and defense  \n",
       "3  Communications and networking  \n",
       "4          Aerospace and defense  "
      ]
     },
     "execution_count": 21,
     "metadata": {},
     "output_type": "execute_result"
    }
   ],
   "source": [
    "# finally seeing tag/Industry_segment corresponding to each company\n",
    "# we can observe 5th row, probab value and it is zero meaning that there is no matching keyword and hence there is no tag\n",
    "# for such case, I am replacing with 'Others'\n",
    "\n",
    "company_short.head()"
   ]
  },
  {
   "cell_type": "code",
   "execution_count": 22,
   "metadata": {
    "colab": {},
    "colab_type": "code",
    "id": "rBIjRLzjtC3y"
   },
   "outputs": [],
   "source": [
    "# finding all such where probab is zero and then assigning Others to tag/Industry_segment column\n",
    "\n",
    "company_short.loc[company_short['probab'] == 0.000000, 'tag/Industry_segment'] = 'Others'"
   ]
  },
  {
   "cell_type": "code",
   "execution_count": 23,
   "metadata": {
    "colab": {
     "base_uri": "https://localhost:8080/",
     "height": 198
    },
    "colab_type": "code",
    "id": "f9Y10M6UcJ-t",
    "outputId": "a92811a1-418d-443e-d266-005f415ea325"
   },
   "outputs": [
    {
     "data": {
      "text/html": [
       "<div>\n",
       "<style scoped>\n",
       "    .dataframe tbody tr th:only-of-type {\n",
       "        vertical-align: middle;\n",
       "    }\n",
       "\n",
       "    .dataframe tbody tr th {\n",
       "        vertical-align: top;\n",
       "    }\n",
       "\n",
       "    .dataframe thead th {\n",
       "        text-align: right;\n",
       "    }\n",
       "</style>\n",
       "<table border=\"1\" class=\"dataframe\">\n",
       "  <thead>\n",
       "    <tr style=\"text-align: right;\">\n",
       "      <th></th>\n",
       "      <th>company_name</th>\n",
       "      <th>company_short_description</th>\n",
       "      <th>tokenized_word</th>\n",
       "      <th>probab</th>\n",
       "      <th>tag/Industry_segment</th>\n",
       "    </tr>\n",
       "  </thead>\n",
       "  <tbody>\n",
       "    <tr>\n",
       "      <td>0</td>\n",
       "      <td>Codementor</td>\n",
       "      <td>codementor online marketplace connecting devel...</td>\n",
       "      <td>[codementor, online, marketplace, connecting, ...</td>\n",
       "      <td>0.142857</td>\n",
       "      <td>Media and content</td>\n",
       "    </tr>\n",
       "    <tr>\n",
       "      <td>1</td>\n",
       "      <td>AgShift</td>\n",
       "      <td>agshift designing world advanced autonomous fo...</td>\n",
       "      <td>[agshift, designing, world, advanced, autonomo...</td>\n",
       "      <td>0.099242</td>\n",
       "      <td>Medical devices and equipment</td>\n",
       "    </tr>\n",
       "    <tr>\n",
       "      <td>2</td>\n",
       "      <td>Shipsi</td>\n",
       "      <td>shipsi empowers retailer ability offer easy “i...</td>\n",
       "      <td>[shipsi, empowers, retailer, ability, offer, e...</td>\n",
       "      <td>0.000000</td>\n",
       "      <td>Others</td>\n",
       "    </tr>\n",
       "    <tr>\n",
       "      <td>3</td>\n",
       "      <td>OpenNews</td>\n",
       "      <td>opennews helps global network developers journ...</td>\n",
       "      <td>[opennews, helps, global, network, developers,...</td>\n",
       "      <td>0.076923</td>\n",
       "      <td>Communications and networking</td>\n",
       "    </tr>\n",
       "    <tr>\n",
       "      <td>4</td>\n",
       "      <td>Biobot Analytics</td>\n",
       "      <td>biobot analytics analyzes city sewage estimate...</td>\n",
       "      <td>[biobot, analytics, analyzes, city, sewage, es...</td>\n",
       "      <td>0.000000</td>\n",
       "      <td>Others</td>\n",
       "    </tr>\n",
       "  </tbody>\n",
       "</table>\n",
       "</div>"
      ],
      "text/plain": [
       "       company_name                          company_short_description  \\\n",
       "0        Codementor  codementor online marketplace connecting devel...   \n",
       "1           AgShift  agshift designing world advanced autonomous fo...   \n",
       "2            Shipsi  shipsi empowers retailer ability offer easy “i...   \n",
       "3          OpenNews  opennews helps global network developers journ...   \n",
       "4  Biobot Analytics  biobot analytics analyzes city sewage estimate...   \n",
       "\n",
       "                                      tokenized_word    probab  \\\n",
       "0  [codementor, online, marketplace, connecting, ...  0.142857   \n",
       "1  [agshift, designing, world, advanced, autonomo...  0.099242   \n",
       "2  [shipsi, empowers, retailer, ability, offer, e...  0.000000   \n",
       "3  [opennews, helps, global, network, developers,...  0.076923   \n",
       "4  [biobot, analytics, analyzes, city, sewage, es...  0.000000   \n",
       "\n",
       "            tag/Industry_segment  \n",
       "0              Media and content  \n",
       "1  Medical devices and equipment  \n",
       "2                         Others  \n",
       "3  Communications and networking  \n",
       "4                         Others  "
      ]
     },
     "execution_count": 23,
     "metadata": {},
     "output_type": "execute_result"
    }
   ],
   "source": [
    "# now we can see 5th row, column tag/Industry_segment column\n",
    "\n",
    "company_short.head()"
   ]
  },
  {
   "cell_type": "markdown",
   "metadata": {
    "colab_type": "text",
    "id": "byKjr-fwwuyg"
   },
   "source": [
    "## 6. Applying same techinque to column company_description (long description) :"
   ]
  },
  {
   "cell_type": "code",
   "execution_count": 24,
   "metadata": {
    "colab": {
     "base_uri": "https://localhost:8080/",
     "height": 35
    },
    "colab_type": "code",
    "id": "ZG0gNeXQdRiX",
    "outputId": "bc1860cc-ffe1-4792-c271-90b4a13740cb"
   },
   "outputs": [
    {
     "name": "stdout",
     "output_type": "stream",
     "text": [
      "company_long dataset dimension :  (19237, 2)\n"
     ]
    }
   ],
   "source": [
    "# selecting two columns only\n",
    "\n",
    "# under section 3, we have already observed missing values\n",
    "# we again can't fill any value (like mode etc) so I have decided to drop such rows\n",
    "\n",
    "# another solution, we can fill short description value into long description value\n",
    "\n",
    "company_long = company[['company_name', 'company_description']]\n",
    "company_long = company_long.dropna()\n",
    "print(\"company_long dataset dimension : \",company_long.shape)"
   ]
  },
  {
   "cell_type": "code",
   "execution_count": 25,
   "metadata": {
    "colab": {
     "base_uri": "https://localhost:8080/",
     "height": 138
    },
    "colab_type": "code",
    "id": "kbeZJMcLiQF_",
    "outputId": "b41c05c5-4d80-44c0-9d32-414b0f6faecd"
   },
   "outputs": [
    {
     "data": {
      "text/html": [
       "<div>\n",
       "<style scoped>\n",
       "    .dataframe tbody tr th:only-of-type {\n",
       "        vertical-align: middle;\n",
       "    }\n",
       "\n",
       "    .dataframe tbody tr th {\n",
       "        vertical-align: top;\n",
       "    }\n",
       "\n",
       "    .dataframe thead th {\n",
       "        text-align: right;\n",
       "    }\n",
       "</style>\n",
       "<table border=\"1\" class=\"dataframe\">\n",
       "  <thead>\n",
       "    <tr style=\"text-align: right;\">\n",
       "      <th></th>\n",
       "      <th>company_name</th>\n",
       "      <th>company_description</th>\n",
       "    </tr>\n",
       "  </thead>\n",
       "  <tbody>\n",
       "    <tr>\n",
       "      <td>0</td>\n",
       "      <td>Codementor</td>\n",
       "      <td>codementor provides live     help for software...</td>\n",
       "    </tr>\n",
       "    <tr>\n",
       "      <td>1</td>\n",
       "      <td>AgShift</td>\n",
       "      <td>agshift solution blends deep learning with com...</td>\n",
       "    </tr>\n",
       "    <tr>\n",
       "      <td>2</td>\n",
       "      <td>Shipsi</td>\n",
       "      <td>shipsi empowers any retailer with the ability ...</td>\n",
       "    </tr>\n",
       "  </tbody>\n",
       "</table>\n",
       "</div>"
      ],
      "text/plain": [
       "  company_name                                company_description\n",
       "0   Codementor  codementor provides live     help for software...\n",
       "1      AgShift  agshift solution blends deep learning with com...\n",
       "2       Shipsi  shipsi empowers any retailer with the ability ..."
      ]
     },
     "execution_count": 25,
     "metadata": {},
     "output_type": "execute_result"
    }
   ],
   "source": [
    "import re\n",
    "import string\n",
    "\n",
    "# removing number, punctuation etc\n",
    "# converting into lower case\n",
    "\n",
    "alphanumeric = lambda x: re.sub(r\"\"\"\\w*\\d\\w*\"\"\", ' ', x)\n",
    "punc_lower = lambda x: re.sub('[%s]' % re.escape(string.punctuation), ' ', x.lower())\n",
    "\n",
    "company_long['company_description'] = company_long.company_description.map(alphanumeric).map(punc_lower)\n",
    "company_long.head(3)"
   ]
  },
  {
   "cell_type": "code",
   "execution_count": 26,
   "metadata": {
    "colab": {
     "base_uri": "https://localhost:8080/",
     "height": 138
    },
    "colab_type": "code",
    "id": "t-y534rOizoh",
    "outputId": "14aaeb36-93c9-49f1-c14b-956e507ae919"
   },
   "outputs": [
    {
     "data": {
      "text/html": [
       "<div>\n",
       "<style scoped>\n",
       "    .dataframe tbody tr th:only-of-type {\n",
       "        vertical-align: middle;\n",
       "    }\n",
       "\n",
       "    .dataframe tbody tr th {\n",
       "        vertical-align: top;\n",
       "    }\n",
       "\n",
       "    .dataframe thead th {\n",
       "        text-align: right;\n",
       "    }\n",
       "</style>\n",
       "<table border=\"1\" class=\"dataframe\">\n",
       "  <thead>\n",
       "    <tr style=\"text-align: right;\">\n",
       "      <th></th>\n",
       "      <th>company_name</th>\n",
       "      <th>company_description</th>\n",
       "    </tr>\n",
       "  </thead>\n",
       "  <tbody>\n",
       "    <tr>\n",
       "      <td>0</td>\n",
       "      <td>Codementor</td>\n",
       "      <td>codementor provides live help software develop...</td>\n",
       "    </tr>\n",
       "    <tr>\n",
       "      <td>1</td>\n",
       "      <td>AgShift</td>\n",
       "      <td>agshift solution blends deep learning computer...</td>\n",
       "    </tr>\n",
       "    <tr>\n",
       "      <td>2</td>\n",
       "      <td>Shipsi</td>\n",
       "      <td>shipsi empowers retailer ability offer easy “i...</td>\n",
       "    </tr>\n",
       "  </tbody>\n",
       "</table>\n",
       "</div>"
      ],
      "text/plain": [
       "  company_name                                company_description\n",
       "0   Codementor  codementor provides live help software develop...\n",
       "1      AgShift  agshift solution blends deep learning computer...\n",
       "2       Shipsi  shipsi empowers retailer ability offer easy “i..."
      ]
     },
     "execution_count": 26,
     "metadata": {},
     "output_type": "execute_result"
    }
   ],
   "source": [
    "# removing stopwords\n",
    "\n",
    "company_long['company_description'] = company_long['company_description'].apply(lambda x: ' '.join([word for word in x.split() if word not in (stop)]))\n",
    "company_long.head(3)"
   ]
  },
  {
   "cell_type": "code",
   "execution_count": 27,
   "metadata": {
    "colab": {
     "base_uri": "https://localhost:8080/",
     "height": 138
    },
    "colab_type": "code",
    "id": "pUdnsrxYjDu7",
    "outputId": "24cfe69b-ebf9-46c1-fe18-f80361a6537d"
   },
   "outputs": [
    {
     "data": {
      "text/html": [
       "<div>\n",
       "<style scoped>\n",
       "    .dataframe tbody tr th:only-of-type {\n",
       "        vertical-align: middle;\n",
       "    }\n",
       "\n",
       "    .dataframe tbody tr th {\n",
       "        vertical-align: top;\n",
       "    }\n",
       "\n",
       "    .dataframe thead th {\n",
       "        text-align: right;\n",
       "    }\n",
       "</style>\n",
       "<table border=\"1\" class=\"dataframe\">\n",
       "  <thead>\n",
       "    <tr style=\"text-align: right;\">\n",
       "      <th></th>\n",
       "      <th>company_name</th>\n",
       "      <th>company_description</th>\n",
       "      <th>tokenized_word_1</th>\n",
       "    </tr>\n",
       "  </thead>\n",
       "  <tbody>\n",
       "    <tr>\n",
       "      <td>0</td>\n",
       "      <td>Codementor</td>\n",
       "      <td>codementor provides live help software develop...</td>\n",
       "      <td>[codementor, provides, live, help, software, d...</td>\n",
       "    </tr>\n",
       "    <tr>\n",
       "      <td>1</td>\n",
       "      <td>AgShift</td>\n",
       "      <td>agshift solution blends deep learning computer...</td>\n",
       "      <td>[agshift, solution, blends, deep, learning, co...</td>\n",
       "    </tr>\n",
       "    <tr>\n",
       "      <td>2</td>\n",
       "      <td>Shipsi</td>\n",
       "      <td>shipsi empowers retailer ability offer easy “i...</td>\n",
       "      <td>[shipsi, empowers, retailer, ability, offer, e...</td>\n",
       "    </tr>\n",
       "  </tbody>\n",
       "</table>\n",
       "</div>"
      ],
      "text/plain": [
       "  company_name                                company_description  \\\n",
       "0   Codementor  codementor provides live help software develop...   \n",
       "1      AgShift  agshift solution blends deep learning computer...   \n",
       "2       Shipsi  shipsi empowers retailer ability offer easy “i...   \n",
       "\n",
       "                                    tokenized_word_1  \n",
       "0  [codementor, provides, live, help, software, d...  \n",
       "1  [agshift, solution, blends, deep, learning, co...  \n",
       "2  [shipsi, empowers, retailer, ability, offer, e...  "
      ]
     },
     "execution_count": 27,
     "metadata": {},
     "output_type": "execute_result"
    }
   ],
   "source": [
    "# tokenizing company description of each word\n",
    "\n",
    "company_long['tokenized_word_1'] = company_long['company_description'].apply(word_tokenize)\n",
    "company_long.head(3)"
   ]
  },
  {
   "cell_type": "code",
   "execution_count": 28,
   "metadata": {
    "colab": {},
    "colab_type": "code",
    "id": "BpwUmu-7kdIO"
   },
   "outputs": [],
   "source": [
    "# removing rows if it contains empty string\n",
    "\n",
    "company_long=company_long[company_long.company_description != '']"
   ]
  },
  {
   "cell_type": "code",
   "execution_count": 29,
   "metadata": {
    "colab": {},
    "colab_type": "code",
    "id": "C5ECw-Edjd7d"
   },
   "outputs": [],
   "source": [
    "# applying same algorithm \n",
    "\n",
    "result = []\n",
    "result1 = []\n",
    "\n",
    "for j in company_long.loc[:,'tokenized_word_1']:\n",
    "  \n",
    "  li = []\n",
    "  \n",
    "  sum = 0\n",
    "  \n",
    "  for i in keyword.iloc[:,2]:\n",
    "    for k in i:\n",
    "      \n",
    "      count = j.count(k)\n",
    "      sum += count\n",
    "\n",
    "    \n",
    "    sum = sum/len(j)\n",
    "    li.append(sum)\n",
    "    \n",
    "  \n",
    "  #print(li)\n",
    "  #print(len(li))\n",
    "  #print(li.index(max(li)))\n",
    "  #print(max(li))\n",
    "\n",
    "  result.append(max(li))\n",
    "  result1.append(keyword.loc[li.index(max(li)),'Industry segment'])\n"
   ]
  },
  {
   "cell_type": "code",
   "execution_count": 30,
   "metadata": {
    "colab": {},
    "colab_type": "code",
    "id": "NZootvfCkPzb"
   },
   "outputs": [],
   "source": [
    "company_long['probab_1'] = result\n",
    "company_long['tag_1'] = result1"
   ]
  },
  {
   "cell_type": "code",
   "execution_count": 31,
   "metadata": {
    "colab": {},
    "colab_type": "code",
    "id": "hnd4NdYR2a5I"
   },
   "outputs": [],
   "source": [
    "company_long.loc[company_long['probab_1'] == 0.000000, 'tag_1'] = 'Others'"
   ]
  },
  {
   "cell_type": "code",
   "execution_count": 32,
   "metadata": {
    "colab": {
     "base_uri": "https://localhost:8080/",
     "height": 198
    },
    "colab_type": "code",
    "id": "lzcE4yfnk4PD",
    "outputId": "a0769088-bc05-4497-917f-6d23c53e7de3"
   },
   "outputs": [
    {
     "data": {
      "text/html": [
       "<div>\n",
       "<style scoped>\n",
       "    .dataframe tbody tr th:only-of-type {\n",
       "        vertical-align: middle;\n",
       "    }\n",
       "\n",
       "    .dataframe tbody tr th {\n",
       "        vertical-align: top;\n",
       "    }\n",
       "\n",
       "    .dataframe thead th {\n",
       "        text-align: right;\n",
       "    }\n",
       "</style>\n",
       "<table border=\"1\" class=\"dataframe\">\n",
       "  <thead>\n",
       "    <tr style=\"text-align: right;\">\n",
       "      <th></th>\n",
       "      <th>company_name</th>\n",
       "      <th>company_description</th>\n",
       "      <th>tokenized_word_1</th>\n",
       "      <th>probab_1</th>\n",
       "      <th>tag_1</th>\n",
       "    </tr>\n",
       "  </thead>\n",
       "  <tbody>\n",
       "    <tr>\n",
       "      <td>0</td>\n",
       "      <td>Codementor</td>\n",
       "      <td>codementor provides live help software develop...</td>\n",
       "      <td>[codementor, provides, live, help, software, d...</td>\n",
       "      <td>0.035720</td>\n",
       "      <td>Biopharmaceuticals</td>\n",
       "    </tr>\n",
       "    <tr>\n",
       "      <td>1</td>\n",
       "      <td>AgShift</td>\n",
       "      <td>agshift solution blends deep learning computer...</td>\n",
       "      <td>[agshift, solution, blends, deep, learning, co...</td>\n",
       "      <td>0.044779</td>\n",
       "      <td>Software</td>\n",
       "    </tr>\n",
       "    <tr>\n",
       "      <td>2</td>\n",
       "      <td>Shipsi</td>\n",
       "      <td>shipsi empowers retailer ability offer easy “i...</td>\n",
       "      <td>[shipsi, empowers, retailer, ability, offer, e...</td>\n",
       "      <td>0.032292</td>\n",
       "      <td>Wholesale trade and shipping</td>\n",
       "    </tr>\n",
       "    <tr>\n",
       "      <td>3</td>\n",
       "      <td>OpenNews</td>\n",
       "      <td>helping global network developers journalists ...</td>\n",
       "      <td>[helping, global, network, developers, journal...</td>\n",
       "      <td>0.074074</td>\n",
       "      <td>Media and content</td>\n",
       "    </tr>\n",
       "    <tr>\n",
       "      <td>4</td>\n",
       "      <td>Biobot Analytics</td>\n",
       "      <td>biobot analytics analyzes sewage estimate opio...</td>\n",
       "      <td>[biobot, analytics, analyzes, sewage, estimate...</td>\n",
       "      <td>0.073395</td>\n",
       "      <td>Medical software and information services</td>\n",
       "    </tr>\n",
       "  </tbody>\n",
       "</table>\n",
       "</div>"
      ],
      "text/plain": [
       "       company_name                                company_description  \\\n",
       "0        Codementor  codementor provides live help software develop...   \n",
       "1           AgShift  agshift solution blends deep learning computer...   \n",
       "2            Shipsi  shipsi empowers retailer ability offer easy “i...   \n",
       "3          OpenNews  helping global network developers journalists ...   \n",
       "4  Biobot Analytics  biobot analytics analyzes sewage estimate opio...   \n",
       "\n",
       "                                    tokenized_word_1  probab_1  \\\n",
       "0  [codementor, provides, live, help, software, d...  0.035720   \n",
       "1  [agshift, solution, blends, deep, learning, co...  0.044779   \n",
       "2  [shipsi, empowers, retailer, ability, offer, e...  0.032292   \n",
       "3  [helping, global, network, developers, journal...  0.074074   \n",
       "4  [biobot, analytics, analyzes, sewage, estimate...  0.073395   \n",
       "\n",
       "                                       tag_1  \n",
       "0                         Biopharmaceuticals  \n",
       "1                                   Software  \n",
       "2               Wholesale trade and shipping  \n",
       "3                          Media and content  \n",
       "4  Medical software and information services  "
      ]
     },
     "execution_count": 32,
     "metadata": {},
     "output_type": "execute_result"
    }
   ],
   "source": [
    "company_long.head(5)"
   ]
  },
  {
   "cell_type": "markdown",
   "metadata": {
    "colab_type": "text",
    "id": "qE0h7W1501C4"
   },
   "source": [
    "## 7. Observing and comparing which columns out of two works well:"
   ]
  },
  {
   "cell_type": "code",
   "execution_count": 33,
   "metadata": {
    "colab": {
     "base_uri": "https://localhost:8080/",
     "height": 925
    },
    "colab_type": "code",
    "id": "IoKUJeGIlF-U",
    "outputId": "474bdce1-3a58-4f38-9f64-17ccaa304b00"
   },
   "outputs": [
    {
     "data": {
      "text/html": [
       "<div>\n",
       "<style scoped>\n",
       "    .dataframe tbody tr th:only-of-type {\n",
       "        vertical-align: middle;\n",
       "    }\n",
       "\n",
       "    .dataframe tbody tr th {\n",
       "        vertical-align: top;\n",
       "    }\n",
       "\n",
       "    .dataframe thead th {\n",
       "        text-align: right;\n",
       "    }\n",
       "</style>\n",
       "<table border=\"1\" class=\"dataframe\">\n",
       "  <thead>\n",
       "    <tr style=\"text-align: right;\">\n",
       "      <th></th>\n",
       "      <th>company_name</th>\n",
       "      <th>company_short_description</th>\n",
       "      <th>tokenized_word</th>\n",
       "      <th>probab</th>\n",
       "      <th>tag/Industry_segment</th>\n",
       "    </tr>\n",
       "  </thead>\n",
       "  <tbody>\n",
       "    <tr>\n",
       "      <td>0</td>\n",
       "      <td>Codementor</td>\n",
       "      <td>codementor online marketplace connecting devel...</td>\n",
       "      <td>[codementor, online, marketplace, connecting, ...</td>\n",
       "      <td>0.142857</td>\n",
       "      <td>Media and content</td>\n",
       "    </tr>\n",
       "    <tr>\n",
       "      <td>1</td>\n",
       "      <td>AgShift</td>\n",
       "      <td>agshift designing world advanced autonomous fo...</td>\n",
       "      <td>[agshift, designing, world, advanced, autonomo...</td>\n",
       "      <td>0.099242</td>\n",
       "      <td>Medical devices and equipment</td>\n",
       "    </tr>\n",
       "    <tr>\n",
       "      <td>2</td>\n",
       "      <td>Shipsi</td>\n",
       "      <td>shipsi empowers retailer ability offer easy “i...</td>\n",
       "      <td>[shipsi, empowers, retailer, ability, offer, e...</td>\n",
       "      <td>0.000000</td>\n",
       "      <td>Others</td>\n",
       "    </tr>\n",
       "    <tr>\n",
       "      <td>3</td>\n",
       "      <td>OpenNews</td>\n",
       "      <td>opennews helps global network developers journ...</td>\n",
       "      <td>[opennews, helps, global, network, developers,...</td>\n",
       "      <td>0.076923</td>\n",
       "      <td>Communications and networking</td>\n",
       "    </tr>\n",
       "    <tr>\n",
       "      <td>4</td>\n",
       "      <td>Biobot Analytics</td>\n",
       "      <td>biobot analytics analyzes city sewage estimate...</td>\n",
       "      <td>[biobot, analytics, analyzes, city, sewage, es...</td>\n",
       "      <td>0.000000</td>\n",
       "      <td>Others</td>\n",
       "    </tr>\n",
       "    <tr>\n",
       "      <td>5</td>\n",
       "      <td>NetClerk</td>\n",
       "      <td>netclerk application service provider asp requ...</td>\n",
       "      <td>[netclerk, application, service, provider, asp...</td>\n",
       "      <td>0.124998</td>\n",
       "      <td>Media and content</td>\n",
       "    </tr>\n",
       "    <tr>\n",
       "      <td>6</td>\n",
       "      <td>Satellier</td>\n",
       "      <td>satellier provides workshare solutions archite...</td>\n",
       "      <td>[satellier, provides, workshare, solutions, ar...</td>\n",
       "      <td>0.000000</td>\n",
       "      <td>Others</td>\n",
       "    </tr>\n",
       "    <tr>\n",
       "      <td>7</td>\n",
       "      <td>MedCases</td>\n",
       "      <td>medcases internet based provider interactive m...</td>\n",
       "      <td>[medcases, internet, based, provider, interact...</td>\n",
       "      <td>0.140625</td>\n",
       "      <td>Medical software and information services</td>\n",
       "    </tr>\n",
       "    <tr>\n",
       "      <td>8</td>\n",
       "      <td>SpeedDate</td>\n",
       "      <td>speeddate com online webcam enhanced dating si...</td>\n",
       "      <td>[speeddate, com, online, webcam, enhanced, dat...</td>\n",
       "      <td>0.200593</td>\n",
       "      <td>Retailers</td>\n",
       "    </tr>\n",
       "    <tr>\n",
       "      <td>9</td>\n",
       "      <td>Raven Biotechnologies</td>\n",
       "      <td>raven biotechnologies focused development mono...</td>\n",
       "      <td>[raven, biotechnologies, focused, development,...</td>\n",
       "      <td>0.444444</td>\n",
       "      <td>Biopharmaceuticals</td>\n",
       "    </tr>\n",
       "    <tr>\n",
       "      <td>10</td>\n",
       "      <td>Kids on 45th</td>\n",
       "      <td>building box kid everyday essentials low price...</td>\n",
       "      <td>[building, box, kid, everyday, essentials, low...</td>\n",
       "      <td>0.000000</td>\n",
       "      <td>Others</td>\n",
       "    </tr>\n",
       "    <tr>\n",
       "      <td>11</td>\n",
       "      <td>Xtreme Spectrum</td>\n",
       "      <td>xtreme spectrum provider ultra wideband uwb so...</td>\n",
       "      <td>[xtreme, spectrum, provider, ultra, wideband, ...</td>\n",
       "      <td>0.000000</td>\n",
       "      <td>Others</td>\n",
       "    </tr>\n",
       "    <tr>\n",
       "      <td>12</td>\n",
       "      <td>WindMIL Therapeutics</td>\n",
       "      <td>windmil therapeutics developing cell therapies...</td>\n",
       "      <td>[windmil, therapeutics, developing, cell, ther...</td>\n",
       "      <td>0.142857</td>\n",
       "      <td>Biopharmaceuticals</td>\n",
       "    </tr>\n",
       "    <tr>\n",
       "      <td>13</td>\n",
       "      <td>Alacra</td>\n",
       "      <td>information workflow solutions</td>\n",
       "      <td>[information, workflow, solutions]</td>\n",
       "      <td>0.333333</td>\n",
       "      <td>Medical software and information services</td>\n",
       "    </tr>\n",
       "    <tr>\n",
       "      <td>14</td>\n",
       "      <td>PetDesk</td>\n",
       "      <td>petdesk offers crm software pet care providers...</td>\n",
       "      <td>[petdesk, offers, crm, software, pet, care, pr...</td>\n",
       "      <td>0.300000</td>\n",
       "      <td>Medical software and information services</td>\n",
       "    </tr>\n",
       "    <tr>\n",
       "      <td>15</td>\n",
       "      <td>BrightDime</td>\n",
       "      <td>brightdime offers everything company needs suc...</td>\n",
       "      <td>[brightdime, offers, everything, company, need...</td>\n",
       "      <td>0.111111</td>\n",
       "      <td>Financial institutions and services</td>\n",
       "    </tr>\n",
       "    <tr>\n",
       "      <td>16</td>\n",
       "      <td>Comstellar Technologies</td>\n",
       "      <td>comstellar technologies inc building major tec...</td>\n",
       "      <td>[comstellar, technologies, inc, building, majo...</td>\n",
       "      <td>0.099994</td>\n",
       "      <td>Construction and civil engineering</td>\n",
       "    </tr>\n",
       "    <tr>\n",
       "      <td>17</td>\n",
       "      <td>Lot18</td>\n",
       "      <td>online marketer seller wine gourmet goods base...</td>\n",
       "      <td>[online, marketer, seller, wine, gourmet, good...</td>\n",
       "      <td>0.101001</td>\n",
       "      <td>Financial institutions and services</td>\n",
       "    </tr>\n",
       "    <tr>\n",
       "      <td>18</td>\n",
       "      <td>ROAM</td>\n",
       "      <td>roam global community next generation adventurer</td>\n",
       "      <td>[roam, global, community, next, generation, ad...</td>\n",
       "      <td>0.166667</td>\n",
       "      <td>Renewable energy</td>\n",
       "    </tr>\n",
       "    <tr>\n",
       "      <td>19</td>\n",
       "      <td>Homebase</td>\n",
       "      <td>homebase easiest way track hours schedule</td>\n",
       "      <td>[homebase, easiest, way, track, hours, schedule]</td>\n",
       "      <td>0.000000</td>\n",
       "      <td>Others</td>\n",
       "    </tr>\n",
       "  </tbody>\n",
       "</table>\n",
       "</div>"
      ],
      "text/plain": [
       "               company_name  \\\n",
       "0                Codementor   \n",
       "1                   AgShift   \n",
       "2                    Shipsi   \n",
       "3                  OpenNews   \n",
       "4          Biobot Analytics   \n",
       "5                  NetClerk   \n",
       "6                 Satellier   \n",
       "7                  MedCases   \n",
       "8                 SpeedDate   \n",
       "9     Raven Biotechnologies   \n",
       "10             Kids on 45th   \n",
       "11          Xtreme Spectrum   \n",
       "12     WindMIL Therapeutics   \n",
       "13                   Alacra   \n",
       "14                  PetDesk   \n",
       "15               BrightDime   \n",
       "16  Comstellar Technologies   \n",
       "17                    Lot18   \n",
       "18                     ROAM   \n",
       "19                 Homebase   \n",
       "\n",
       "                            company_short_description  \\\n",
       "0   codementor online marketplace connecting devel...   \n",
       "1   agshift designing world advanced autonomous fo...   \n",
       "2   shipsi empowers retailer ability offer easy “i...   \n",
       "3   opennews helps global network developers journ...   \n",
       "4   biobot analytics analyzes city sewage estimate...   \n",
       "5   netclerk application service provider asp requ...   \n",
       "6   satellier provides workshare solutions archite...   \n",
       "7   medcases internet based provider interactive m...   \n",
       "8   speeddate com online webcam enhanced dating si...   \n",
       "9   raven biotechnologies focused development mono...   \n",
       "10  building box kid everyday essentials low price...   \n",
       "11  xtreme spectrum provider ultra wideband uwb so...   \n",
       "12  windmil therapeutics developing cell therapies...   \n",
       "13                     information workflow solutions   \n",
       "14  petdesk offers crm software pet care providers...   \n",
       "15  brightdime offers everything company needs suc...   \n",
       "16  comstellar technologies inc building major tec...   \n",
       "17  online marketer seller wine gourmet goods base...   \n",
       "18   roam global community next generation adventurer   \n",
       "19          homebase easiest way track hours schedule   \n",
       "\n",
       "                                       tokenized_word    probab  \\\n",
       "0   [codementor, online, marketplace, connecting, ...  0.142857   \n",
       "1   [agshift, designing, world, advanced, autonomo...  0.099242   \n",
       "2   [shipsi, empowers, retailer, ability, offer, e...  0.000000   \n",
       "3   [opennews, helps, global, network, developers,...  0.076923   \n",
       "4   [biobot, analytics, analyzes, city, sewage, es...  0.000000   \n",
       "5   [netclerk, application, service, provider, asp...  0.124998   \n",
       "6   [satellier, provides, workshare, solutions, ar...  0.000000   \n",
       "7   [medcases, internet, based, provider, interact...  0.140625   \n",
       "8   [speeddate, com, online, webcam, enhanced, dat...  0.200593   \n",
       "9   [raven, biotechnologies, focused, development,...  0.444444   \n",
       "10  [building, box, kid, everyday, essentials, low...  0.000000   \n",
       "11  [xtreme, spectrum, provider, ultra, wideband, ...  0.000000   \n",
       "12  [windmil, therapeutics, developing, cell, ther...  0.142857   \n",
       "13                 [information, workflow, solutions]  0.333333   \n",
       "14  [petdesk, offers, crm, software, pet, care, pr...  0.300000   \n",
       "15  [brightdime, offers, everything, company, need...  0.111111   \n",
       "16  [comstellar, technologies, inc, building, majo...  0.099994   \n",
       "17  [online, marketer, seller, wine, gourmet, good...  0.101001   \n",
       "18  [roam, global, community, next, generation, ad...  0.166667   \n",
       "19   [homebase, easiest, way, track, hours, schedule]  0.000000   \n",
       "\n",
       "                         tag/Industry_segment  \n",
       "0                           Media and content  \n",
       "1               Medical devices and equipment  \n",
       "2                                      Others  \n",
       "3               Communications and networking  \n",
       "4                                      Others  \n",
       "5                           Media and content  \n",
       "6                                      Others  \n",
       "7   Medical software and information services  \n",
       "8                                   Retailers  \n",
       "9                          Biopharmaceuticals  \n",
       "10                                     Others  \n",
       "11                                     Others  \n",
       "12                         Biopharmaceuticals  \n",
       "13  Medical software and information services  \n",
       "14  Medical software and information services  \n",
       "15        Financial institutions and services  \n",
       "16         Construction and civil engineering  \n",
       "17        Financial institutions and services  \n",
       "18                           Renewable energy  \n",
       "19                                     Others  "
      ]
     },
     "execution_count": 33,
     "metadata": {},
     "output_type": "execute_result"
    }
   ],
   "source": [
    "company_short.head(20)"
   ]
  },
  {
   "cell_type": "code",
   "execution_count": 34,
   "metadata": {
    "colab": {
     "base_uri": "https://localhost:8080/",
     "height": 873
    },
    "colab_type": "code",
    "id": "rGss5Kfg1P2c",
    "outputId": "25c94802-a421-409a-e843-4e441b3b13b7"
   },
   "outputs": [
    {
     "data": {
      "text/html": [
       "<div>\n",
       "<style scoped>\n",
       "    .dataframe tbody tr th:only-of-type {\n",
       "        vertical-align: middle;\n",
       "    }\n",
       "\n",
       "    .dataframe tbody tr th {\n",
       "        vertical-align: top;\n",
       "    }\n",
       "\n",
       "    .dataframe thead th {\n",
       "        text-align: right;\n",
       "    }\n",
       "</style>\n",
       "<table border=\"1\" class=\"dataframe\">\n",
       "  <thead>\n",
       "    <tr style=\"text-align: right;\">\n",
       "      <th></th>\n",
       "      <th>company_name</th>\n",
       "      <th>company_description</th>\n",
       "      <th>tokenized_word_1</th>\n",
       "      <th>probab_1</th>\n",
       "      <th>tag_1</th>\n",
       "    </tr>\n",
       "  </thead>\n",
       "  <tbody>\n",
       "    <tr>\n",
       "      <td>0</td>\n",
       "      <td>Codementor</td>\n",
       "      <td>codementor provides live help software develop...</td>\n",
       "      <td>[codementor, provides, live, help, software, d...</td>\n",
       "      <td>0.035720</td>\n",
       "      <td>Biopharmaceuticals</td>\n",
       "    </tr>\n",
       "    <tr>\n",
       "      <td>1</td>\n",
       "      <td>AgShift</td>\n",
       "      <td>agshift solution blends deep learning computer...</td>\n",
       "      <td>[agshift, solution, blends, deep, learning, co...</td>\n",
       "      <td>0.044779</td>\n",
       "      <td>Software</td>\n",
       "    </tr>\n",
       "    <tr>\n",
       "      <td>2</td>\n",
       "      <td>Shipsi</td>\n",
       "      <td>shipsi empowers retailer ability offer easy “i...</td>\n",
       "      <td>[shipsi, empowers, retailer, ability, offer, e...</td>\n",
       "      <td>0.032292</td>\n",
       "      <td>Wholesale trade and shipping</td>\n",
       "    </tr>\n",
       "    <tr>\n",
       "      <td>3</td>\n",
       "      <td>OpenNews</td>\n",
       "      <td>helping global network developers journalists ...</td>\n",
       "      <td>[helping, global, network, developers, journal...</td>\n",
       "      <td>0.074074</td>\n",
       "      <td>Media and content</td>\n",
       "    </tr>\n",
       "    <tr>\n",
       "      <td>4</td>\n",
       "      <td>Biobot Analytics</td>\n",
       "      <td>biobot analytics analyzes sewage estimate opio...</td>\n",
       "      <td>[biobot, analytics, analyzes, sewage, estimate...</td>\n",
       "      <td>0.073395</td>\n",
       "      <td>Medical software and information services</td>\n",
       "    </tr>\n",
       "    <tr>\n",
       "      <td>5</td>\n",
       "      <td>NetClerk</td>\n",
       "      <td>april netclerk inc acquired builders informati...</td>\n",
       "      <td>[april, netclerk, inc, acquired, builders, inf...</td>\n",
       "      <td>0.075657</td>\n",
       "      <td>Personal goods</td>\n",
       "    </tr>\n",
       "    <tr>\n",
       "      <td>6</td>\n",
       "      <td>Satellier</td>\n",
       "      <td>satellier one world leading authorities visual...</td>\n",
       "      <td>[satellier, one, world, leading, authorities, ...</td>\n",
       "      <td>0.058811</td>\n",
       "      <td>Software</td>\n",
       "    </tr>\n",
       "    <tr>\n",
       "      <td>7</td>\n",
       "      <td>MedCases</td>\n",
       "      <td>medcases focuses development medical e learnin...</td>\n",
       "      <td>[medcases, focuses, development, medical, e, l...</td>\n",
       "      <td>0.108108</td>\n",
       "      <td>Healthcare services</td>\n",
       "    </tr>\n",
       "    <tr>\n",
       "      <td>8</td>\n",
       "      <td>SpeedDate</td>\n",
       "      <td>speeddate com one slew new online webcam enhan...</td>\n",
       "      <td>[speeddate, com, one, slew, new, online, webca...</td>\n",
       "      <td>0.061856</td>\n",
       "      <td>Consumer information services</td>\n",
       "    </tr>\n",
       "    <tr>\n",
       "      <td>9</td>\n",
       "      <td>Raven Biotechnologies</td>\n",
       "      <td>raven biotechnologies inc biotechnology compan...</td>\n",
       "      <td>[raven, biotechnologies, inc, biotechnology, c...</td>\n",
       "      <td>0.116279</td>\n",
       "      <td>Biopharmaceuticals</td>\n",
       "    </tr>\n",
       "    <tr>\n",
       "      <td>11</td>\n",
       "      <td>Xtreme Spectrum</td>\n",
       "      <td>xtremespectrum developer ultrawideband uwb imp...</td>\n",
       "      <td>[xtremespectrum, developer, ultrawideband, uwb...</td>\n",
       "      <td>0.318374</td>\n",
       "      <td>Semiconductors</td>\n",
       "    </tr>\n",
       "    <tr>\n",
       "      <td>12</td>\n",
       "      <td>WindMIL Therapeutics</td>\n",
       "      <td>windmil therapeutics developing cell therapies...</td>\n",
       "      <td>[windmil, therapeutics, developing, cell, ther...</td>\n",
       "      <td>0.142857</td>\n",
       "      <td>Biopharmaceuticals</td>\n",
       "    </tr>\n",
       "    <tr>\n",
       "      <td>13</td>\n",
       "      <td>Alacra</td>\n",
       "      <td>alacra organizes financial legal information a...</td>\n",
       "      <td>[alacra, organizes, financial, legal, informat...</td>\n",
       "      <td>0.070202</td>\n",
       "      <td>Software</td>\n",
       "    </tr>\n",
       "    <tr>\n",
       "      <td>14</td>\n",
       "      <td>PetDesk</td>\n",
       "      <td>petdesk saas appointment reminder platform hel...</td>\n",
       "      <td>[petdesk, saas, appointment, reminder, platfor...</td>\n",
       "      <td>0.071430</td>\n",
       "      <td>Software</td>\n",
       "    </tr>\n",
       "    <tr>\n",
       "      <td>15</td>\n",
       "      <td>BrightDime</td>\n",
       "      <td>independent unbiased ally helping employees re...</td>\n",
       "      <td>[independent, unbiased, ally, helping, employe...</td>\n",
       "      <td>0.093750</td>\n",
       "      <td>Financial institutions and services</td>\n",
       "    </tr>\n",
       "    <tr>\n",
       "      <td>16</td>\n",
       "      <td>Comstellar Technologies</td>\n",
       "      <td>comstellar technologies inc building major tec...</td>\n",
       "      <td>[comstellar, technologies, inc, building, majo...</td>\n",
       "      <td>0.038461</td>\n",
       "      <td>Construction and civil engineering</td>\n",
       "    </tr>\n",
       "    <tr>\n",
       "      <td>17</td>\n",
       "      <td>Lot18</td>\n",
       "      <td>membership invitation website wine epicurean p...</td>\n",
       "      <td>[membership, invitation, website, wine, epicur...</td>\n",
       "      <td>0.000000</td>\n",
       "      <td>Others</td>\n",
       "    </tr>\n",
       "    <tr>\n",
       "      <td>19</td>\n",
       "      <td>Homebase</td>\n",
       "      <td>homebase helps reduce administrative burden ho...</td>\n",
       "      <td>[homebase, helps, reduce, administrative, burd...</td>\n",
       "      <td>0.000000</td>\n",
       "      <td>Others</td>\n",
       "    </tr>\n",
       "    <tr>\n",
       "      <td>20</td>\n",
       "      <td>Miro</td>\n",
       "      <td>miro leading visual collaboration platform cro...</td>\n",
       "      <td>[miro, leading, visual, collaboration, platfor...</td>\n",
       "      <td>0.031037</td>\n",
       "      <td>Software</td>\n",
       "    </tr>\n",
       "    <tr>\n",
       "      <td>21</td>\n",
       "      <td>Tenebril</td>\n",
       "      <td>tenebril inc leading security privacy technolo...</td>\n",
       "      <td>[tenebril, inc, leading, security, privacy, te...</td>\n",
       "      <td>0.049180</td>\n",
       "      <td>Aerospace and defense</td>\n",
       "    </tr>\n",
       "  </tbody>\n",
       "</table>\n",
       "</div>"
      ],
      "text/plain": [
       "               company_name  \\\n",
       "0                Codementor   \n",
       "1                   AgShift   \n",
       "2                    Shipsi   \n",
       "3                  OpenNews   \n",
       "4          Biobot Analytics   \n",
       "5                  NetClerk   \n",
       "6                 Satellier   \n",
       "7                  MedCases   \n",
       "8                 SpeedDate   \n",
       "9     Raven Biotechnologies   \n",
       "11          Xtreme Spectrum   \n",
       "12     WindMIL Therapeutics   \n",
       "13                   Alacra   \n",
       "14                  PetDesk   \n",
       "15               BrightDime   \n",
       "16  Comstellar Technologies   \n",
       "17                    Lot18   \n",
       "19                 Homebase   \n",
       "20                     Miro   \n",
       "21                 Tenebril   \n",
       "\n",
       "                                  company_description  \\\n",
       "0   codementor provides live help software develop...   \n",
       "1   agshift solution blends deep learning computer...   \n",
       "2   shipsi empowers retailer ability offer easy “i...   \n",
       "3   helping global network developers journalists ...   \n",
       "4   biobot analytics analyzes sewage estimate opio...   \n",
       "5   april netclerk inc acquired builders informati...   \n",
       "6   satellier one world leading authorities visual...   \n",
       "7   medcases focuses development medical e learnin...   \n",
       "8   speeddate com one slew new online webcam enhan...   \n",
       "9   raven biotechnologies inc biotechnology compan...   \n",
       "11  xtremespectrum developer ultrawideband uwb imp...   \n",
       "12  windmil therapeutics developing cell therapies...   \n",
       "13  alacra organizes financial legal information a...   \n",
       "14  petdesk saas appointment reminder platform hel...   \n",
       "15  independent unbiased ally helping employees re...   \n",
       "16  comstellar technologies inc building major tec...   \n",
       "17  membership invitation website wine epicurean p...   \n",
       "19  homebase helps reduce administrative burden ho...   \n",
       "20  miro leading visual collaboration platform cro...   \n",
       "21  tenebril inc leading security privacy technolo...   \n",
       "\n",
       "                                     tokenized_word_1  probab_1  \\\n",
       "0   [codementor, provides, live, help, software, d...  0.035720   \n",
       "1   [agshift, solution, blends, deep, learning, co...  0.044779   \n",
       "2   [shipsi, empowers, retailer, ability, offer, e...  0.032292   \n",
       "3   [helping, global, network, developers, journal...  0.074074   \n",
       "4   [biobot, analytics, analyzes, sewage, estimate...  0.073395   \n",
       "5   [april, netclerk, inc, acquired, builders, inf...  0.075657   \n",
       "6   [satellier, one, world, leading, authorities, ...  0.058811   \n",
       "7   [medcases, focuses, development, medical, e, l...  0.108108   \n",
       "8   [speeddate, com, one, slew, new, online, webca...  0.061856   \n",
       "9   [raven, biotechnologies, inc, biotechnology, c...  0.116279   \n",
       "11  [xtremespectrum, developer, ultrawideband, uwb...  0.318374   \n",
       "12  [windmil, therapeutics, developing, cell, ther...  0.142857   \n",
       "13  [alacra, organizes, financial, legal, informat...  0.070202   \n",
       "14  [petdesk, saas, appointment, reminder, platfor...  0.071430   \n",
       "15  [independent, unbiased, ally, helping, employe...  0.093750   \n",
       "16  [comstellar, technologies, inc, building, majo...  0.038461   \n",
       "17  [membership, invitation, website, wine, epicur...  0.000000   \n",
       "19  [homebase, helps, reduce, administrative, burd...  0.000000   \n",
       "20  [miro, leading, visual, collaboration, platfor...  0.031037   \n",
       "21  [tenebril, inc, leading, security, privacy, te...  0.049180   \n",
       "\n",
       "                                        tag_1  \n",
       "0                          Biopharmaceuticals  \n",
       "1                                    Software  \n",
       "2                Wholesale trade and shipping  \n",
       "3                           Media and content  \n",
       "4   Medical software and information services  \n",
       "5                              Personal goods  \n",
       "6                                    Software  \n",
       "7                         Healthcare services  \n",
       "8               Consumer information services  \n",
       "9                          Biopharmaceuticals  \n",
       "11                             Semiconductors  \n",
       "12                         Biopharmaceuticals  \n",
       "13                                   Software  \n",
       "14                                   Software  \n",
       "15        Financial institutions and services  \n",
       "16         Construction and civil engineering  \n",
       "17                                     Others  \n",
       "19                                     Others  \n",
       "20                                   Software  \n",
       "21                      Aerospace and defense  "
      ]
     },
     "execution_count": 34,
     "metadata": {},
     "output_type": "execute_result"
    }
   ],
   "source": [
    "company_long.head(20)"
   ]
  },
  {
   "cell_type": "markdown",
   "metadata": {
    "colab_type": "text",
    "id": "iBcJluUm3aHz"
   },
   "source": [
    "## Conclusion after comparision :\n",
    "\n",
    "1. For each matching rows from both dataframe, I have visited the site to cross check Industry_segment and find that company description (long)(company_long) works well compare to short_decription column (company_short).\n",
    "2. Both dataframe have different number of rows."
   ]
  },
  {
   "cell_type": "code",
   "execution_count": 35,
   "metadata": {
    "colab": {},
    "colab_type": "code",
    "id": "lt66TaO67iOw"
   },
   "outputs": [],
   "source": [
    "# converting df to .csv\n",
    "# downloading into local machine\n",
    "\n",
    "company_long.to_csv('long_descrip.csv')\n",
    "#files.download('long_descrip.csv')"
   ]
  },
  {
   "cell_type": "code",
   "execution_count": 36,
   "metadata": {
    "colab": {},
    "colab_type": "code",
    "id": "4VxBCBeFozyf"
   },
   "outputs": [],
   "source": [
    "company_short.to_csv('short_descrip.csv')\n",
    "#files.download('short_descrip.csv')"
   ]
  },
  {
   "cell_type": "markdown",
   "metadata": {
    "colab_type": "text",
    "id": "vq8V0odp5Ty-"
   },
   "source": [
    "## References :\n",
    "1. Stackoverflow.\n",
    "2. Geeks for Geeks."
   ]
  }
 ],
 "metadata": {
  "colab": {
   "collapsed_sections": [],
   "name": "Task3_part1.ipynb",
   "provenance": []
  },
  "kernelspec": {
   "display_name": "Python 3",
   "language": "python",
   "name": "python3"
  },
  "language_info": {
   "codemirror_mode": {
    "name": "ipython",
    "version": 3
   },
   "file_extension": ".py",
   "mimetype": "text/x-python",
   "name": "python",
   "nbconvert_exporter": "python",
   "pygments_lexer": "ipython3",
   "version": "3.7.4"
  }
 },
 "nbformat": 4,
 "nbformat_minor": 1
}
