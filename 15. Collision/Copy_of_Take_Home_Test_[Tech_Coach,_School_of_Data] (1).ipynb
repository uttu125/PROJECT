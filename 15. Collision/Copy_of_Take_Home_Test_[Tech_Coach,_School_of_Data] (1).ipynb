{
  "nbformat": 4,
  "nbformat_minor": 0,
  "metadata": {
    "kernelspec": {
      "display_name": "Python 3",
      "language": "python",
      "name": "python3"
    },
    "language_info": {
      "codemirror_mode": {
        "name": "ipython",
        "version": 3
      },
      "file_extension": ".py",
      "mimetype": "text/x-python",
      "name": "python",
      "nbconvert_exporter": "python",
      "pygments_lexer": "ipython3",
      "version": "3.6.8"
    },
    "colab": {
      "name": "Copy of Take-Home Test [Tech Coach, School of Data].ipynb",
      "provenance": [],
      "collapsed_sections": []
    }
  },
  "cells": [
    {
      "cell_type": "markdown",
      "metadata": {
        "id": "1JrEABzxtYIF",
        "colab_type": "text"
      },
      "source": [
        "# General Instructions\n",
        "- This take-home test is intended for candidates applying for the role of a [Tech Coach](https://boards.greenhouse.io/udacity/jobs/4512627002).\n",
        "- Please submit a solution within 4 days of receiving the test.\n",
        "- Please feel free to refer to any resources available online but do cite them in your comments.\n",
        "- Feel free to use libraries like Pandas, Numpy, Scipy, Matplotlib, Seaborn, Plotly, Geopandas and KeplerGL for exploration and analysis.\n",
        "- We expect your submission to be original and insightful.\n",
        "- Please write clean, idiomatic code.    \n",
        "- You can either work on your own system, use Google Colab or Kaggle.\n",
        "- Please turn in a copy of this notebook containing your solution and a pdf of the same.\n",
        "- Please ensure that the notebook and the pdf contain outputs from each cell in the notebook.\n"
      ]
    },
    {
      "cell_type": "markdown",
      "metadata": {
        "id": "sXOfgZGFtYIH",
        "colab_type": "text"
      },
      "source": [
        "# Objective\n",
        "You are required to analyze the New York [Vehicle Collision Dataset](https://www.kaggle.com/new-york-city/nypd-motor-vehicle-collisions#nypd-motor-vehicle-collisions.csv). \n",
        "The size of the dataset is around 400MB. The aim of the analysis is as follows:\n",
        "\n",
        "1. Understanding the dataset through summary statistics.\n",
        "2. Perform exploratoratory analysis to reveal spatial and temporal trends in the data.\n",
        "3. Clean the data.\n",
        "4. Perform hypothesis testing (instructions in latter sections)."
      ]
    },
    {
      "cell_type": "markdown",
      "metadata": {
        "id": "rCZi89DwtYIO",
        "colab_type": "text"
      },
      "source": [
        "## Load And Describe The Data\n",
        "Load the dataset and describe some characteristics of the data, like descriptive statistics, distributions and missing and invalid data."
      ]
    },
    {
      "cell_type": "code",
      "metadata": {
        "id": "KqgxJIwYcIom",
        "colab_type": "code",
        "colab": {}
      },
      "source": [
        "# Import Libraries\n",
        "\n",
        "!pip install -U -q PyDrive\n",
        "from pydrive.auth import GoogleAuth\n",
        "from pydrive.drive import GoogleDrive\n",
        "from google.colab import auth\n",
        "from oauth2client.client import GoogleCredentials"
      ],
      "execution_count": 0,
      "outputs": []
    },
    {
      "cell_type": "code",
      "metadata": {
        "id": "0Jsc1NQTcG34",
        "colab_type": "code",
        "colab": {}
      },
      "source": [
        "# Autheticate E-Mail ID\n",
        "\n",
        "auth.authenticate_user()\n",
        "gauth = GoogleAuth()\n",
        "gauth.credentials = GoogleCredentials.get_application_default()\n",
        "drive = GoogleDrive(gauth)"
      ],
      "execution_count": 0,
      "outputs": []
    },
    {
      "cell_type": "code",
      "metadata": {
        "id": "A9qHB8czL5G6",
        "colab_type": "code",
        "colab": {}
      },
      "source": [
        "# File from Drive using file-ID\n",
        "\n",
        "\n",
        "downloaded = drive.CreateFile({'id':'1kjcKZvSGWGJ3w5dov0kSVH3zWxBgxIYF'})\n",
        "downloaded.GetContentFile('nypd-motor-vehicle-collisions.csv')"
      ],
      "execution_count": 0,
      "outputs": []
    },
    {
      "cell_type": "code",
      "metadata": {
        "id": "ZcrcXiotN1hD",
        "colab_type": "code",
        "colab": {}
      },
      "source": [
        "# importing all generally used libraries which are being used during data analysis\n",
        "\n",
        "import pandas as pd\n",
        "import numpy as np\n",
        "from datetime import datetime,date\n",
        "import seaborn as sns\n",
        "import matplotlib.pyplot as plt\n",
        "%matplotlib inline\n",
        "\n",
        "import warnings\n",
        "warnings.filterwarnings('ignore')"
      ],
      "execution_count": 0,
      "outputs": []
    },
    {
      "cell_type": "code",
      "metadata": {
        "id": "u89DxrCScr8l",
        "colab_type": "code",
        "outputId": "099aab69-bd0c-4cb8-df28-f1c25b3e55cf",
        "colab": {
          "base_uri": "https://localhost:8080/",
          "height": 52
        }
      },
      "source": [
        "# importing dataset\n",
        "\n",
        "crash = pd.read_csv('nypd-motor-vehicle-collisions.csv') \n",
        "\n",
        "# checking the number of rows and columns in our dataset\n",
        "\n",
        "print(\"Number of rows/observations : \", crash.shape[0])\n",
        "print(\"Number of features/columns : \", crash.shape[1])"
      ],
      "execution_count": 6,
      "outputs": [
        {
          "output_type": "stream",
          "text": [
            "Number of rows/observations :  1294012\n",
            "Number of features/columns :  29\n"
          ],
          "name": "stdout"
        }
      ]
    },
    {
      "cell_type": "code",
      "metadata": {
        "id": "D5K2cXLNNE99",
        "colab_type": "code",
        "outputId": "36af0c8b-216e-4366-b122-ffa11e581cd9",
        "colab": {
          "base_uri": "https://localhost:8080/",
          "height": 917
        }
      },
      "source": [
        "# how data look likes for first 10 rows\n",
        "\n",
        "crash.head(10)"
      ],
      "execution_count": 7,
      "outputs": [
        {
          "output_type": "execute_result",
          "data": {
            "text/html": [
              "<div>\n",
              "<style scoped>\n",
              "    .dataframe tbody tr th:only-of-type {\n",
              "        vertical-align: middle;\n",
              "    }\n",
              "\n",
              "    .dataframe tbody tr th {\n",
              "        vertical-align: top;\n",
              "    }\n",
              "\n",
              "    .dataframe thead th {\n",
              "        text-align: right;\n",
              "    }\n",
              "</style>\n",
              "<table border=\"1\" class=\"dataframe\">\n",
              "  <thead>\n",
              "    <tr style=\"text-align: right;\">\n",
              "      <th></th>\n",
              "      <th>DATE</th>\n",
              "      <th>TIME</th>\n",
              "      <th>BOROUGH</th>\n",
              "      <th>ZIP CODE</th>\n",
              "      <th>LATITUDE</th>\n",
              "      <th>LONGITUDE</th>\n",
              "      <th>LOCATION</th>\n",
              "      <th>ON STREET NAME</th>\n",
              "      <th>CROSS STREET NAME</th>\n",
              "      <th>OFF STREET NAME</th>\n",
              "      <th>NUMBER OF PERSONS INJURED</th>\n",
              "      <th>NUMBER OF PERSONS KILLED</th>\n",
              "      <th>NUMBER OF PEDESTRIANS INJURED</th>\n",
              "      <th>NUMBER OF PEDESTRIANS KILLED</th>\n",
              "      <th>NUMBER OF CYCLIST INJURED</th>\n",
              "      <th>NUMBER OF CYCLIST KILLED</th>\n",
              "      <th>NUMBER OF MOTORIST INJURED</th>\n",
              "      <th>NUMBER OF MOTORIST KILLED</th>\n",
              "      <th>CONTRIBUTING FACTOR VEHICLE 1</th>\n",
              "      <th>CONTRIBUTING FACTOR VEHICLE 2</th>\n",
              "      <th>CONTRIBUTING FACTOR VEHICLE 3</th>\n",
              "      <th>CONTRIBUTING FACTOR VEHICLE 4</th>\n",
              "      <th>CONTRIBUTING FACTOR VEHICLE 5</th>\n",
              "      <th>UNIQUE KEY</th>\n",
              "      <th>VEHICLE TYPE CODE 1</th>\n",
              "      <th>VEHICLE TYPE CODE 2</th>\n",
              "      <th>VEHICLE TYPE CODE 3</th>\n",
              "      <th>VEHICLE TYPE CODE 4</th>\n",
              "      <th>VEHICLE TYPE CODE 5</th>\n",
              "    </tr>\n",
              "  </thead>\n",
              "  <tbody>\n",
              "    <tr>\n",
              "      <th>0</th>\n",
              "      <td>2018-06-26T00:00:00</td>\n",
              "      <td>0:00</td>\n",
              "      <td>BROOKLYN</td>\n",
              "      <td>11215</td>\n",
              "      <td>40.667470</td>\n",
              "      <td>-73.979290</td>\n",
              "      <td>{'latitude': '40.66747', 'longitude': '-73.979...</td>\n",
              "      <td>NaN</td>\n",
              "      <td>NaN</td>\n",
              "      <td>506       7 STREET</td>\n",
              "      <td>0</td>\n",
              "      <td>0</td>\n",
              "      <td>0</td>\n",
              "      <td>0</td>\n",
              "      <td>0</td>\n",
              "      <td>0</td>\n",
              "      <td>0</td>\n",
              "      <td>0</td>\n",
              "      <td>Passing Too Closely</td>\n",
              "      <td>Unspecified</td>\n",
              "      <td>NaN</td>\n",
              "      <td>NaN</td>\n",
              "      <td>NaN</td>\n",
              "      <td>3929455</td>\n",
              "      <td>Station Wagon/Sport Utility Vehicle</td>\n",
              "      <td>Station Wagon/Sport Utility Vehicle</td>\n",
              "      <td>NaN</td>\n",
              "      <td>NaN</td>\n",
              "      <td>NaN</td>\n",
              "    </tr>\n",
              "    <tr>\n",
              "      <th>1</th>\n",
              "      <td>2018-06-26T00:00:00</td>\n",
              "      <td>0:00</td>\n",
              "      <td>BROOKLYN</td>\n",
              "      <td>11218</td>\n",
              "      <td>40.641113</td>\n",
              "      <td>-73.966324</td>\n",
              "      <td>{'latitude': '40.641113', 'longitude': '-73.96...</td>\n",
              "      <td>NaN</td>\n",
              "      <td>NaN</td>\n",
              "      <td>358       ARGYLE ROAD</td>\n",
              "      <td>0</td>\n",
              "      <td>0</td>\n",
              "      <td>0</td>\n",
              "      <td>0</td>\n",
              "      <td>0</td>\n",
              "      <td>0</td>\n",
              "      <td>0</td>\n",
              "      <td>0</td>\n",
              "      <td>Unspecified</td>\n",
              "      <td>Unspecified</td>\n",
              "      <td>NaN</td>\n",
              "      <td>NaN</td>\n",
              "      <td>NaN</td>\n",
              "      <td>3929457</td>\n",
              "      <td>Station Wagon/Sport Utility Vehicle</td>\n",
              "      <td>Station Wagon/Sport Utility Vehicle</td>\n",
              "      <td>NaN</td>\n",
              "      <td>NaN</td>\n",
              "      <td>NaN</td>\n",
              "    </tr>\n",
              "    <tr>\n",
              "      <th>2</th>\n",
              "      <td>2018-06-26T00:00:00</td>\n",
              "      <td>0:00</td>\n",
              "      <td>MANHATTAN</td>\n",
              "      <td>10065</td>\n",
              "      <td>40.766666</td>\n",
              "      <td>-73.967070</td>\n",
              "      <td>{'latitude': '40.766666', 'longitude': '-73.96...</td>\n",
              "      <td>EAST 65 STREET</td>\n",
              "      <td>PARK AVENUE</td>\n",
              "      <td>NaN</td>\n",
              "      <td>0</td>\n",
              "      <td>0</td>\n",
              "      <td>0</td>\n",
              "      <td>0</td>\n",
              "      <td>0</td>\n",
              "      <td>0</td>\n",
              "      <td>0</td>\n",
              "      <td>0</td>\n",
              "      <td>Tire Failure/Inadequate</td>\n",
              "      <td>Unspecified</td>\n",
              "      <td>NaN</td>\n",
              "      <td>NaN</td>\n",
              "      <td>NaN</td>\n",
              "      <td>3930150</td>\n",
              "      <td>Sedan</td>\n",
              "      <td>Sedan</td>\n",
              "      <td>NaN</td>\n",
              "      <td>NaN</td>\n",
              "      <td>NaN</td>\n",
              "    </tr>\n",
              "    <tr>\n",
              "      <th>3</th>\n",
              "      <td>2018-06-26T00:00:00</td>\n",
              "      <td>0:00</td>\n",
              "      <td>NaN</td>\n",
              "      <td>NaN</td>\n",
              "      <td>40.826275</td>\n",
              "      <td>-73.859710</td>\n",
              "      <td>{'latitude': '40.826275', 'longitude': '-73.85...</td>\n",
              "      <td>BRUCKNER BOULEVARD</td>\n",
              "      <td>WHITE PLAINS ROAD</td>\n",
              "      <td>NaN</td>\n",
              "      <td>0</td>\n",
              "      <td>0</td>\n",
              "      <td>0</td>\n",
              "      <td>0</td>\n",
              "      <td>0</td>\n",
              "      <td>0</td>\n",
              "      <td>0</td>\n",
              "      <td>0</td>\n",
              "      <td>Turning Improperly</td>\n",
              "      <td>Unspecified</td>\n",
              "      <td>NaN</td>\n",
              "      <td>NaN</td>\n",
              "      <td>NaN</td>\n",
              "      <td>3929327</td>\n",
              "      <td>Sedan</td>\n",
              "      <td>Sedan</td>\n",
              "      <td>NaN</td>\n",
              "      <td>NaN</td>\n",
              "      <td>NaN</td>\n",
              "    </tr>\n",
              "    <tr>\n",
              "      <th>4</th>\n",
              "      <td>2018-06-26T00:00:00</td>\n",
              "      <td>0:00</td>\n",
              "      <td>NaN</td>\n",
              "      <td>NaN</td>\n",
              "      <td>40.699265</td>\n",
              "      <td>-73.727170</td>\n",
              "      <td>{'latitude': '40.699265', 'longitude': '-73.72...</td>\n",
              "      <td>CROSS ISLAND PARKWAY</td>\n",
              "      <td>NaN</td>\n",
              "      <td>NaN</td>\n",
              "      <td>0</td>\n",
              "      <td>0</td>\n",
              "      <td>0</td>\n",
              "      <td>0</td>\n",
              "      <td>0</td>\n",
              "      <td>0</td>\n",
              "      <td>0</td>\n",
              "      <td>0</td>\n",
              "      <td>Driver Inattention/Distraction</td>\n",
              "      <td>Unspecified</td>\n",
              "      <td>NaN</td>\n",
              "      <td>NaN</td>\n",
              "      <td>NaN</td>\n",
              "      <td>3929108</td>\n",
              "      <td>Station Wagon/Sport Utility Vehicle</td>\n",
              "      <td>Sedan</td>\n",
              "      <td>NaN</td>\n",
              "      <td>NaN</td>\n",
              "      <td>NaN</td>\n",
              "    </tr>\n",
              "    <tr>\n",
              "      <th>5</th>\n",
              "      <td>2018-06-26T00:00:00</td>\n",
              "      <td>0:00</td>\n",
              "      <td>BRONX</td>\n",
              "      <td>10457</td>\n",
              "      <td>40.844788</td>\n",
              "      <td>-73.891680</td>\n",
              "      <td>{'latitude': '40.844788', 'longitude': '-73.89...</td>\n",
              "      <td>NaN</td>\n",
              "      <td>NaN</td>\n",
              "      <td>1923      CROTONA AVENUE</td>\n",
              "      <td>1</td>\n",
              "      <td>0</td>\n",
              "      <td>0</td>\n",
              "      <td>0</td>\n",
              "      <td>1</td>\n",
              "      <td>0</td>\n",
              "      <td>0</td>\n",
              "      <td>0</td>\n",
              "      <td>Driver Inattention/Distraction</td>\n",
              "      <td>Unspecified</td>\n",
              "      <td>NaN</td>\n",
              "      <td>NaN</td>\n",
              "      <td>NaN</td>\n",
              "      <td>3930216</td>\n",
              "      <td>Sedan</td>\n",
              "      <td>Bike</td>\n",
              "      <td>NaN</td>\n",
              "      <td>NaN</td>\n",
              "      <td>NaN</td>\n",
              "    </tr>\n",
              "    <tr>\n",
              "      <th>6</th>\n",
              "      <td>2018-06-26T00:00:00</td>\n",
              "      <td>0:00</td>\n",
              "      <td>BROOKLYN</td>\n",
              "      <td>11229</td>\n",
              "      <td>40.606007</td>\n",
              "      <td>-73.955830</td>\n",
              "      <td>{'latitude': '40.606007', 'longitude': '-73.95...</td>\n",
              "      <td>AVENUE R</td>\n",
              "      <td>EAST 17 STREET</td>\n",
              "      <td>NaN</td>\n",
              "      <td>1</td>\n",
              "      <td>0</td>\n",
              "      <td>0</td>\n",
              "      <td>0</td>\n",
              "      <td>0</td>\n",
              "      <td>0</td>\n",
              "      <td>1</td>\n",
              "      <td>0</td>\n",
              "      <td>Driver Inattention/Distraction</td>\n",
              "      <td>Unspecified</td>\n",
              "      <td>NaN</td>\n",
              "      <td>NaN</td>\n",
              "      <td>NaN</td>\n",
              "      <td>3929796</td>\n",
              "      <td>Pick-up Truck</td>\n",
              "      <td>Sedan</td>\n",
              "      <td>NaN</td>\n",
              "      <td>NaN</td>\n",
              "      <td>NaN</td>\n",
              "    </tr>\n",
              "    <tr>\n",
              "      <th>7</th>\n",
              "      <td>2018-06-26T00:00:00</td>\n",
              "      <td>0:00</td>\n",
              "      <td>NaN</td>\n",
              "      <td>NaN</td>\n",
              "      <td>40.806915</td>\n",
              "      <td>-73.935570</td>\n",
              "      <td>{'latitude': '40.806915', 'longitude': '-73.93...</td>\n",
              "      <td>EAST 129 STREET</td>\n",
              "      <td>NaN</td>\n",
              "      <td>NaN</td>\n",
              "      <td>1</td>\n",
              "      <td>0</td>\n",
              "      <td>0</td>\n",
              "      <td>0</td>\n",
              "      <td>0</td>\n",
              "      <td>0</td>\n",
              "      <td>1</td>\n",
              "      <td>0</td>\n",
              "      <td>Following Too Closely</td>\n",
              "      <td>Driver Inattention/Distraction</td>\n",
              "      <td>NaN</td>\n",
              "      <td>NaN</td>\n",
              "      <td>NaN</td>\n",
              "      <td>3931350</td>\n",
              "      <td>Sedan</td>\n",
              "      <td>Sedan</td>\n",
              "      <td>NaN</td>\n",
              "      <td>NaN</td>\n",
              "      <td>NaN</td>\n",
              "    </tr>\n",
              "    <tr>\n",
              "      <th>8</th>\n",
              "      <td>2018-06-26T00:00:00</td>\n",
              "      <td>0:00</td>\n",
              "      <td>NaN</td>\n",
              "      <td>NaN</td>\n",
              "      <td>40.731346</td>\n",
              "      <td>-73.917435</td>\n",
              "      <td>{'latitude': '40.731346', 'longitude': '-73.91...</td>\n",
              "      <td>LONG ISLAND EXPRESSWAY</td>\n",
              "      <td>NaN</td>\n",
              "      <td>NaN</td>\n",
              "      <td>1</td>\n",
              "      <td>0</td>\n",
              "      <td>0</td>\n",
              "      <td>0</td>\n",
              "      <td>0</td>\n",
              "      <td>0</td>\n",
              "      <td>1</td>\n",
              "      <td>0</td>\n",
              "      <td>Following Too Closely</td>\n",
              "      <td>Unspecified</td>\n",
              "      <td>NaN</td>\n",
              "      <td>NaN</td>\n",
              "      <td>NaN</td>\n",
              "      <td>3929094</td>\n",
              "      <td>Sedan</td>\n",
              "      <td>Taxi</td>\n",
              "      <td>NaN</td>\n",
              "      <td>NaN</td>\n",
              "      <td>NaN</td>\n",
              "    </tr>\n",
              "    <tr>\n",
              "      <th>9</th>\n",
              "      <td>2018-06-26T00:00:00</td>\n",
              "      <td>0:05</td>\n",
              "      <td>QUEENS</td>\n",
              "      <td>11366</td>\n",
              "      <td>40.721500</td>\n",
              "      <td>-73.804400</td>\n",
              "      <td>{'latitude': '40.7215', 'longitude': '-73.8044...</td>\n",
              "      <td>NaN</td>\n",
              "      <td>NaN</td>\n",
              "      <td>164-06    UNION TURNPIKE</td>\n",
              "      <td>0</td>\n",
              "      <td>0</td>\n",
              "      <td>0</td>\n",
              "      <td>0</td>\n",
              "      <td>0</td>\n",
              "      <td>0</td>\n",
              "      <td>0</td>\n",
              "      <td>0</td>\n",
              "      <td>Unspecified</td>\n",
              "      <td>NaN</td>\n",
              "      <td>NaN</td>\n",
              "      <td>NaN</td>\n",
              "      <td>NaN</td>\n",
              "      <td>3929579</td>\n",
              "      <td>Station Wagon/Sport Utility Vehicle</td>\n",
              "      <td>NaN</td>\n",
              "      <td>NaN</td>\n",
              "      <td>NaN</td>\n",
              "      <td>NaN</td>\n",
              "    </tr>\n",
              "  </tbody>\n",
              "</table>\n",
              "</div>"
            ],
            "text/plain": [
              "                  DATE  TIME  ... VEHICLE TYPE CODE 4 VEHICLE TYPE CODE 5\n",
              "0  2018-06-26T00:00:00  0:00  ...                 NaN                 NaN\n",
              "1  2018-06-26T00:00:00  0:00  ...                 NaN                 NaN\n",
              "2  2018-06-26T00:00:00  0:00  ...                 NaN                 NaN\n",
              "3  2018-06-26T00:00:00  0:00  ...                 NaN                 NaN\n",
              "4  2018-06-26T00:00:00  0:00  ...                 NaN                 NaN\n",
              "5  2018-06-26T00:00:00  0:00  ...                 NaN                 NaN\n",
              "6  2018-06-26T00:00:00  0:00  ...                 NaN                 NaN\n",
              "7  2018-06-26T00:00:00  0:00  ...                 NaN                 NaN\n",
              "8  2018-06-26T00:00:00  0:00  ...                 NaN                 NaN\n",
              "9  2018-06-26T00:00:00  0:05  ...                 NaN                 NaN\n",
              "\n",
              "[10 rows x 29 columns]"
            ]
          },
          "metadata": {
            "tags": []
          },
          "execution_count": 7
        }
      ]
    },
    {
      "cell_type": "markdown",
      "metadata": {
        "id": "3wLziqIjXnqv",
        "colab_type": "text"
      },
      "source": [
        "#### Observations :\n",
        "- No need of LOCATION column as LATITUDE and LONGITUDE columns are representing same information { will drop in next section 'Clean The Data' }.\n",
        "\n",
        "- Many columns (like BOROUGH, ON STREET NAME etc) have missing values { will drop or impute values in place of missing values in next section 'Clean The Data }."
      ]
    },
    {
      "cell_type": "code",
      "metadata": {
        "id": "cuxogiRAdSCq",
        "colab_type": "code",
        "outputId": "463010ce-45dd-47e5-faab-09d5308ca956",
        "colab": {
          "base_uri": "https://localhost:8080/",
          "height": 321
        }
      },
      "source": [
        "# .describe() outputs value in scientific notation so to suppress this notation, first line of code is used which gives values upto three decimal points\n",
        "# .describe() without any parameter only give statistics summary for numerical columns only\n",
        "\n",
        "pd.options.display.float_format = '{:.3f}'.format\n",
        "crash.describe()"
      ],
      "execution_count": 8,
      "outputs": [
        {
          "output_type": "execute_result",
          "data": {
            "text/html": [
              "<div>\n",
              "<style scoped>\n",
              "    .dataframe tbody tr th:only-of-type {\n",
              "        vertical-align: middle;\n",
              "    }\n",
              "\n",
              "    .dataframe tbody tr th {\n",
              "        vertical-align: top;\n",
              "    }\n",
              "\n",
              "    .dataframe thead th {\n",
              "        text-align: right;\n",
              "    }\n",
              "</style>\n",
              "<table border=\"1\" class=\"dataframe\">\n",
              "  <thead>\n",
              "    <tr style=\"text-align: right;\">\n",
              "      <th></th>\n",
              "      <th>LATITUDE</th>\n",
              "      <th>LONGITUDE</th>\n",
              "      <th>NUMBER OF PERSONS INJURED</th>\n",
              "      <th>NUMBER OF PERSONS KILLED</th>\n",
              "      <th>NUMBER OF PEDESTRIANS INJURED</th>\n",
              "      <th>NUMBER OF PEDESTRIANS KILLED</th>\n",
              "      <th>NUMBER OF CYCLIST INJURED</th>\n",
              "      <th>NUMBER OF CYCLIST KILLED</th>\n",
              "      <th>NUMBER OF MOTORIST INJURED</th>\n",
              "      <th>NUMBER OF MOTORIST KILLED</th>\n",
              "      <th>UNIQUE KEY</th>\n",
              "    </tr>\n",
              "  </thead>\n",
              "  <tbody>\n",
              "    <tr>\n",
              "      <th>count</th>\n",
              "      <td>1073891.000</td>\n",
              "      <td>1073891.000</td>\n",
              "      <td>1294012.000</td>\n",
              "      <td>1294012.000</td>\n",
              "      <td>1294012.000</td>\n",
              "      <td>1294012.000</td>\n",
              "      <td>1294012.000</td>\n",
              "      <td>1294012.000</td>\n",
              "      <td>1294012.000</td>\n",
              "      <td>1294012.000</td>\n",
              "      <td>1294012.000</td>\n",
              "    </tr>\n",
              "    <tr>\n",
              "      <th>mean</th>\n",
              "      <td>40.712</td>\n",
              "      <td>-73.912</td>\n",
              "      <td>0.257</td>\n",
              "      <td>0.001</td>\n",
              "      <td>0.052</td>\n",
              "      <td>0.001</td>\n",
              "      <td>0.020</td>\n",
              "      <td>0.000</td>\n",
              "      <td>0.186</td>\n",
              "      <td>0.000</td>\n",
              "      <td>2458176.415</td>\n",
              "    </tr>\n",
              "    <tr>\n",
              "      <th>std</th>\n",
              "      <td>0.678</td>\n",
              "      <td>1.688</td>\n",
              "      <td>0.656</td>\n",
              "      <td>0.036</td>\n",
              "      <td>0.237</td>\n",
              "      <td>0.026</td>\n",
              "      <td>0.143</td>\n",
              "      <td>0.009</td>\n",
              "      <td>0.617</td>\n",
              "      <td>0.023</td>\n",
              "      <td>1515240.093</td>\n",
              "    </tr>\n",
              "    <tr>\n",
              "      <th>min</th>\n",
              "      <td>0.000</td>\n",
              "      <td>-201.360</td>\n",
              "      <td>0.000</td>\n",
              "      <td>0.000</td>\n",
              "      <td>0.000</td>\n",
              "      <td>0.000</td>\n",
              "      <td>0.000</td>\n",
              "      <td>0.000</td>\n",
              "      <td>0.000</td>\n",
              "      <td>0.000</td>\n",
              "      <td>22.000</td>\n",
              "    </tr>\n",
              "    <tr>\n",
              "      <th>25%</th>\n",
              "      <td>40.669</td>\n",
              "      <td>-73.978</td>\n",
              "      <td>0.000</td>\n",
              "      <td>0.000</td>\n",
              "      <td>0.000</td>\n",
              "      <td>0.000</td>\n",
              "      <td>0.000</td>\n",
              "      <td>0.000</td>\n",
              "      <td>0.000</td>\n",
              "      <td>0.000</td>\n",
              "      <td>325742.750</td>\n",
              "    </tr>\n",
              "    <tr>\n",
              "      <th>50%</th>\n",
              "      <td>40.723</td>\n",
              "      <td>-73.931</td>\n",
              "      <td>0.000</td>\n",
              "      <td>0.000</td>\n",
              "      <td>0.000</td>\n",
              "      <td>0.000</td>\n",
              "      <td>0.000</td>\n",
              "      <td>0.000</td>\n",
              "      <td>0.000</td>\n",
              "      <td>0.000</td>\n",
              "      <td>3283126.500</td>\n",
              "    </tr>\n",
              "    <tr>\n",
              "      <th>75%</th>\n",
              "      <td>40.767</td>\n",
              "      <td>-73.868</td>\n",
              "      <td>0.000</td>\n",
              "      <td>0.000</td>\n",
              "      <td>0.000</td>\n",
              "      <td>0.000</td>\n",
              "      <td>0.000</td>\n",
              "      <td>0.000</td>\n",
              "      <td>0.000</td>\n",
              "      <td>0.000</td>\n",
              "      <td>3606712.250</td>\n",
              "    </tr>\n",
              "    <tr>\n",
              "      <th>max</th>\n",
              "      <td>41.126</td>\n",
              "      <td>0.000</td>\n",
              "      <td>43.000</td>\n",
              "      <td>8.000</td>\n",
              "      <td>27.000</td>\n",
              "      <td>6.000</td>\n",
              "      <td>4.000</td>\n",
              "      <td>2.000</td>\n",
              "      <td>43.000</td>\n",
              "      <td>5.000</td>\n",
              "      <td>3931350.000</td>\n",
              "    </tr>\n",
              "  </tbody>\n",
              "</table>\n",
              "</div>"
            ],
            "text/plain": [
              "         LATITUDE   LONGITUDE  ...  NUMBER OF MOTORIST KILLED  UNIQUE KEY\n",
              "count 1073891.000 1073891.000  ...                1294012.000 1294012.000\n",
              "mean       40.712     -73.912  ...                      0.000 2458176.415\n",
              "std         0.678       1.688  ...                      0.023 1515240.093\n",
              "min         0.000    -201.360  ...                      0.000      22.000\n",
              "25%        40.669     -73.978  ...                      0.000  325742.750\n",
              "50%        40.723     -73.931  ...                      0.000 3283126.500\n",
              "75%        40.767     -73.868  ...                      0.000 3606712.250\n",
              "max        41.126       0.000  ...                      5.000 3931350.000\n",
              "\n",
              "[8 rows x 11 columns]"
            ]
          },
          "metadata": {
            "tags": []
          },
          "execution_count": 8
        }
      ]
    },
    {
      "cell_type": "markdown",
      "metadata": {
        "id": "lGFTZI_OfGU5",
        "colab_type": "text"
      },
      "source": [
        "#### Observations :\n",
        "- The first row (count) is showing number of non-null values in each of the numerical columns. The count (1073891) for LATITUDE and LONGITUDE columns doesn't equal to number of rows (1294012) implies these two columns have missing values.\n",
        "\n",
        "- Minimum, Maximum and Mean values for LATITUDE column are 0, 41.126 and 40.712 respectively which implies most of the values are around 40. Even 25, 50 and 75 percentile values are also around 40. From these all values, we can say that there might be chance of outliers near value 0.\n",
        "\n",
        "- Most of the values are concentrated around 73 for LONGITUDE column, we can observe this from mean, 25, 50 and 75 percentile values.\n",
        "\n",
        "- While columns NUMBER OF PERSONS INJURED, NUMBER OF PERSONS KILLED, NUMBER OF PEDESTRIANS INJURED, NUMBER OF PEDESTRIANS KILLED, NUMBER OF CYCLIST INJURED, NUMBER OF CYCLIST KILLED, NUMBER OF MOTORIST INJURED, NUMBER OF MOTORIST KILLED have almost similar value as we can see min, mean etc are almost same. \n"
      ]
    },
    {
      "cell_type": "code",
      "metadata": {
        "id": "cWdPM6SFd5lW",
        "colab_type": "code",
        "outputId": "2fb4c6f7-a4bc-4e49-be76-9a68c66b7d34",
        "colab": {
          "base_uri": "https://localhost:8080/",
          "height": 271
        }
      },
      "source": [
        "# .describe() with  \"include='object'\" parameter only give summary for categorical columns only\n",
        "\n",
        "crash.describe(include='object')"
      ],
      "execution_count": 9,
      "outputs": [
        {
          "output_type": "execute_result",
          "data": {
            "text/html": [
              "<div>\n",
              "<style scoped>\n",
              "    .dataframe tbody tr th:only-of-type {\n",
              "        vertical-align: middle;\n",
              "    }\n",
              "\n",
              "    .dataframe tbody tr th {\n",
              "        vertical-align: top;\n",
              "    }\n",
              "\n",
              "    .dataframe thead th {\n",
              "        text-align: right;\n",
              "    }\n",
              "</style>\n",
              "<table border=\"1\" class=\"dataframe\">\n",
              "  <thead>\n",
              "    <tr style=\"text-align: right;\">\n",
              "      <th></th>\n",
              "      <th>DATE</th>\n",
              "      <th>TIME</th>\n",
              "      <th>BOROUGH</th>\n",
              "      <th>ZIP CODE</th>\n",
              "      <th>LOCATION</th>\n",
              "      <th>ON STREET NAME</th>\n",
              "      <th>CROSS STREET NAME</th>\n",
              "      <th>OFF STREET NAME</th>\n",
              "      <th>CONTRIBUTING FACTOR VEHICLE 1</th>\n",
              "      <th>CONTRIBUTING FACTOR VEHICLE 2</th>\n",
              "      <th>CONTRIBUTING FACTOR VEHICLE 3</th>\n",
              "      <th>CONTRIBUTING FACTOR VEHICLE 4</th>\n",
              "      <th>CONTRIBUTING FACTOR VEHICLE 5</th>\n",
              "      <th>VEHICLE TYPE CODE 1</th>\n",
              "      <th>VEHICLE TYPE CODE 2</th>\n",
              "      <th>VEHICLE TYPE CODE 3</th>\n",
              "      <th>VEHICLE TYPE CODE 4</th>\n",
              "      <th>VEHICLE TYPE CODE 5</th>\n",
              "    </tr>\n",
              "  </thead>\n",
              "  <tbody>\n",
              "    <tr>\n",
              "      <th>count</th>\n",
              "      <td>1294012</td>\n",
              "      <td>1294012</td>\n",
              "      <td>919889</td>\n",
              "      <td>919782.000</td>\n",
              "      <td>1073891</td>\n",
              "      <td>1037155</td>\n",
              "      <td>952164</td>\n",
              "      <td>208671</td>\n",
              "      <td>1286823</td>\n",
              "      <td>1107476</td>\n",
              "      <td>83270</td>\n",
              "      <td>17880</td>\n",
              "      <td>4440</td>\n",
              "      <td>1283443</td>\n",
              "      <td>1090957</td>\n",
              "      <td>113320</td>\n",
              "      <td>45265</td>\n",
              "      <td>9540</td>\n",
              "    </tr>\n",
              "    <tr>\n",
              "      <th>unique</th>\n",
              "      <td>2187</td>\n",
              "      <td>1440</td>\n",
              "      <td>5</td>\n",
              "      <td>419.000</td>\n",
              "      <td>164558</td>\n",
              "      <td>10604</td>\n",
              "      <td>16929</td>\n",
              "      <td>105951</td>\n",
              "      <td>57</td>\n",
              "      <td>52</td>\n",
              "      <td>45</td>\n",
              "      <td>42</td>\n",
              "      <td>32</td>\n",
              "      <td>349</td>\n",
              "      <td>386</td>\n",
              "      <td>91</td>\n",
              "      <td>54</td>\n",
              "      <td>36</td>\n",
              "    </tr>\n",
              "    <tr>\n",
              "      <th>top</th>\n",
              "      <td>2014-01-21T00:00:00</td>\n",
              "      <td>16:00</td>\n",
              "      <td>BROOKLYN</td>\n",
              "      <td>11207.000</td>\n",
              "      <td>{'latitude': '40.6960346', 'longitude': '-73.9...</td>\n",
              "      <td></td>\n",
              "      <td></td>\n",
              "      <td></td>\n",
              "      <td>Unspecified</td>\n",
              "      <td>Unspecified</td>\n",
              "      <td>Unspecified</td>\n",
              "      <td>Unspecified</td>\n",
              "      <td>Unspecified</td>\n",
              "      <td>PASSENGER VEHICLE</td>\n",
              "      <td>PASSENGER VEHICLE</td>\n",
              "      <td>PASSENGER VEHICLE</td>\n",
              "      <td>PASSENGER VEHICLE</td>\n",
              "      <td>PASSENGER VEHICLE</td>\n",
              "    </tr>\n",
              "    <tr>\n",
              "      <th>freq</th>\n",
              "      <td>1161</td>\n",
              "      <td>17780</td>\n",
              "      <td>283491</td>\n",
              "      <td>10213.000</td>\n",
              "      <td>673</td>\n",
              "      <td>25765</td>\n",
              "      <td>33212</td>\n",
              "      <td>64094</td>\n",
              "      <td>602259</td>\n",
              "      <td>937598</td>\n",
              "      <td>76434</td>\n",
              "      <td>16546</td>\n",
              "      <td>4142</td>\n",
              "      <td>715228</td>\n",
              "      <td>537550</td>\n",
              "      <td>63653</td>\n",
              "      <td>24741</td>\n",
              "      <td>5475</td>\n",
              "    </tr>\n",
              "  </tbody>\n",
              "</table>\n",
              "</div>"
            ],
            "text/plain": [
              "                       DATE     TIME  ... VEHICLE TYPE CODE 4  VEHICLE TYPE CODE 5\n",
              "count               1294012  1294012  ...               45265                 9540\n",
              "unique                 2187     1440  ...                  54                   36\n",
              "top     2014-01-21T00:00:00    16:00  ...   PASSENGER VEHICLE    PASSENGER VEHICLE\n",
              "freq                   1161    17780  ...               24741                 5475\n",
              "\n",
              "[4 rows x 18 columns]"
            ]
          },
          "metadata": {
            "tags": []
          },
          "execution_count": 9
        }
      ]
    },
    {
      "cell_type": "markdown",
      "metadata": {
        "id": "e9IZvtffMjl-",
        "colab_type": "text"
      },
      "source": [
        "#### Observation :\n",
        "- All the columns have missing values except DATE and TIME as we can see count value is not equal to number of rows (1294012).\n",
        "\n",
        "- Unique value for all the columns is not equal to number of rows (1294012), which implies lots of values in each columns are repeating."
      ]
    },
    {
      "cell_type": "code",
      "metadata": {
        "id": "9mfuwUSLd5vF",
        "colab_type": "code",
        "outputId": "8c013a8d-5db4-40b8-caad-bd4294e342ce",
        "colab": {
          "base_uri": "https://localhost:8080/",
          "height": 52
        }
      },
      "source": [
        "latest_date = crash.iloc[0].DATE\n",
        "oldest_date = crash.iloc[-1].DATE\n",
        "\n",
        "print(\"first row value of DATE column : \",latest_date)\n",
        "print(\"last row value of DATE column : \",oldest_date)"
      ],
      "execution_count": 10,
      "outputs": [
        {
          "output_type": "stream",
          "text": [
            "first row value of DATE column :  2018-06-26T00:00:00\n",
            "last row value of DATE column :  2012-07-01T00:00:00\n"
          ],
          "name": "stdout"
        }
      ]
    },
    {
      "cell_type": "code",
      "metadata": {
        "id": "NCwUYHRrd5zB",
        "colab_type": "code",
        "outputId": "016d448e-b382-4330-e36b-a45af4d257a4",
        "colab": {
          "base_uri": "https://localhost:8080/",
          "height": 52
        }
      },
      "source": [
        "latest_date = crash.iloc[1000].DATE\n",
        "oldest_date = crash.iloc[-1001].DATE\n",
        "\n",
        "print(\"1001th row value of DATE column : \",latest_date)\n",
        "print(\"last 1001th row value of DATE column : \",oldest_date)"
      ],
      "execution_count": 11,
      "outputs": [
        {
          "output_type": "stream",
          "text": [
            "1001th row value of DATE column :  2018-06-25T00:00:00\n",
            "last 1001th row value of DATE column :  2012-07-02T00:00:00\n"
          ],
          "name": "stdout"
        }
      ]
    },
    {
      "cell_type": "markdown",
      "metadata": {
        "id": "CrAoMdcZXeDR",
        "colab_type": "text"
      },
      "source": [
        "#### Observation :\n",
        "- From last two cell, we observed that top rows (index with 0, 1, 2, 3....) represents latest date (current data) while last rows (1294011, 1294010.....) represents oldest date (old data)."
      ]
    },
    {
      "cell_type": "code",
      "metadata": {
        "id": "efGrCNILR88j",
        "colab_type": "code",
        "outputId": "649d64b9-9ce8-44fa-a4ef-7517376d7c8d",
        "colab": {
          "base_uri": "https://localhost:8080/",
          "height": 34
        }
      },
      "source": [
        "# checking number of distinct value for 'UNIQUE KEY' column\n",
        "\n",
        "crash['UNIQUE KEY'].nunique()"
      ],
      "execution_count": 12,
      "outputs": [
        {
          "output_type": "execute_result",
          "data": {
            "text/plain": [
              "1294012"
            ]
          },
          "metadata": {
            "tags": []
          },
          "execution_count": 12
        }
      ]
    },
    {
      "cell_type": "markdown",
      "metadata": {
        "id": "Nb_9vVxtcV-e",
        "colab_type": "text"
      },
      "source": [
        "#### Observation :\n",
        "- For UNIQUE KEY column, the number of unique value is equal to number of rows so basically it is acting like primary key (DBMS) which help in identifying each row but there is no need of this column as row index is doing same work { will drop in next section 'Clean The Data' }."
      ]
    },
    {
      "cell_type": "markdown",
      "metadata": {
        "id": "x77MiiR1bUaP",
        "colab_type": "text"
      },
      "source": [
        "## Clean The Data\n",
        "Remove any rows or columns that contain a high volume of missing or invalid data.\n",
        "\n",
        "**Hint:** You may have to look up facts like the geographical extents of the boroughs of the city and verify that the locations(latitude, longitude) in the data are valid. "
      ]
    },
    {
      "cell_type": "code",
      "metadata": {
        "id": "avHw4BiXesAP",
        "colab_type": "code",
        "colab": {}
      },
      "source": [
        "# last section, we had discussed to drop LOCATION and UNIQUE KEY \n",
        "\n",
        "dropping_columns = ['LOCATION', 'UNIQUE KEY']\n",
        "crash.drop(dropping_columns,axis = 1, inplace = True)"
      ],
      "execution_count": 0,
      "outputs": []
    },
    {
      "cell_type": "code",
      "metadata": {
        "id": "JEAarUa1fLLC",
        "colab_type": "code",
        "outputId": "23b6413d-008c-4e42-b990-a6ef278bae1c",
        "colab": {
          "base_uri": "https://localhost:8080/",
          "height": 514
        }
      },
      "source": [
        "# checking percentage of missing values in each of the columns \n",
        "\n",
        "crash.isnull().sum()/len(crash) * 100"
      ],
      "execution_count": 14,
      "outputs": [
        {
          "output_type": "execute_result",
          "data": {
            "text/plain": [
              "DATE                             0.000\n",
              "TIME                             0.000\n",
              "BOROUGH                         28.912\n",
              "ZIP CODE                        28.920\n",
              "LATITUDE                        17.011\n",
              "LONGITUDE                       17.011\n",
              "ON STREET NAME                  19.850\n",
              "CROSS STREET NAME               26.418\n",
              "OFF STREET NAME                 83.874\n",
              "NUMBER OF PERSONS INJURED        0.000\n",
              "NUMBER OF PERSONS KILLED         0.000\n",
              "NUMBER OF PEDESTRIANS INJURED    0.000\n",
              "NUMBER OF PEDESTRIANS KILLED     0.000\n",
              "NUMBER OF CYCLIST INJURED        0.000\n",
              "NUMBER OF CYCLIST KILLED         0.000\n",
              "NUMBER OF MOTORIST INJURED       0.000\n",
              "NUMBER OF MOTORIST KILLED        0.000\n",
              "CONTRIBUTING FACTOR VEHICLE 1    0.556\n",
              "CONTRIBUTING FACTOR VEHICLE 2   14.415\n",
              "CONTRIBUTING FACTOR VEHICLE 3   93.565\n",
              "CONTRIBUTING FACTOR VEHICLE 4   98.618\n",
              "CONTRIBUTING FACTOR VEHICLE 5   99.657\n",
              "VEHICLE TYPE CODE 1              0.817\n",
              "VEHICLE TYPE CODE 2             15.692\n",
              "VEHICLE TYPE CODE 3             91.243\n",
              "VEHICLE TYPE CODE 4             96.502\n",
              "VEHICLE TYPE CODE 5             99.263\n",
              "dtype: float64"
            ]
          },
          "metadata": {
            "tags": []
          },
          "execution_count": 14
        }
      ]
    },
    {
      "cell_type": "markdown",
      "metadata": {
        "id": "Hr8x6APQfuvg",
        "colab_type": "text"
      },
      "source": [
        "#### Observations : \n",
        "- Many columns (like CONTRIBUTING FACTOR VEHICLE 3, VEHICLE TYPE CODE 3 etc) have missing values greater than 90%.So We will drop these columns as these will not help in any way.\n",
        "\n"
      ]
    },
    {
      "cell_type": "code",
      "metadata": {
        "id": "F370EBJ4v0ds",
        "colab_type": "code",
        "colab": {}
      },
      "source": [
        "# dropping columns which have missing values greater than 30%\n",
        "\n",
        "crash = crash[crash.columns[crash.isnull().sum()/len(crash) * 100 < 30 ]] "
      ],
      "execution_count": 0,
      "outputs": []
    },
    {
      "cell_type": "code",
      "metadata": {
        "id": "yFjf5X2V0Wtz",
        "colab_type": "code",
        "outputId": "94a9a4f3-4094-4911-9ab9-888433e38b80",
        "colab": {
          "base_uri": "https://localhost:8080/",
          "height": 34
        }
      },
      "source": [
        "print(\"New number of features/columns : \", crash.shape[1])"
      ],
      "execution_count": 16,
      "outputs": [
        {
          "output_type": "stream",
          "text": [
            "New number of features/columns :  20\n"
          ],
          "name": "stdout"
        }
      ]
    },
    {
      "cell_type": "code",
      "metadata": {
        "id": "p7syX9e-MSWQ",
        "colab_type": "code",
        "outputId": "a3e6d066-ff8d-4664-ed99-bb1d2698b33e",
        "colab": {
          "base_uri": "https://localhost:8080/",
          "height": 34
        }
      },
      "source": [
        "# dropping rows which have missing values greater than 70%\n",
        "\n",
        "crash = crash.dropna(thresh=14)\n",
        "print(\"New number of rows/observations : \", crash.shape[0])"
      ],
      "execution_count": 17,
      "outputs": [
        {
          "output_type": "stream",
          "text": [
            "New number of rows/observations :  1283095\n"
          ],
          "name": "stdout"
        }
      ]
    },
    {
      "cell_type": "code",
      "metadata": {
        "id": "boipmA9MQ-sE",
        "colab_type": "code",
        "outputId": "cd3d51a5-156b-42ba-852a-a0cc9c9ae993",
        "colab": {
          "base_uri": "https://localhost:8080/",
          "height": 461
        }
      },
      "source": [
        "# checking how many columns still have missing value\n",
        "\n",
        "crash.info()"
      ],
      "execution_count": 18,
      "outputs": [
        {
          "output_type": "stream",
          "text": [
            "<class 'pandas.core.frame.DataFrame'>\n",
            "Int64Index: 1283095 entries, 0 to 1294011\n",
            "Data columns (total 20 columns):\n",
            "DATE                             1283095 non-null object\n",
            "TIME                             1283095 non-null object\n",
            "BOROUGH                          919756 non-null object\n",
            "ZIP CODE                         919651 non-null object\n",
            "LATITUDE                         1073200 non-null float64\n",
            "LONGITUDE                        1073200 non-null float64\n",
            "ON STREET NAME                   1033742 non-null object\n",
            "CROSS STREET NAME                951826 non-null object\n",
            "NUMBER OF PERSONS INJURED        1283095 non-null int64\n",
            "NUMBER OF PERSONS KILLED         1283095 non-null int64\n",
            "NUMBER OF PEDESTRIANS INJURED    1283095 non-null int64\n",
            "NUMBER OF PEDESTRIANS KILLED     1283095 non-null int64\n",
            "NUMBER OF CYCLIST INJURED        1283095 non-null int64\n",
            "NUMBER OF CYCLIST KILLED         1283095 non-null int64\n",
            "NUMBER OF MOTORIST INJURED       1283095 non-null int64\n",
            "NUMBER OF MOTORIST KILLED        1283095 non-null int64\n",
            "CONTRIBUTING FACTOR VEHICLE 1    1276806 non-null object\n",
            "CONTRIBUTING FACTOR VEHICLE 2    1106494 non-null object\n",
            "VEHICLE TYPE CODE 1              1274127 non-null object\n",
            "VEHICLE TYPE CODE 2              1089994 non-null object\n",
            "dtypes: float64(2), int64(8), object(10)\n",
            "memory usage: 205.6+ MB\n"
          ],
          "name": "stdout"
        }
      ]
    },
    {
      "cell_type": "code",
      "metadata": {
        "id": "Ru30jjV0Tdmb",
        "colab_type": "code",
        "outputId": "e2914e00-f672-4f44-9b73-1ad401d6ceb8",
        "colab": {
          "base_uri": "https://localhost:8080/",
          "height": 390
        }
      },
      "source": [
        "# filling NAN Value\n",
        "# for categorical variable, NAN values are replaced by Mode value\n",
        "# for continuous variables, NAN values are replaced by Meadian value\n",
        "\n",
        "crash['BOROUGH'].fillna(0, inplace=True)\n",
        "# \"BROOKLYN\" occur maximum time as we have found during .describe() step\n",
        "crash['BOROUGH'].replace(0,\"BROOKLYN\", inplace=True)\n",
        "\n",
        "crash['ZIP CODE'].fillna(0, inplace=True)\n",
        "# \"11207.000\" occur maximum time as we have found during .describe() step\n",
        "crash['ZIP CODE'].replace(0,\"11207.000\", inplace=True)\n",
        "\n",
        "# 'ON STREET NAME' column contains two types of invalid data, one is space(' ') and another is NAN values\n",
        "crash['ON STREET NAME'].replace(' ',\"BROADWAY\", inplace=True)\n",
        "crash['ON STREET NAME'].fillna(0, inplace=True)\n",
        "crash['ON STREET NAME'].replace(0,\"BROADWAY\", inplace=True)\n",
        "\n",
        "# 'CROSS STREET NAME' column contains two types of invalid data, one is space(' ') and another is NAN values\n",
        "crash['CROSS STREET NAME'].replace(' ',\"3 AVENUE\", inplace=True)\n",
        "crash['CROSS STREET NAME'].fillna(0, inplace=True)\n",
        "crash['CROSS STREET NAME'].replace(0,\"3 AVENUE\", inplace=True)\n",
        "\n",
        "# \"PASSENGER VEHICLE\" occur maximum time as we have found during .describe() step\n",
        "crash['VEHICLE TYPE CODE 1'].fillna(0, inplace=True)\n",
        "crash['VEHICLE TYPE CODE 1'].replace(0,\"PASSENGER VEHICLE\", inplace=True)\n",
        "\n",
        "# \"PASSENGER VEHICLE\" occur maximum time as we have found during .describe() step\n",
        "crash['VEHICLE TYPE CODE 2'].fillna(0, inplace=True)\n",
        "crash['VEHICLE TYPE CODE 2'].replace(0,\"PASSENGER VEHICLE\", inplace=True)\n",
        "\n",
        "crash['LATITUDE'].fillna(crash['LATITUDE'].median(), inplace=True)\n",
        "\n",
        "crash['LONGITUDE'].fillna(crash['LONGITUDE'].median(), inplace=True)\n",
        "\n",
        "# 'CONTRIBUTING FACTOR VEHICLE 1' column contains two types of invalid data, one is 'Unspecified' and another is NAN values\n",
        "crash['CONTRIBUTING FACTOR VEHICLE 1'].replace('Unspecified', 0, inplace=True)\n",
        "crash['CONTRIBUTING FACTOR VEHICLE 1'].replace(0, 'Driver Inattention/Distraction', inplace=True)\n",
        "crash['CONTRIBUTING FACTOR VEHICLE 1'].fillna(0, inplace=True)\n",
        "crash['CONTRIBUTING FACTOR VEHICLE 1'].replace(0,\"Driver Inattention/Distraction\", inplace=True)\n",
        "\n",
        "# 'CONTRIBUTING FACTOR VEHICLE 2' column contains two types of invalid data, one is 'Unspecified' and another is NAN values\n",
        "crash['CONTRIBUTING FACTOR VEHICLE 2'].replace('Unspecified', 0, inplace=True)\n",
        "crash['CONTRIBUTING FACTOR VEHICLE 2'].replace(0, 'Driver Inattention/Distraction', inplace=True)\n",
        "crash['CONTRIBUTING FACTOR VEHICLE 2'].fillna(0, inplace=True)\n",
        "crash['CONTRIBUTING FACTOR VEHICLE 2'].replace(0,\"Driver Inattention/Distraction\", inplace=True)\n",
        "\n",
        "\n",
        "\n",
        "# checking again is any missing values in any of the columns \n",
        "\n",
        "crash.isnull().sum()/len(crash) * 100 "
      ],
      "execution_count": 19,
      "outputs": [
        {
          "output_type": "execute_result",
          "data": {
            "text/plain": [
              "DATE                            0.000\n",
              "TIME                            0.000\n",
              "BOROUGH                         0.000\n",
              "ZIP CODE                        0.000\n",
              "LATITUDE                        0.000\n",
              "LONGITUDE                       0.000\n",
              "ON STREET NAME                  0.000\n",
              "CROSS STREET NAME               0.000\n",
              "NUMBER OF PERSONS INJURED       0.000\n",
              "NUMBER OF PERSONS KILLED        0.000\n",
              "NUMBER OF PEDESTRIANS INJURED   0.000\n",
              "NUMBER OF PEDESTRIANS KILLED    0.000\n",
              "NUMBER OF CYCLIST INJURED       0.000\n",
              "NUMBER OF CYCLIST KILLED        0.000\n",
              "NUMBER OF MOTORIST INJURED      0.000\n",
              "NUMBER OF MOTORIST KILLED       0.000\n",
              "CONTRIBUTING FACTOR VEHICLE 1   0.000\n",
              "CONTRIBUTING FACTOR VEHICLE 2   0.000\n",
              "VEHICLE TYPE CODE 1             0.000\n",
              "VEHICLE TYPE CODE 2             0.000\n",
              "dtype: float64"
            ]
          },
          "metadata": {
            "tags": []
          },
          "execution_count": 19
        }
      ]
    },
    {
      "cell_type": "markdown",
      "metadata": {
        "id": "HbL74czKtYI0",
        "colab_type": "text"
      },
      "source": [
        "## Explore the data.\n",
        "Use plotting libraries to visualize aspects like the location, time, cause other factors related to the collisions. This will also help you come up with interesting hypotheses."
      ]
    },
    {
      "cell_type": "code",
      "metadata": {
        "id": "6-FGGCaYL7Wm",
        "colab_type": "code",
        "colab": {}
      },
      "source": [
        "cat = crash.select_dtypes('object').columns.to_list()\n",
        "conti = crash.select_dtypes('int64').columns.to_list()\n",
        "conti.extend(['LATITUDE','LONGITUDE'])\n",
        "\n",
        "crash_cat = crash[cat]\n",
        "crash_conti = crash[conti]"
      ],
      "execution_count": 0,
      "outputs": []
    },
    {
      "cell_type": "code",
      "metadata": {
        "id": "cs6_o4cha9Mh",
        "colab_type": "code",
        "outputId": "f0bce008-12df-49f7-80c3-8f6754651c6e",
        "colab": {
          "base_uri": "https://localhost:8080/",
          "height": 1000
        }
      },
      "source": [
        "# for each column checking the number of of unique value in that column, number of times each value is appearing\n",
        "\n",
        "for i in crash.columns.tolist():\n",
        "    print(\"Column : \",i)\n",
        "    print(\"Number of unique value in each column : \",crash[i].nunique())\n",
        "    print(crash[i].value_counts())\n",
        "    print(\"*\"*71)"
      ],
      "execution_count": 21,
      "outputs": [
        {
          "output_type": "stream",
          "text": [
            "Column :  DATE\n",
            "Number of unique value in each column :  2187\n",
            "2014-01-21T00:00:00    1154\n",
            "2017-12-15T00:00:00     993\n",
            "2018-06-20T00:00:00     976\n",
            "2017-05-19T00:00:00     960\n",
            "2014-02-03T00:00:00     951\n",
            "                       ... \n",
            "2014-12-25T00:00:00     301\n",
            "2012-10-29T00:00:00     290\n",
            "2016-02-15T00:00:00     289\n",
            "2013-12-25T00:00:00     256\n",
            "2015-01-27T00:00:00     186\n",
            "Name: DATE, Length: 2187, dtype: int64\n",
            "***********************************************************************\n",
            "Column :  TIME\n",
            "Number of unique value in each column :  1440\n",
            "16:00    17693\n",
            "17:00    17388\n",
            "15:00    17274\n",
            "18:00    16035\n",
            "14:00    15326\n",
            "         ...  \n",
            "3:34        36\n",
            "3:51        36\n",
            "3:43        35\n",
            "3:41        33\n",
            "3:31        27\n",
            "Name: TIME, Length: 1440, dtype: int64\n",
            "***********************************************************************\n",
            "Column :  BOROUGH\n",
            "Number of unique value in each column :  5\n",
            "BROOKLYN         646792\n",
            "QUEENS           241199\n",
            "MANHATTAN        229290\n",
            "BRONX            123833\n",
            "STATEN ISLAND     41981\n",
            "Name: BOROUGH, dtype: int64\n",
            "***********************************************************************\n",
            "Column :  ZIP CODE\n",
            "Number of unique value in each column :  420\n",
            "11207.000    363444\n",
            "11207.0       10211\n",
            "11101.0        8133\n",
            "10019.0        7941\n",
            "10016.0        7575\n",
            "              ...  \n",
            "10176.0           1\n",
            "10153             1\n",
            "10122.0           1\n",
            "10048             1\n",
            "11241.0           1\n",
            "Name: ZIP CODE, Length: 420, dtype: int64\n",
            "***********************************************************************\n",
            "Column :  LATITUDE\n",
            "Number of unique value in each column :  123910\n",
            "40.723    209910\n",
            "40.696       673\n",
            "40.761       540\n",
            "40.757       485\n",
            "40.676       479\n",
            "           ...  \n",
            "40.617         1\n",
            "40.675         1\n",
            "40.886         1\n",
            "40.845         1\n",
            "40.609         1\n",
            "Name: LATITUDE, Length: 123910, dtype: int64\n",
            "***********************************************************************\n",
            "Column :  LONGITUDE\n",
            "Number of unique value in each column :  108546\n",
            "-73.931    209895\n",
            "-73.985       673\n",
            "-73.964       540\n",
            "-73.990       485\n",
            "-73.897       479\n",
            "            ...  \n",
            "-73.984         1\n",
            "-73.809         1\n",
            "-73.809         1\n",
            "-73.876         1\n",
            "-73.884         1\n",
            "Name: LONGITUDE, Length: 108546, dtype: int64\n",
            "***********************************************************************\n",
            "Column :  ON STREET NAME\n",
            "Number of unique value in each column :  10580\n",
            "BROADWAY                            249353\n",
            "                                     25730\n",
            "BROADWAY                             13238\n",
            "ATLANTIC AVENUE                      11683\n",
            "NORTHERN BOULEVARD                    9304\n",
            "                                     ...  \n",
            "LAMBERTS STREET                          1\n",
            "CHAPPELL STREET                          1\n",
            "WEST FORDHAM RD                          1\n",
            "crossfield ave                           1\n",
            "W 1st St                                 1\n",
            "Name: ON STREET NAME, Length: 10580, dtype: int64\n",
            "***********************************************************************\n",
            "Column :  CROSS STREET NAME\n",
            "Number of unique value in each column :  16905\n",
            "3 AVENUE                            333605\n",
            "                                     33156\n",
            "3 AVENUE                             10492\n",
            "BROADWAY                             10293\n",
            "2 AVENUE                              8952\n",
            "                                     ...  \n",
            "HARBORVIEW PLACE                         1\n",
            "Jackie robinson parkway                  1\n",
            "BUTTERWORTH PLACE                        1\n",
            "louisiana avenue                         1\n",
            "TABB PLACE                               1\n",
            "Name: CROSS STREET NAME, Length: 16905, dtype: int64\n",
            "***********************************************************************\n",
            "Column :  NUMBER OF PERSONS INJURED\n",
            "Number of unique value in each column :  25\n",
            "0     1043431\n",
            "1      185265\n",
            "2       34963\n",
            "3       11665\n",
            "4        4446\n",
            "5        1841\n",
            "6         776\n",
            "7         334\n",
            "8         140\n",
            "9          82\n",
            "10         50\n",
            "11         32\n",
            "12         20\n",
            "13         16\n",
            "16          7\n",
            "14          5\n",
            "15          5\n",
            "18          3\n",
            "19          3\n",
            "22          3\n",
            "24          3\n",
            "17          2\n",
            "32          1\n",
            "27          1\n",
            "43          1\n",
            "Name: NUMBER OF PERSONS INJURED, dtype: int64\n",
            "***********************************************************************\n",
            "Column :  NUMBER OF PERSONS KILLED\n",
            "Number of unique value in each column :  7\n",
            "0    1281696\n",
            "1       1355\n",
            "2         34\n",
            "3          7\n",
            "8          1\n",
            "5          1\n",
            "4          1\n",
            "Name: NUMBER OF PERSONS KILLED, dtype: int64\n",
            "***********************************************************************\n",
            "Column :  NUMBER OF PEDESTRIANS INJURED\n",
            "Number of unique value in each column :  13\n",
            "0     1221801\n",
            "1       58310\n",
            "2        2692\n",
            "3         230\n",
            "4          34\n",
            "5          15\n",
            "6           5\n",
            "9           2\n",
            "8           2\n",
            "27          1\n",
            "15          1\n",
            "13          1\n",
            "7           1\n",
            "Name: NUMBER OF PEDESTRIANS INJURED, dtype: int64\n",
            "***********************************************************************\n",
            "Column :  NUMBER OF PEDESTRIANS KILLED\n",
            "Number of unique value in each column :  4\n",
            "0    1282309\n",
            "1        776\n",
            "2          9\n",
            "6          1\n",
            "Name: NUMBER OF PEDESTRIANS KILLED, dtype: int64\n",
            "***********************************************************************\n",
            "Column :  NUMBER OF CYCLIST INJURED\n",
            "Number of unique value in each column :  5\n",
            "0    1257588\n",
            "1      25086\n",
            "2        408\n",
            "3         12\n",
            "4          1\n",
            "Name: NUMBER OF CYCLIST INJURED, dtype: int64\n",
            "***********************************************************************\n",
            "Column :  NUMBER OF CYCLIST KILLED\n",
            "Number of unique value in each column :  3\n",
            "0    1282991\n",
            "1        103\n",
            "2          1\n",
            "Name: NUMBER OF CYCLIST KILLED, dtype: int64\n",
            "***********************************************************************\n",
            "Column :  NUMBER OF MOTORIST INJURED\n",
            "Number of unique value in each column :  25\n",
            "0     1129392\n",
            "1      101773\n",
            "2       33129\n",
            "3       11268\n",
            "4        4320\n",
            "5        1805\n",
            "6         741\n",
            "7         313\n",
            "8         136\n",
            "9          78\n",
            "10         45\n",
            "11         30\n",
            "12         19\n",
            "13         16\n",
            "14          5\n",
            "16          5\n",
            "15          4\n",
            "18          3\n",
            "19          3\n",
            "24          3\n",
            "17          2\n",
            "22          2\n",
            "30          1\n",
            "21          1\n",
            "43          1\n",
            "Name: NUMBER OF MOTORIST INJURED, dtype: int64\n",
            "***********************************************************************\n",
            "Column :  NUMBER OF MOTORIST KILLED\n",
            "Number of unique value in each column :  6\n",
            "0    1282583\n",
            "1        480\n",
            "2         24\n",
            "3          6\n",
            "5          1\n",
            "4          1\n",
            "Name: NUMBER OF MOTORIST KILLED, dtype: int64\n",
            "***********************************************************************\n",
            "Column :  CONTRIBUTING FACTOR VEHICLE 1\n",
            "Number of unique value in each column :  56\n",
            "Driver Inattention/Distraction                           800658\n",
            "Failure to Yield Right-of-Way                             63664\n",
            "Fatigued/Drowsy                                           48577\n",
            "Backing Unsafely                                          42159\n",
            "Following Too Closely                                     40947\n",
            "Other Vehicular                                           38436\n",
            "Turning Improperly                                        31671\n",
            "Lost Consciousness                                        20310\n",
            "Passing or Lane Usage Improper                            19007\n",
            "Traffic Control Disregarded                               17487\n",
            "Driver Inexperience                                       16836\n",
            "Unsafe Lane Changing                                      15966\n",
            "Prescription Medication                                   15893\n",
            "Pavement Slippery                                         12633\n",
            "Outside Car Distraction                                   10987\n",
            "Alcohol Involvement                                       10862\n",
            "Physical Disability                                        9376\n",
            "Oversized Vehicle                                          7643\n",
            "Reaction to Other Uninvolved Vehicle                       7638\n",
            "Unsafe Speed                                               6996\n",
            "View Obstructed/Limited                                    6275\n",
            "Passenger Distraction                                      5525\n",
            "Aggressive Driving/Road Rage                               4237\n",
            "Brakes Defective                                           3475\n",
            "Pedestrian/Bicyclist/Other Pedestrian Error/Confusion      2672\n",
            "Illness                                                    2661\n",
            "Glare                                                      2600\n",
            "Obstruction/Debris                                         2317\n",
            "Fell Asleep                                                2287\n",
            "Other Electronic Device                                    2257\n",
            "Failure to Keep Right                                      2246\n",
            "Pavement Defective                                         1374\n",
            "Steering Failure                                           1207\n",
            "Tire Failure/Inadequate                                    1179\n",
            "Animals Action                                              737\n",
            "Drugs (Illegal)                                             647\n",
            "Lane Marking Improper/Inadequate                            589\n",
            "Accelerator Defective                                       557\n",
            "Traffic Control Device Improper/Non-Working                 544\n",
            "Passing Too Closely                                         524\n",
            "Driverless/Runaway Vehicle                                  421\n",
            "Cell Phone (hand-held)                                      231\n",
            "Cell Phone (hands-free)                                     228\n",
            "Reaction to Uninvolved Vehicle                              147\n",
            "Tow Hitch Defective                                         107\n",
            "Other Lighting Defects                                       97\n",
            "Headlights Defective                                         72\n",
            "Windshield Inadequate                                        59\n",
            "Shoulders Defective/Improper                                 49\n",
            "Illnes                                                       10\n",
            "Drugs (illegal)                                               6\n",
            "Cell Phone (hand-Held)                                        4\n",
            "Eating or Drinking                                            3\n",
            "Vehicle Vandalism                                             3\n",
            "Listening/Using Headphones                                    1\n",
            "Tinted Windows                                                1\n",
            "Name: CONTRIBUTING FACTOR VEHICLE 1, dtype: int64\n",
            "***********************************************************************\n",
            "Column :  CONTRIBUTING FACTOR VEHICLE 2\n",
            "Number of unique value in each column :  51\n",
            "Driver Inattention/Distraction                           1167148\n",
            "Other Vehicular                                            22049\n",
            "Fatigued/Drowsy                                            13031\n",
            "Failure to Yield Right-of-Way                              11512\n",
            "Turning Improperly                                          7070\n",
            "Lost Consciousness                                          6344\n",
            "Backing Unsafely                                            6273\n",
            "Following Too Closely                                       5826\n",
            "Driver Inexperience                                         4725\n",
            "Passing or Lane Usage Improper                              4526\n",
            "Traffic Control Disregarded                                 4233\n",
            "Prescription Medication                                     3617\n",
            "Pavement Slippery                                           3108\n",
            "Unsafe Lane Changing                                        2629\n",
            "Outside Car Distraction                                     2585\n",
            "Physical Disability                                         2524\n",
            "Reaction to Other Uninvolved Vehicle                        1957\n",
            "View Obstructed/Limited                                     1694\n",
            "Unsafe Speed                                                1547\n",
            "Oversized Vehicle                                           1522\n",
            "Passenger Distraction                                       1285\n",
            "Alcohol Involvement                                         1199\n",
            "Aggressive Driving/Road Rage                                1004\n",
            "Other Electronic Device                                      666\n",
            "Pedestrian/Bicyclist/Other Pedestrian Error/Confusion        640\n",
            "Illness                                                      550\n",
            "Failure to Keep Right                                        500\n",
            "Obstruction/Debris                                           449\n",
            "Fell Asleep                                                  439\n",
            "Glare                                                        436\n",
            "Lane Marking Improper/Inadequate                             349\n",
            "Brakes Defective                                             336\n",
            "Traffic Control Device Improper/Non-Working                  318\n",
            "Pavement Defective                                           155\n",
            "Drugs (Illegal)                                              146\n",
            "Passing Too Closely                                          121\n",
            "Tire Failure/Inadequate                                      117\n",
            "Steering Failure                                              93\n",
            "Animals Action                                                84\n",
            "Accelerator Defective                                         71\n",
            "Cell Phone (hands-free)                                       37\n",
            "Cell Phone (hand-held)                                        37\n",
            "Reaction to Uninvolved Vehicle                                34\n",
            "Headlights Defective                                          30\n",
            "Other Lighting Defects                                        25\n",
            "Driverless/Runaway Vehicle                                    25\n",
            "Tow Hitch Defective                                           15\n",
            "Shoulders Defective/Improper                                   9\n",
            "Windshield Inadequate                                          3\n",
            "Cell Phone (hand-Held)                                         1\n",
            "Illnes                                                         1\n",
            "Name: CONTRIBUTING FACTOR VEHICLE 2, dtype: int64\n",
            "***********************************************************************\n",
            "Column :  VEHICLE TYPE CODE 1\n",
            "Number of unique value in each column :  348\n",
            "PASSENGER VEHICLE                719179\n",
            "SPORT UTILITY / STATION WAGON    311113\n",
            "TAXI                              50380\n",
            "VAN                               26401\n",
            "OTHER                             23809\n",
            "                                  ...  \n",
            "PSR                                   1\n",
            "e sco                                 1\n",
            "Golf                                  1\n",
            "2 TON                                 1\n",
            "P/SH                                  1\n",
            "Name: VEHICLE TYPE CODE 1, Length: 348, dtype: int64\n",
            "***********************************************************************\n",
            "Column :  VEHICLE TYPE CODE 2\n",
            "Number of unique value in each column :  386\n",
            "PASSENGER VEHICLE                730215\n",
            "SPORT UTILITY / STATION WAGON    237607\n",
            "UNKNOWN                           81370\n",
            "TAXI                              41959\n",
            "BICYCLE                           26937\n",
            "                                  ...  \n",
            "mail                                  1\n",
            "KENWO                                 1\n",
            "VAN F                                 1\n",
            "PU                                    1\n",
            "VT                                    1\n",
            "Name: VEHICLE TYPE CODE 2, Length: 386, dtype: int64\n",
            "***********************************************************************\n"
          ],
          "name": "stdout"
        }
      ]
    },
    {
      "cell_type": "code",
      "metadata": {
        "id": "DGbY6ikxSWaq",
        "colab_type": "code",
        "outputId": "601043b7-c529-49a0-a0c6-aed0e1cad1e0",
        "colab": {
          "base_uri": "https://localhost:8080/",
          "height": 1000
        }
      },
      "source": [
        "print(\"For train data :\")\n",
        "for i in conti:\n",
        "    plt.figure(figsize=(9,4))\n",
        "    sns.distplot(crash_conti[i])\n",
        "    plt.ylabel('frequency')\n",
        "    plt.show()\n",
        "    print(\"Skewness : \",crash_conti[i].skew())\n",
        "    print(\"*\"*101)\n"
      ],
      "execution_count": 22,
      "outputs": [
        {
          "output_type": "stream",
          "text": [
            "For train data :\n"
          ],
          "name": "stdout"
        },
        {
          "output_type": "display_data",
          "data": {
            "image/png": "[encoded data removed]",
            "text/plain": [
              "<Figure size 648x288 with 1 Axes>"
            ]
          },
          "metadata": {
            "tags": []
          }
        },
        {
          "output_type": "stream",
          "text": [
            "Skewness :  4.8149428132208865\n",
            "*****************************************************************************************************\n"
          ],
          "name": "stdout"
        },
        {
          "output_type": "display_data",
          "data": {
            "image/png": "[encoded data removed]",
            "text/plain": [
              "<Figure size 648x288 with 1 Axes>"
            ]
          },
          "metadata": {
            "tags": []
          }
        },
        {
          "output_type": "stream",
          "text": [
            "Skewness :  42.16177101770935\n",
            "*****************************************************************************************************\n"
          ],
          "name": "stdout"
        },
        {
          "output_type": "display_data",
          "data": {
            "image/png": "[encoded data removed]",
            "text/plain": [
              "<Figure size 648x288 with 1 Axes>"
            ]
          },
          "metadata": {
            "tags": []
          }
        },
        {
          "output_type": "stream",
          "text": [
            "Skewness :  6.5699106176443705\n",
            "*****************************************************************************************************\n"
          ],
          "name": "stdout"
        },
        {
          "output_type": "display_data",
          "data": {
            "image/png": "[encoded data removed]",
            "text/plain": [
              "<Figure size 648x288 with 1 Axes>"
            ]
          },
          "metadata": {
            "tags": []
          }
        },
        {
          "output_type": "stream",
          "text": [
            "Skewness :  48.776810504262436\n",
            "*****************************************************************************************************\n"
          ],
          "name": "stdout"
        },
        {
          "output_type": "display_data",
          "data": {
            "image/png": "[encoded data removed]",
            "text/plain": [
              "<Figure size 648x288 with 1 Axes>"
            ]
          },
          "metadata": {
            "tags": []
          }
        },
        {
          "output_type": "stream",
          "text": [
            "Skewness :  7.198311080072557\n",
            "*****************************************************************************************************\n"
          ],
          "name": "stdout"
        },
        {
          "output_type": "display_data",
          "data": {
            "image/png": "[encoded data removed]",
            "text/plain": [
              "<Figure size 648x288 with 1 Axes>"
            ]
          },
          "metadata": {
            "tags": []
          }
        },
        {
          "output_type": "stream",
          "text": [
            "Skewness :  113.58651049477362\n",
            "*****************************************************************************************************\n"
          ],
          "name": "stdout"
        },
        {
          "output_type": "display_data",
          "data": {
            "image/png": "[encoded data removed]",
            "text/plain": [
              "<Figure size 648x288 with 1 Axes>"
            ]
          },
          "metadata": {
            "tags": []
          }
        },
        {
          "output_type": "stream",
          "text": [
            "Skewness :  5.695864237970746\n",
            "*****************************************************************************************************\n"
          ],
          "name": "stdout"
        },
        {
          "output_type": "display_data",
          "data": {
            "image/png": "[encoded data removed]",
            "text/plain": [
              "<Figure size 648x288 with 1 Axes>"
            ]
          },
          "metadata": {
            "tags": []
          }
        },
        {
          "output_type": "stream",
          "text": [
            "Skewness :  66.64769901774265\n",
            "*****************************************************************************************************\n"
          ],
          "name": "stdout"
        },
        {
          "output_type": "display_data",
          "data": {
            "image/png": "[encoded data removed]",
            "text/plain": [
              "<Figure size 648x288 with 1 Axes>"
            ]
          },
          "metadata": {
            "tags": []
          }
        },
        {
          "output_type": "stream",
          "text": [
            "Skewness :  -64.83678917994041\n",
            "*****************************************************************************************************\n"
          ],
          "name": "stdout"
        },
        {
          "output_type": "display_data",
          "data": {
            "image/png": "[encoded data removed]",
            "text/plain": [
              "<Figure size 648x288 with 1 Axes>"
            ]
          },
          "metadata": {
            "tags": []
          }
        },
        {
          "output_type": "stream",
          "text": [
            "Skewness :  -13.273260906720244\n",
            "*****************************************************************************************************\n"
          ],
          "name": "stdout"
        }
      ]
    },
    {
      "cell_type": "markdown",
      "metadata": {
        "id": "QXlTYqtyNRgH",
        "colab_type": "text"
      },
      "source": [
        "### Observation :\n",
        "- All the above graph is either right skew or left skew.\n"
      ]
    },
    {
      "cell_type": "code",
      "metadata": {
        "id": "ZK4_81kKPlBU",
        "colab_type": "code",
        "outputId": "dc1e4e09-6d9b-483d-8c1f-836da1f7c4ee",
        "colab": {
          "base_uri": "https://localhost:8080/",
          "height": 547
        }
      },
      "source": [
        "# checking correlation among continuous variables\n",
        "\n",
        "crash_conti.corr()"
      ],
      "execution_count": 23,
      "outputs": [
        {
          "output_type": "execute_result",
          "data": {
            "text/html": [
              "<div>\n",
              "<style scoped>\n",
              "    .dataframe tbody tr th:only-of-type {\n",
              "        vertical-align: middle;\n",
              "    }\n",
              "\n",
              "    .dataframe tbody tr th {\n",
              "        vertical-align: top;\n",
              "    }\n",
              "\n",
              "    .dataframe thead th {\n",
              "        text-align: right;\n",
              "    }\n",
              "</style>\n",
              "<table border=\"1\" class=\"dataframe\">\n",
              "  <thead>\n",
              "    <tr style=\"text-align: right;\">\n",
              "      <th></th>\n",
              "      <th>NUMBER OF PERSONS INJURED</th>\n",
              "      <th>NUMBER OF PERSONS KILLED</th>\n",
              "      <th>NUMBER OF PEDESTRIANS INJURED</th>\n",
              "      <th>NUMBER OF PEDESTRIANS KILLED</th>\n",
              "      <th>NUMBER OF CYCLIST INJURED</th>\n",
              "      <th>NUMBER OF CYCLIST KILLED</th>\n",
              "      <th>NUMBER OF MOTORIST INJURED</th>\n",
              "      <th>NUMBER OF MOTORIST KILLED</th>\n",
              "      <th>LATITUDE</th>\n",
              "      <th>LONGITUDE</th>\n",
              "    </tr>\n",
              "  </thead>\n",
              "  <tbody>\n",
              "    <tr>\n",
              "      <th>NUMBER OF PERSONS INJURED</th>\n",
              "      <td>1.000</td>\n",
              "      <td>0.021</td>\n",
              "      <td>0.294</td>\n",
              "      <td>0.007</td>\n",
              "      <td>0.167</td>\n",
              "      <td>0.002</td>\n",
              "      <td>0.909</td>\n",
              "      <td>0.024</td>\n",
              "      <td>-0.001</td>\n",
              "      <td>0.002</td>\n",
              "    </tr>\n",
              "    <tr>\n",
              "      <th>NUMBER OF PERSONS KILLED</th>\n",
              "      <td>0.021</td>\n",
              "      <td>1.000</td>\n",
              "      <td>0.014</td>\n",
              "      <td>0.728</td>\n",
              "      <td>-0.002</td>\n",
              "      <td>0.282</td>\n",
              "      <td>0.018</td>\n",
              "      <td>0.639</td>\n",
              "      <td>0.000</td>\n",
              "      <td>-0.000</td>\n",
              "    </tr>\n",
              "    <tr>\n",
              "      <th>NUMBER OF PEDESTRIANS INJURED</th>\n",
              "      <td>0.294</td>\n",
              "      <td>0.014</td>\n",
              "      <td>1.000</td>\n",
              "      <td>0.020</td>\n",
              "      <td>-0.027</td>\n",
              "      <td>0.004</td>\n",
              "      <td>-0.054</td>\n",
              "      <td>-0.001</td>\n",
              "      <td>0.002</td>\n",
              "      <td>0.000</td>\n",
              "    </tr>\n",
              "    <tr>\n",
              "      <th>NUMBER OF PEDESTRIANS KILLED</th>\n",
              "      <td>0.007</td>\n",
              "      <td>0.728</td>\n",
              "      <td>0.020</td>\n",
              "      <td>1.000</td>\n",
              "      <td>-0.002</td>\n",
              "      <td>0.040</td>\n",
              "      <td>0.001</td>\n",
              "      <td>0.005</td>\n",
              "      <td>0.000</td>\n",
              "      <td>-0.000</td>\n",
              "    </tr>\n",
              "    <tr>\n",
              "      <th>NUMBER OF CYCLIST INJURED</th>\n",
              "      <td>0.167</td>\n",
              "      <td>-0.002</td>\n",
              "      <td>-0.027</td>\n",
              "      <td>-0.002</td>\n",
              "      <td>1.000</td>\n",
              "      <td>0.003</td>\n",
              "      <td>-0.040</td>\n",
              "      <td>-0.003</td>\n",
              "      <td>-0.000</td>\n",
              "      <td>-0.001</td>\n",
              "    </tr>\n",
              "    <tr>\n",
              "      <th>NUMBER OF CYCLIST KILLED</th>\n",
              "      <td>0.002</td>\n",
              "      <td>0.282</td>\n",
              "      <td>0.004</td>\n",
              "      <td>0.040</td>\n",
              "      <td>0.003</td>\n",
              "      <td>1.000</td>\n",
              "      <td>0.000</td>\n",
              "      <td>-0.000</td>\n",
              "      <td>0.000</td>\n",
              "      <td>-0.000</td>\n",
              "    </tr>\n",
              "    <tr>\n",
              "      <th>NUMBER OF MOTORIST INJURED</th>\n",
              "      <td>0.909</td>\n",
              "      <td>0.018</td>\n",
              "      <td>-0.054</td>\n",
              "      <td>0.001</td>\n",
              "      <td>-0.040</td>\n",
              "      <td>0.000</td>\n",
              "      <td>1.000</td>\n",
              "      <td>0.027</td>\n",
              "      <td>-0.001</td>\n",
              "      <td>0.003</td>\n",
              "    </tr>\n",
              "    <tr>\n",
              "      <th>NUMBER OF MOTORIST KILLED</th>\n",
              "      <td>0.024</td>\n",
              "      <td>0.639</td>\n",
              "      <td>-0.001</td>\n",
              "      <td>0.005</td>\n",
              "      <td>-0.003</td>\n",
              "      <td>-0.000</td>\n",
              "      <td>0.027</td>\n",
              "      <td>1.000</td>\n",
              "      <td>0.000</td>\n",
              "      <td>0.000</td>\n",
              "    </tr>\n",
              "    <tr>\n",
              "      <th>LATITUDE</th>\n",
              "      <td>-0.001</td>\n",
              "      <td>0.000</td>\n",
              "      <td>0.002</td>\n",
              "      <td>0.000</td>\n",
              "      <td>-0.000</td>\n",
              "      <td>0.000</td>\n",
              "      <td>-0.001</td>\n",
              "      <td>0.000</td>\n",
              "      <td>1.000</td>\n",
              "      <td>-0.718</td>\n",
              "    </tr>\n",
              "    <tr>\n",
              "      <th>LONGITUDE</th>\n",
              "      <td>0.002</td>\n",
              "      <td>-0.000</td>\n",
              "      <td>0.000</td>\n",
              "      <td>-0.000</td>\n",
              "      <td>-0.001</td>\n",
              "      <td>-0.000</td>\n",
              "      <td>0.003</td>\n",
              "      <td>0.000</td>\n",
              "      <td>-0.718</td>\n",
              "      <td>1.000</td>\n",
              "    </tr>\n",
              "  </tbody>\n",
              "</table>\n",
              "</div>"
            ],
            "text/plain": [
              "                               NUMBER OF PERSONS INJURED  ...  LONGITUDE\n",
              "NUMBER OF PERSONS INJURED                          1.000  ...      0.002\n",
              "NUMBER OF PERSONS KILLED                           0.021  ...     -0.000\n",
              "NUMBER OF PEDESTRIANS INJURED                      0.294  ...      0.000\n",
              "NUMBER OF PEDESTRIANS KILLED                       0.007  ...     -0.000\n",
              "NUMBER OF CYCLIST INJURED                          0.167  ...     -0.001\n",
              "NUMBER OF CYCLIST KILLED                           0.002  ...     -0.000\n",
              "NUMBER OF MOTORIST INJURED                         0.909  ...      0.003\n",
              "NUMBER OF MOTORIST KILLED                          0.024  ...      0.000\n",
              "LATITUDE                                          -0.001  ...     -0.718\n",
              "LONGITUDE                                          0.002  ...      1.000\n",
              "\n",
              "[10 rows x 10 columns]"
            ]
          },
          "metadata": {
            "tags": []
          },
          "execution_count": 23
        }
      ]
    },
    {
      "cell_type": "markdown",
      "metadata": {
        "id": "Gym9XdnwP-mD",
        "colab_type": "text"
      },
      "source": [
        "### Observations :\n",
        "- NUMBER OF PERSONS INJURED is strongly correlated with NUMBER OF MOTORIST INJURED.\n",
        "\n",
        "- NUMBER OF PERSONS KILLED is strongly correlated with NUMBER OF PEDESTRIANS KILLED.\n",
        "\n",
        "- NUMBER OF MOTORIST KILLED is strongly correlated with NUMBER OF PERSONS KILLED.\n",
        "\n",
        "- LONGITUDE is strongly correlated with LATITUDE."
      ]
    },
    {
      "cell_type": "code",
      "metadata": {
        "id": "HJHjfC-HP9rY",
        "colab_type": "code",
        "outputId": "264631ea-a6ad-4dad-c76b-f2fdd6aac0c4",
        "colab": {
          "base_uri": "https://localhost:8080/",
          "height": 1000
        }
      },
      "source": [
        "pd.pivot_table(data=crash,index='BOROUGH',values='NUMBER OF PERSONS INJURED',aggfunc=len).plot(kind='bar',figsize=(8,4))\n",
        "plt.ylabel('Person Injured')\n",
        "plt.show()\n",
        "\n",
        "pd.pivot_table(data=crash,index='BOROUGH',values='NUMBER OF PERSONS KILLED',aggfunc=len).plot(kind='bar',figsize=(8,4))\n",
        "plt.ylabel('Person ')\n",
        "plt.show()\n",
        "\n",
        "pd.pivot_table(data=crash,index='BOROUGH',values='NUMBER OF PEDESTRIANS INJURED',aggfunc=len).plot(kind='bar',figsize=(8,4))\n",
        "plt.ylabel('Pedestrians Injured')\n",
        "plt.show()\n",
        "\n",
        "pd.pivot_table(data=crash,index='BOROUGH',values='NUMBER OF PEDESTRIANS KILLED',aggfunc=len).plot(kind='bar',figsize=(8,4))\n",
        "plt.ylabel('Pedestrians Killed')\n",
        "plt.show()\n",
        "\n"
      ],
      "execution_count": 24,
      "outputs": [
        {
          "output_type": "display_data",
          "data": {
            "image/png": "[encoded data removed]",
            "text/plain": [
              "<Figure size 576x288 with 1 Axes>"
            ]
          },
          "metadata": {
            "tags": []
          }
        },
        {
          "output_type": "display_data",
          "data": {
            "image/png": "[encoded data removed]",
            "text/plain": [
              "<Figure size 576x288 with 1 Axes>"
            ]
          },
          "metadata": {
            "tags": []
          }
        },
        {
          "output_type": "display_data",
          "data": {
            "image/png": "[encoded data removed]",
            "text/plain": [
              "<Figure size 576x288 with 1 Axes>"
            ]
          },
          "metadata": {
            "tags": []
          }
        },
        {
          "output_type": "display_data",
          "data": {
            "image/png": "[encoded data removed]",
            "text/plain": [
              "<Figure size 576x288 with 1 Axes>"
            ]
          },
          "metadata": {
            "tags": []
          }
        }
      ]
    },
    {
      "cell_type": "markdown",
      "metadata": {
        "id": "7dDKr0KzVkTL",
        "colab_type": "text"
      },
      "source": [
        "#### Observations :\n",
        "- Data is similar that's why all graph is similar.\n",
        "- Similarly, we can do for other columns as well."
      ]
    },
    {
      "cell_type": "markdown",
      "metadata": {
        "id": "MLDJilBBtYJX",
        "colab_type": "text"
      },
      "source": [
        "## Draw Conclusions using Inferential Statistics\n",
        "Pick an interesting hypothesis and test it using hypothesis testing. Clearly state what your hypothesis is, what is the population, the sample(s) and the statistics and parameters involved.Explain your choice of p value and significance level.\n",
        "\n",
        "**Hint:** Two interesting hypotheses you can test could be:\n",
        "- The difference in the mean hourly accident rates of two different boroughs throughout the year.\n",
        "- The difference in the mean hourly accidents during day and night time. "
      ]
    },
    {
      "cell_type": "code",
      "metadata": {
        "id": "3cHOQAzsWnaM",
        "colab_type": "code",
        "outputId": "97490e5b-a335-4427-ae4b-4f0d0d5fde4f",
        "colab": {
          "base_uri": "https://localhost:8080/",
          "height": 123
        }
      },
      "source": [
        "# checking number of times each value appearing in 'BOROUGH' column\n",
        "\n",
        "crash['BOROUGH'].value_counts()"
      ],
      "execution_count": 25,
      "outputs": [
        {
          "output_type": "execute_result",
          "data": {
            "text/plain": [
              "BROOKLYN         646792\n",
              "QUEENS           241199\n",
              "MANHATTAN        229290\n",
              "BRONX            123833\n",
              "STATEN ISLAND     41981\n",
              "Name: BOROUGH, dtype: int64"
            ]
          },
          "metadata": {
            "tags": []
          },
          "execution_count": 25
        }
      ]
    },
    {
      "cell_type": "markdown",
      "metadata": {
        "id": "MJVEX8O_3vnO",
        "colab_type": "text"
      },
      "source": [
        "#### Observation :\n",
        "- 'BROOKLYN' occuring most number of times, I am going to use this data for the formulation of hypothesis."
      ]
    },
    {
      "cell_type": "code",
      "metadata": {
        "id": "dOHWUxnfXUrL",
        "colab_type": "code",
        "outputId": "212cec44-aa1e-4469-fa8b-2c3c9ca7b940",
        "colab": {
          "base_uri": "https://localhost:8080/",
          "height": 34
        }
      },
      "source": [
        "# extracting all rows which contains 'BROOKLYN'\n",
        "\n",
        "accident = crash[crash['BOROUGH']=='BROOKLYN']\n",
        "accident.shape"
      ],
      "execution_count": 26,
      "outputs": [
        {
          "output_type": "execute_result",
          "data": {
            "text/plain": [
              "(646792, 20)"
            ]
          },
          "metadata": {
            "tags": []
          },
          "execution_count": 26
        }
      ]
    },
    {
      "cell_type": "code",
      "metadata": {
        "id": "PIySw7dda1K_",
        "colab_type": "code",
        "outputId": "0b9045a6-ce13-4bc6-c82a-f51a8768e847",
        "colab": {
          "base_uri": "https://localhost:8080/",
          "height": 406
        }
      },
      "source": [
        "# only two columns are required for hypothesis testing\n",
        "\n",
        "population = accident[['BOROUGH','NUMBER OF PERSONS INJURED']]\n",
        "population"
      ],
      "execution_count": 27,
      "outputs": [
        {
          "output_type": "execute_result",
          "data": {
            "text/html": [
              "<div>\n",
              "<style scoped>\n",
              "    .dataframe tbody tr th:only-of-type {\n",
              "        vertical-align: middle;\n",
              "    }\n",
              "\n",
              "    .dataframe tbody tr th {\n",
              "        vertical-align: top;\n",
              "    }\n",
              "\n",
              "    .dataframe thead th {\n",
              "        text-align: right;\n",
              "    }\n",
              "</style>\n",
              "<table border=\"1\" class=\"dataframe\">\n",
              "  <thead>\n",
              "    <tr style=\"text-align: right;\">\n",
              "      <th></th>\n",
              "      <th>BOROUGH</th>\n",
              "      <th>NUMBER OF PERSONS INJURED</th>\n",
              "    </tr>\n",
              "  </thead>\n",
              "  <tbody>\n",
              "    <tr>\n",
              "      <th>0</th>\n",
              "      <td>BROOKLYN</td>\n",
              "      <td>0</td>\n",
              "    </tr>\n",
              "    <tr>\n",
              "      <th>1</th>\n",
              "      <td>BROOKLYN</td>\n",
              "      <td>0</td>\n",
              "    </tr>\n",
              "    <tr>\n",
              "      <th>3</th>\n",
              "      <td>BROOKLYN</td>\n",
              "      <td>0</td>\n",
              "    </tr>\n",
              "    <tr>\n",
              "      <th>4</th>\n",
              "      <td>BROOKLYN</td>\n",
              "      <td>0</td>\n",
              "    </tr>\n",
              "    <tr>\n",
              "      <th>6</th>\n",
              "      <td>BROOKLYN</td>\n",
              "      <td>1</td>\n",
              "    </tr>\n",
              "    <tr>\n",
              "      <th>...</th>\n",
              "      <td>...</td>\n",
              "      <td>...</td>\n",
              "    </tr>\n",
              "    <tr>\n",
              "      <th>1293995</th>\n",
              "      <td>BROOKLYN</td>\n",
              "      <td>0</td>\n",
              "    </tr>\n",
              "    <tr>\n",
              "      <th>1293998</th>\n",
              "      <td>BROOKLYN</td>\n",
              "      <td>0</td>\n",
              "    </tr>\n",
              "    <tr>\n",
              "      <th>1294000</th>\n",
              "      <td>BROOKLYN</td>\n",
              "      <td>1</td>\n",
              "    </tr>\n",
              "    <tr>\n",
              "      <th>1294001</th>\n",
              "      <td>BROOKLYN</td>\n",
              "      <td>0</td>\n",
              "    </tr>\n",
              "    <tr>\n",
              "      <th>1294007</th>\n",
              "      <td>BROOKLYN</td>\n",
              "      <td>0</td>\n",
              "    </tr>\n",
              "  </tbody>\n",
              "</table>\n",
              "<p>646792 rows × 2 columns</p>\n",
              "</div>"
            ],
            "text/plain": [
              "          BOROUGH  NUMBER OF PERSONS INJURED\n",
              "0        BROOKLYN                          0\n",
              "1        BROOKLYN                          0\n",
              "3        BROOKLYN                          0\n",
              "4        BROOKLYN                          0\n",
              "6        BROOKLYN                          1\n",
              "...           ...                        ...\n",
              "1293995  BROOKLYN                          0\n",
              "1293998  BROOKLYN                          0\n",
              "1294000  BROOKLYN                          1\n",
              "1294001  BROOKLYN                          0\n",
              "1294007  BROOKLYN                          0\n",
              "\n",
              "[646792 rows x 2 columns]"
            ]
          },
          "metadata": {
            "tags": []
          },
          "execution_count": 27
        }
      ]
    },
    {
      "cell_type": "markdown",
      "metadata": {
        "id": "pBCDq38X7uzK",
        "colab_type": "text"
      },
      "source": [
        "#### Hypothesis formulation\n",
        "\n",
        "- Null Hypothesis :\n",
        "Average number of person injured in BROOKLYN = 0.19 (19 Injuries per 100)\n",
        "- Alternate Hypothesis :\n",
        "Average number of person injured in BROOKLYN != 0.19 (19 Injuries per 100)\n",
        "\n",
        "So, It is two tailed test.\n",
        "\n",
        "#### Population :\n",
        "- population dataframe which contains columns BOROUGH and NUMBER OF PERSONS INJURED and number of rows equals 666792.\n",
        "\n",
        "#### Sample :\n",
        "- I will pick 100 random data from population dataframe.\n",
        "\n",
        "#### Reference for Null Hypothesis and Alternate Hypothesis data :\n",
        "https://www.autoinsurancecenter.com/traffic-accidents-in-new-york-city.htm\n"
      ]
    },
    {
      "cell_type": "code",
      "metadata": {
        "id": "r6_vTtuga1VB",
        "colab_type": "code",
        "outputId": "0206d6d8-d3d3-42c8-b36c-f2bf8d206b6a",
        "colab": {
          "base_uri": "https://localhost:8080/",
          "height": 406
        }
      },
      "source": [
        "# extracting 100 rows from population data \n",
        "\n",
        "sample = population.sample(n=100,random_state=250)\n",
        "sample"
      ],
      "execution_count": 28,
      "outputs": [
        {
          "output_type": "execute_result",
          "data": {
            "text/html": [
              "<div>\n",
              "<style scoped>\n",
              "    .dataframe tbody tr th:only-of-type {\n",
              "        vertical-align: middle;\n",
              "    }\n",
              "\n",
              "    .dataframe tbody tr th {\n",
              "        vertical-align: top;\n",
              "    }\n",
              "\n",
              "    .dataframe thead th {\n",
              "        text-align: right;\n",
              "    }\n",
              "</style>\n",
              "<table border=\"1\" class=\"dataframe\">\n",
              "  <thead>\n",
              "    <tr style=\"text-align: right;\">\n",
              "      <th></th>\n",
              "      <th>BOROUGH</th>\n",
              "      <th>NUMBER OF PERSONS INJURED</th>\n",
              "    </tr>\n",
              "  </thead>\n",
              "  <tbody>\n",
              "    <tr>\n",
              "      <th>59052</th>\n",
              "      <td>BROOKLYN</td>\n",
              "      <td>0</td>\n",
              "    </tr>\n",
              "    <tr>\n",
              "      <th>233336</th>\n",
              "      <td>BROOKLYN</td>\n",
              "      <td>0</td>\n",
              "    </tr>\n",
              "    <tr>\n",
              "      <th>324141</th>\n",
              "      <td>BROOKLYN</td>\n",
              "      <td>6</td>\n",
              "    </tr>\n",
              "    <tr>\n",
              "      <th>885118</th>\n",
              "      <td>BROOKLYN</td>\n",
              "      <td>2</td>\n",
              "    </tr>\n",
              "    <tr>\n",
              "      <th>477122</th>\n",
              "      <td>BROOKLYN</td>\n",
              "      <td>0</td>\n",
              "    </tr>\n",
              "    <tr>\n",
              "      <th>...</th>\n",
              "      <td>...</td>\n",
              "      <td>...</td>\n",
              "    </tr>\n",
              "    <tr>\n",
              "      <th>1238330</th>\n",
              "      <td>BROOKLYN</td>\n",
              "      <td>0</td>\n",
              "    </tr>\n",
              "    <tr>\n",
              "      <th>1003787</th>\n",
              "      <td>BROOKLYN</td>\n",
              "      <td>1</td>\n",
              "    </tr>\n",
              "    <tr>\n",
              "      <th>365419</th>\n",
              "      <td>BROOKLYN</td>\n",
              "      <td>0</td>\n",
              "    </tr>\n",
              "    <tr>\n",
              "      <th>1001865</th>\n",
              "      <td>BROOKLYN</td>\n",
              "      <td>0</td>\n",
              "    </tr>\n",
              "    <tr>\n",
              "      <th>931401</th>\n",
              "      <td>BROOKLYN</td>\n",
              "      <td>0</td>\n",
              "    </tr>\n",
              "  </tbody>\n",
              "</table>\n",
              "<p>100 rows × 2 columns</p>\n",
              "</div>"
            ],
            "text/plain": [
              "          BOROUGH  NUMBER OF PERSONS INJURED\n",
              "59052    BROOKLYN                          0\n",
              "233336   BROOKLYN                          0\n",
              "324141   BROOKLYN                          6\n",
              "885118   BROOKLYN                          2\n",
              "477122   BROOKLYN                          0\n",
              "...           ...                        ...\n",
              "1238330  BROOKLYN                          0\n",
              "1003787  BROOKLYN                          1\n",
              "365419   BROOKLYN                          0\n",
              "1001865  BROOKLYN                          0\n",
              "931401   BROOKLYN                          0\n",
              "\n",
              "[100 rows x 2 columns]"
            ]
          },
          "metadata": {
            "tags": []
          },
          "execution_count": 28
        }
      ]
    },
    {
      "cell_type": "code",
      "metadata": {
        "id": "MKqQDSCPArtw",
        "colab_type": "code",
        "outputId": "bda6a229-e9c4-4184-aca2-6f2cb82a2291",
        "colab": {
          "base_uri": "https://localhost:8080/",
          "height": 52
        }
      },
      "source": [
        "mean = sample['NUMBER OF PERSONS INJURED'].mean()\n",
        "std = sample['NUMBER OF PERSONS INJURED'].std()\n",
        "\n",
        "print('sample mean : ',mean)\n",
        "print('sample standard deviation : ',std)"
      ],
      "execution_count": 29,
      "outputs": [
        {
          "output_type": "stream",
          "text": [
            "sample mean :  0.33\n",
            "sample standard deviation :  0.888251033767989\n"
          ],
          "name": "stdout"
        }
      ]
    },
    {
      "cell_type": "code",
      "metadata": {
        "id": "IwzsZ7j6CFuA",
        "colab_type": "code",
        "outputId": "cd8aff64-a11d-4cf9-dff2-0a9ce0a93b2b",
        "colab": {
          "base_uri": "https://localhost:8080/",
          "height": 34
        }
      },
      "source": [
        "# now calculating Z - Score using formula \n",
        "# z = (sample mean - population mean) / (sample standard deviation / square root of sample size)\n",
        "\n",
        "z = (mean - 0.19)/(std/np.sqrt(100))\n",
        "z"
      ],
      "execution_count": 31,
      "outputs": [
        {
          "output_type": "execute_result",
          "data": {
            "text/plain": [
              "1.576131011141249"
            ]
          },
          "metadata": {
            "tags": []
          },
          "execution_count": 31
        }
      ]
    },
    {
      "cell_type": "markdown",
      "metadata": {
        "id": "nU_knOAhsseT",
        "colab_type": "text"
      },
      "source": [
        "#### Results :\n",
        "\n",
        "#### Method 1 :\n",
        "- Generally, significance level = 5 % or 3% is taken in industry and there is no such fixed rule for it, it all depends on business problem.I am taking 5 % significance level.\n",
        "\n",
        "- So 5/2 % = 2.5 % or 0.025 is the area on both side of normal distribution curve (two-tailed).\n",
        "\n",
        "- so for 95% confidence interval, z lies from -1.96 and 1.96 .\n",
        "\n",
        "- z score ( 1.57 ) which we had calculated lies in the interval -1.96 to 1.96 implies, we can't reject the null hypothesis or failed to reject the null hypothesis.\n",
        "\n",
        "#### Method 2 :\n",
        "- Taking p-value = 5 % or 0.05 .\n",
        "- The area to the left of z = -1.57 is 0.05821 .\n",
        "- But it is two tailed test so total area is 0.05821 * 2 = 0.11642\n",
        "- total area, 0.11642 is greater than 0.05 implies, we can't reject the null hypothesis or failed to reject the null hypothesis.\n",
        "\n",
        "So the data given in that article (whose link I have attached) is correct.\n",
        "\n"
      ]
    },
    {
      "cell_type": "markdown",
      "metadata": {
        "id": "EM1eInW9Feu0",
        "colab_type": "text"
      },
      "source": [
        "#### Note :\n",
        "\n",
        "- Similarly, we can form other hypothesis by observing (and thinking possibility) on different columns."
      ]
    },
    {
      "cell_type": "markdown",
      "metadata": {
        "id": "SFzyDH4Gbs9q",
        "colab_type": "text"
      },
      "source": [
        "### References :\n",
        "- https://www.youtube.com/watch?v=oqMImCeXi6o { for loading dataset from drive }\n",
        "- Stackoveflow { to clear any confusion which arise during any step of analysis }"
      ]
    },
    {
      "cell_type": "markdown",
      "metadata": {
        "id": "AZVNRzDdb3Mr",
        "colab_type": "text"
      },
      "source": [
        "#### Note :\n",
        "- I had not work with date-time etc related data/concept depthwise that's why I had not used column 1 and column 2 for hypothesis testing.\n",
        "- Willing to learn these concepts as well."
      ]
    }
  ]
}